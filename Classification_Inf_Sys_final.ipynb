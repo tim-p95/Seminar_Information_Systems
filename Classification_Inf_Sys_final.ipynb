{
  "nbformat": 4,
  "nbformat_minor": 0,
  "metadata": {
    "colab": {
      "name": "Class_Inf_Sys_final_ver2.ipynb",
      "provenance": [],
      "collapsed_sections": [
        "kkx09ubKy50A"
      ],
      "toc_visible": true,
      "machine_shape": "hm"
    },
    "kernelspec": {
      "name": "python3",
      "display_name": "Python 3"
    },
    "accelerator": "GPU"
  },
  "cells": [
    {
      "cell_type": "markdown",
      "metadata": {
        "id": "tJCNmuH4rOiN",
        "colab_type": "text"
      },
      "source": [
        "# Text Classification\n",
        "\n",
        "\n",
        "\n"
      ]
    },
    {
      "cell_type": "markdown",
      "metadata": {
        "id": "Cg5zmsoAjIYU",
        "colab_type": "text"
      },
      "source": [
        "## Connecting to Google Drive"
      ]
    },
    {
      "cell_type": "code",
      "metadata": {
        "id": "kEwPoIldvvf4",
        "colab_type": "code",
        "outputId": "c9b0c4a4-eab6-4683-e669-4bd55e09259e",
        "colab": {
          "base_uri": "https://localhost:8080/",
          "height": 53
        }
      },
      "source": [
        "from google.colab import drive\n",
        "drive.mount('/content/drive')"
      ],
      "execution_count": 0,
      "outputs": [
        {
          "output_type": "stream",
          "text": [
            "Drive already mounted at /content/drive; to attempt to forcibly remount, call drive.mount(\"/content/drive\", force_remount=True).\n"
          ],
          "name": "stdout"
        }
      ]
    },
    {
      "cell_type": "markdown",
      "metadata": {
        "id": "WpeKHPcxjObP",
        "colab_type": "text"
      },
      "source": [
        "## Data Preparation"
      ]
    },
    {
      "cell_type": "markdown",
      "metadata": {
        "id": "ao6wvur7jx0J",
        "colab_type": "text"
      },
      "source": [
        "### Import Data"
      ]
    },
    {
      "cell_type": "code",
      "metadata": {
        "id": "0yTK_DbXBo8-",
        "colab_type": "code",
        "outputId": "b5f89ffc-facd-432a-9257-975ea305ade0",
        "colab": {
          "base_uri": "https://localhost:8080/",
          "height": 50
        }
      },
      "source": [
        "import pandas as pd\n",
        "\n",
        "#load datasets\n",
        "text_classification_train = pd.read_csv(\"/content/drive/My Drive/text_classification_train.csv\")\n",
        "text_classification_test = pd.read_csv(\"/content/drive/My Drive/text_classification_test.csv\")\n",
        "\n",
        "print(text_classification_train.shape)\n",
        "print(text_classification_test.shape)"
      ],
      "execution_count": 0,
      "outputs": [
        {
          "output_type": "stream",
          "text": [
            "(1568462, 7)\n",
            "(392116, 7)\n"
          ],
          "name": "stdout"
        }
      ]
    },
    {
      "cell_type": "code",
      "metadata": {
        "id": "c3xtFRdmyJ_-",
        "colab_type": "code",
        "outputId": "ffeb3fa8-26e9-4874-b49f-71acbc267bab",
        "colab": {
          "base_uri": "https://localhost:8080/",
          "height": 33
        }
      },
      "source": [
        "#examine distribution of comment labels (published - not published)\n",
        "val_counts = text_classification_train.published.value_counts()\n",
        "val_counts = val_counts.rename_axis('unique_values').reset_index(name='counts')\n",
        "\n",
        "#percentage of published comments\n",
        "print(\"Percentage of published comments:\", 1-val_counts.counts[1]/val_counts.counts[0])"
      ],
      "execution_count": 0,
      "outputs": [
        {
          "output_type": "stream",
          "text": [
            "Percentage of published comments: 0.8489957363743772\n"
          ],
          "name": "stdout"
        }
      ]
    },
    {
      "cell_type": "markdown",
      "metadata": {
        "id": "6MI888ZAgjW0",
        "colab_type": "text"
      },
      "source": [
        "### Data Selection (depending on number of generated comments)"
      ]
    },
    {
      "cell_type": "code",
      "metadata": {
        "id": "bN6VRfwE2X-9",
        "colab_type": "code",
        "outputId": "e48ada0d-c919-40c8-eaac-a245a4bef8b3",
        "colab": {
          "base_uri": "https://localhost:8080/",
          "height": 33
        }
      },
      "source": [
        "#specify number of comments to use for training set based on number of available generated comments\n",
        "perc_published = 1-val_counts.counts[1]/val_counts.counts[0]\n",
        "perc_offline = val_counts.counts[1]/val_counts.counts[0]\n",
        "\n",
        "#calculate difference between percentage\n",
        "perc_difference = perc_published - perc_offline\n",
        "\n",
        "#total number of available real comments\n",
        "total_comments = len(text_classification_train)\n",
        "\n",
        "#number of available real published comments\n",
        "number_published_comments = sum(text_classification_train['published'] == True)\n",
        "\n",
        "#number of available real offline comments\n",
        "number_offline_comments = sum(text_classification_train['published'] == False)\n",
        "\n",
        "#specify necessary comments to use whole dataset\n",
        "necessary_comments = (perc_difference*total_comments)-number_offline_comments\n",
        "\n",
        "#set number of available generated comments\n",
        "gen_comments = 100000\n",
        "\n",
        "#ratio between generated comments and necessary comments\n",
        "gen_necessary_ratio = gen_comments/necessary_comments\n",
        "\n",
        "#reduce number of offline comments by ratio of actual and necessary generated comments\n",
        "number_offline_comments_new = number_offline_comments*gen_necessary_ratio\n",
        "\n",
        "#calculate total offline comments (reduced real comments + generated comments)\n",
        "total_offline = number_offline_comments_new + gen_comments\n",
        "\n",
        "#calculate how many observations from training set can be used --> real offline comments (gen + real - gen) = total published comments)\n",
        "total_comments_final = int((total_offline*2)-gen_comments)\n",
        "print(\"Real comments to use:\", total_comments_final)"
      ],
      "execution_count": 0,
      "outputs": [
        {
          "output_type": "stream",
          "text": [
            "Real comments to use: 146292\n"
          ],
          "name": "stdout"
        }
      ]
    },
    {
      "cell_type": "markdown",
      "metadata": {
        "id": "9TzkDjh6kOvA",
        "colab_type": "text"
      },
      "source": [
        "#### Using Reduced Training Data"
      ]
    },
    {
      "cell_type": "code",
      "metadata": {
        "id": "O8c-ive2gph9",
        "colab_type": "code",
        "outputId": "9a71f6d1-bbee-4a8b-c99d-319262f02775",
        "colab": {
          "base_uri": "https://localhost:8080/",
          "height": 33
        }
      },
      "source": [
        "#take sample of original training data\n",
        "text_classification_train_reduced = text_classification_train.sample(n = total_comments_final, random_state = 1)\n",
        "print(len(text_classification_train_reduced))"
      ],
      "execution_count": 0,
      "outputs": [
        {
          "output_type": "stream",
          "text": [
            "146292\n"
          ],
          "name": "stdout"
        }
      ]
    },
    {
      "cell_type": "code",
      "metadata": {
        "id": "SdXyidSi4vWV",
        "colab_type": "code",
        "outputId": "122e0859-45ed-482b-94bb-a7cbf623decc",
        "colab": {
          "base_uri": "https://localhost:8080/",
          "height": 33
        }
      },
      "source": [
        "#determine number of necessary comments to use whole dataset\n",
        "necessary_comments = int((perc_difference*total_comments)-number_offline_comments)\n",
        "print(necessary_comments)"
      ],
      "execution_count": 0,
      "outputs": [
        {
          "output_type": "stream",
          "text": [
            "889001\n"
          ],
          "name": "stdout"
        }
      ]
    },
    {
      "cell_type": "code",
      "metadata": {
        "id": "1deDLRrOHoZM",
        "colab_type": "code",
        "outputId": "8fe5ea21-c8cf-4895-a905-aa697118a0a0",
        "colab": {
          "base_uri": "https://localhost:8080/",
          "height": 33
        }
      },
      "source": [
        "#reduce size of testing set to speed up validation\n",
        "text_classification_test_reduced = text_classification_test.sample(n = 50000, random_state = 1)\n",
        "len(text_classification_test_reduced)"
      ],
      "execution_count": 0,
      "outputs": [
        {
          "output_type": "execute_result",
          "data": {
            "text/plain": [
              "50000"
            ]
          },
          "metadata": {
            "tags": []
          },
          "execution_count": 7
        }
      ]
    },
    {
      "cell_type": "markdown",
      "metadata": {
        "id": "EsXghr55Bz7G",
        "colab_type": "text"
      },
      "source": [
        "### Cleaning Data"
      ]
    },
    {
      "cell_type": "markdown",
      "metadata": {
        "id": "VhX-WZQ4jNM4",
        "colab_type": "text"
      },
      "source": [
        "#### Replace Umlaute"
      ]
    },
    {
      "cell_type": "code",
      "metadata": {
        "id": "OJk-u-6yOlCp",
        "colab_type": "code",
        "outputId": "d7f691d7-8c46-4d6e-f517-9632996a0be5",
        "colab": {
          "base_uri": "https://localhost:8080/",
          "height": 217
        }
      },
      "source": [
        "import re\n",
        "\n",
        "#replace ä -> ae, ö -> oe, ü -> ue \n",
        "def replace_umlaute(text_df_col):\n",
        "    text_df_col = text_df_col.apply(lambda x: re.sub(r'ä', 'ae', str(x)))\n",
        "    text_df_col = text_df_col.apply(lambda x: re.sub(r'ö', 'oe', str(x)))\n",
        "    text_df_col = text_df_col.apply(lambda x: re.sub(r'ü', 'ue', str(x)))\n",
        "\n",
        "    return text_df_col\n",
        "\n",
        "text_classification_train_reduced['text'] = replace_umlaute(text_classification_train_reduced['text'])\n",
        "text_classification_test_reduced['text'] = replace_umlaute(text_classification_test_reduced['text'])\n",
        "\n",
        "print(text_classification_train_reduced['text'][:5])\n",
        "print(text_classification_test_reduced['text'][:5])"
      ],
      "execution_count": 0,
      "outputs": [
        {
          "output_type": "stream",
          "text": [
            "393613     haette eigentlich titelseite welt online gehoert\n",
            "947179    bitterer witz aufs kopftuch uebertragen na gut...\n",
            "14697     akk zementiert merkel geschaffen neue sed sozi...\n",
            "979769    ja supi ganz toll nicht meinungen auseinanders...\n",
            "255632         schwaetzt mal gerne thema herr kreuzabnehmer\n",
            "Name: text, dtype: object\n",
            "68418     presse meinungsfreiheit gehoert forum meinung ...\n",
            "216744    nicht klassische spd politik zeit sprudelnder ...\n",
            "278474               laender geburtenuebetschuss aussiedeln\n",
            "88057                   womit versucht merkel runden kommen\n",
            "205125    stiften broders internet aktivitaeten seit ger...\n",
            "Name: text, dtype: object\n"
          ],
          "name": "stdout"
        }
      ]
    },
    {
      "cell_type": "markdown",
      "metadata": {
        "id": "eBx69dw9Cvsq",
        "colab_type": "text"
      },
      "source": [
        "#### Stemming"
      ]
    },
    {
      "cell_type": "code",
      "metadata": {
        "id": "SeN3wraaCu4B",
        "colab_type": "code",
        "colab": {}
      },
      "source": [
        "from nltk.stem.snowball import SnowballStemmer\n",
        "\n",
        "stemmer = SnowballStemmer(\"german\")"
      ],
      "execution_count": 0,
      "outputs": []
    },
    {
      "cell_type": "code",
      "metadata": {
        "id": "_er78HeoC7g_",
        "colab_type": "code",
        "colab": {}
      },
      "source": [
        "#stemming for reduced training data\n",
        "nrows = len(text_classification_train_reduced)\n",
        "stem_text_list = []\n",
        "\n",
        "for row in range(0, nrows):\n",
        "    \n",
        "    # Create an empty list containing lemmatized words\n",
        "    stem_list = []\n",
        "    \n",
        "    # Save the text and its words into an object\n",
        "    text = text_classification_train_reduced.iloc[row]['text']\n",
        "        \n",
        "    # Stemming text\n",
        "    stem_text = stemmer.stem(text)\n",
        "    \n",
        "    # Append to the list containing the texts\n",
        "    stem_text_list.append(stem_text)\n",
        "\n",
        "text_classification_train_reduced['text'] = stem_text_list"
      ],
      "execution_count": 0,
      "outputs": []
    },
    {
      "cell_type": "code",
      "metadata": {
        "id": "PKDujC3_ynxD",
        "colab_type": "code",
        "colab": {}
      },
      "source": [
        "#stemming for test data\n",
        "nrows = len(text_classification_test_reduced)\n",
        "stem_text_list = []\n",
        "\n",
        "for row in range(0, nrows):\n",
        "    \n",
        "    # Create an empty list containing stemmed words\n",
        "    stem_list = []\n",
        "    \n",
        "    # Save the text and its words into an object\n",
        "    text = text_classification_test_reduced.iloc[row]['text']\n",
        "        \n",
        "    # Stemming text\n",
        "    stem_text = stemmer.stem(text)\n",
        "    \n",
        "    # Append to the list containing the texts\n",
        "    stem_text_list.append(stem_text)\n",
        "\n",
        "text_classification_test_reduced['text'] = stem_text_list"
      ],
      "execution_count": 0,
      "outputs": []
    },
    {
      "cell_type": "markdown",
      "metadata": {
        "id": "kkx09ubKy50A",
        "colab_type": "text"
      },
      "source": [
        "### Remove Words that occur too infrequently"
      ]
    },
    {
      "cell_type": "code",
      "metadata": {
        "id": "AwFYDWEWy4sL",
        "colab_type": "code",
        "colab": {}
      },
      "source": [
        "# #count frequencies of word occurrences\n",
        "# word_counts = text_classification_train_reduced.text.str.split(expand=True).stack().value_counts()\n",
        "\n",
        "# print(word_counts[:10])\n",
        "\n",
        "# #crashes RAM when using all comments"
      ],
      "execution_count": 0,
      "outputs": []
    },
    {
      "cell_type": "code",
      "metadata": {
        "id": "Ox7lVbuiznL9",
        "colab_type": "code",
        "colab": {}
      },
      "source": [
        "# #convert word count object to regular data frame\n",
        "# word_counts_df = word_counts.to_frame()\n",
        "\n",
        "# #rename frequency column\n",
        "# word_counts_df.columns = ['freq']\n",
        "\n",
        "# # #change row names (words) to individual column in word count data frame\n",
        "# word_counts_df.index.name = 'word'\n",
        "# word_counts_df.reset_index(inplace=True)\n",
        "\n",
        "# print(word_counts_df[:5])"
      ],
      "execution_count": 0,
      "outputs": []
    },
    {
      "cell_type": "code",
      "metadata": {
        "id": "-9ycKeL-4FbK",
        "colab_type": "code",
        "colab": {}
      },
      "source": [
        "# #setting frequency threshold for words\n",
        "# min_word_freq = 1\n",
        "\n",
        "# # #filter data frame and create list of words that have to be removed due to infrequent occurrence\n",
        "# words_to_remove = list(word_counts_df[word_counts_df['freq'] <= min_word_freq]['word'])\n",
        "# print(words_to_remove[:5])"
      ],
      "execution_count": 0,
      "outputs": []
    },
    {
      "cell_type": "code",
      "metadata": {
        "id": "i_XzlyYL1rgl",
        "colab_type": "code",
        "colab": {}
      },
      "source": [
        "# #number of words that are removed\n",
        "# len(words_to_remove)"
      ],
      "execution_count": 0,
      "outputs": []
    },
    {
      "cell_type": "code",
      "metadata": {
        "id": "mZVhcULL-gvj",
        "colab_type": "code",
        "colab": {}
      },
      "source": [
        "# # remove infrequent words\n",
        "# remove_pattern = r'\\b(?:{})\\b'.format('|'.join(words_to_remove))\n",
        "\n",
        "# df['text'] = df['text'].apply(lambda x: re.sub(remove_pattern, '', x))"
      ],
      "execution_count": 0,
      "outputs": []
    },
    {
      "cell_type": "code",
      "metadata": {
        "id": "7R0saABmJKG4",
        "colab_type": "code",
        "colab": {}
      },
      "source": [
        "# df['text'] = classification_text_cleaning(df['text'])\n",
        "# df['text'].head()"
      ],
      "execution_count": 0,
      "outputs": []
    },
    {
      "cell_type": "code",
      "metadata": {
        "id": "YtzrpL_o0q37",
        "colab_type": "code",
        "colab": {}
      },
      "source": [
        "#remove words from list that occur too infrequently\n",
        "# for word in words_to_remove:\n",
        "#     regex_stopword = r\"\\b\" + stop_word + r\"\\b\"\n",
        "#     df['text'] = df['text'].str.replace(regex_stopword, '')"
      ],
      "execution_count": 0,
      "outputs": []
    },
    {
      "cell_type": "markdown",
      "metadata": {
        "id": "lToe9m3vBcz3",
        "colab_type": "text"
      },
      "source": [
        "## Classification for imbalanced Data"
      ]
    },
    {
      "cell_type": "code",
      "metadata": {
        "colab_type": "code",
        "id": "z2ltM0oJF5Vu",
        "colab": {}
      },
      "source": [
        "#preparing data\n",
        "comment_train = text_classification_train_reduced['text']\n",
        "comment_test = text_classification_test_reduced['text']\n",
        "label_train = text_classification_train_reduced['published']\n",
        "label_test = text_classification_test_reduced['published']"
      ],
      "execution_count": 0,
      "outputs": []
    },
    {
      "cell_type": "code",
      "metadata": {
        "id": "0xV__sq1H3ZC",
        "colab_type": "code",
        "outputId": "1203899d-2a2a-4386-a61e-ed26f558334c",
        "colab": {
          "base_uri": "https://localhost:8080/",
          "height": 84
        }
      },
      "source": [
        "print(comment_train.shape)\n",
        "print(comment_test.shape)\n",
        "print(label_train.shape)\n",
        "print(label_test.shape)"
      ],
      "execution_count": 0,
      "outputs": [
        {
          "output_type": "stream",
          "text": [
            "(146292,)\n",
            "(50000,)\n",
            "(146292,)\n",
            "(50000,)\n"
          ],
          "name": "stdout"
        }
      ]
    },
    {
      "cell_type": "markdown",
      "metadata": {
        "id": "TxQpwns_cm1s",
        "colab_type": "text"
      },
      "source": [
        "### BOW Classifier"
      ]
    },
    {
      "cell_type": "code",
      "metadata": {
        "id": "qOFTymgjcuvK",
        "colab_type": "code",
        "colab": {}
      },
      "source": [
        "def bow_classification(comment_train, comment_test):\n",
        "\n",
        "    from sklearn.feature_extraction.text import CountVectorizer\n",
        "\n",
        "    #count word occurrences\n",
        "    vectorizer = CountVectorizer()\n",
        "    vectorizer.fit(comment_train)\n",
        "\n",
        "    #prepare training and test data for BOW model\n",
        "    X_train_bow = vectorizer.transform(comment_train)\n",
        "    X_test_bow  = vectorizer.transform(comment_test)\n",
        "\n",
        "    ### logisitc regression:\n",
        "    from sklearn.linear_model import LogisticRegression\n",
        "\n",
        "    #train logisitc regression model\n",
        "    classifier = LogisticRegression()\n",
        "    classifier.fit(X_train_bow, label_train)\n",
        "\n",
        "    #predict class probabilities\n",
        "    pred_bow = classifier.predict_proba(X_test_bow)\n",
        "    pred_bow = pred_bow[:, 1]\n",
        "\n",
        "    return pred_bow"
      ],
      "execution_count": 0,
      "outputs": []
    },
    {
      "cell_type": "markdown",
      "metadata": {
        "colab_type": "text",
        "id": "yW3-I78ee8oE"
      },
      "source": [
        "#### Calculate Evaluation Metrics"
      ]
    },
    {
      "cell_type": "code",
      "metadata": {
        "id": "ApoNueDbmmbj",
        "colab_type": "code",
        "colab": {}
      },
      "source": [
        "def class_prediction(predicted_percentages_list):\n",
        "    #convert proabilities to class predictions\n",
        "    pred_class_df = pd.DataFrame(predicted_percentages_list, columns = ['prob_pred'])\n",
        "    pred_class_df['class_pred'] = pred_class_df['prob_pred'].apply(lambda x: 1 if x > 0.5 else 0)\n",
        "\n",
        "    return pred_class_df"
      ],
      "execution_count": 0,
      "outputs": []
    },
    {
      "cell_type": "code",
      "metadata": {
        "id": "LYzIkIxsnck7",
        "colab_type": "code",
        "outputId": "4990de03-3da8-42c9-8784-adc062552e7b",
        "colab": {
          "base_uri": "https://localhost:8080/",
          "height": 334
        }
      },
      "source": [
        "#calculate class predictions\n",
        "pred_bow_imbalanced_class = class_prediction(pred_bow_imbalanced)\n",
        "\n",
        "print(pred_bow_imbalanced_class[pred_bow_imbalanced_class['prob_pred'] < 0.5][:5])\n",
        "print(pred_bow_imbalanced_class[pred_bow_imbalanced_class['prob_pred'] >= 0.5][:5])\n",
        "\n",
        "print(len(pred_bow_imbalanced_class))\n",
        "print(text_classification_test_reduced.published[:5])"
      ],
      "execution_count": 0,
      "outputs": [
        {
          "output_type": "stream",
          "text": [
            "     prob_pred  class_pred\n",
            "0     0.085042           0\n",
            "47    0.486193           0\n",
            "68    0.442957           0\n",
            "140   0.276745           0\n",
            "171   0.224032           0\n",
            "   prob_pred  class_pred\n",
            "1   0.999629           1\n",
            "2   0.827315           1\n",
            "3   0.885393           1\n",
            "4   0.977378           1\n",
            "5   0.808617           1\n",
            "50000\n",
            "68418      True\n",
            "216744     True\n",
            "278474     True\n",
            "88057     False\n",
            "205125     True\n",
            "Name: online, dtype: bool\n"
          ],
          "name": "stdout"
        }
      ]
    },
    {
      "cell_type": "markdown",
      "metadata": {
        "id": "4-Dal3LFyAX7",
        "colab_type": "text"
      },
      "source": [
        "##### Confusion Matrix"
      ]
    },
    {
      "cell_type": "code",
      "metadata": {
        "id": "fT_dbsxPpXLD",
        "colab_type": "code",
        "colab": {}
      },
      "source": [
        "def conf_matrix(pred_class_df_col, true_class_df_col):\n",
        "    #prepare data\n",
        "    cm_data = {'class_pred': list(pred_class_df_col),\n",
        "               'class_true': list(true_class_df_col.astype(int))}\n",
        "    \n",
        "    #create dataframe\n",
        "    cm_df = pd.DataFrame(data = cm_data, columns=['class_pred', 'class_true'])\n",
        "\n",
        "    #create confusion matrix\n",
        "    cm = pd.crosstab(cm_df['class_true'], cm_df['class_pred'], rownames=['True'], colnames=['Predicted'])\n",
        "\n",
        "    return cm"
      ],
      "execution_count": 0,
      "outputs": []
    },
    {
      "cell_type": "code",
      "metadata": {
        "id": "Cc4Keq4np5ZM",
        "colab_type": "code",
        "outputId": "fd1a0f79-7510-448d-8078-c7d3564546c5",
        "colab": {
          "base_uri": "https://localhost:8080/",
          "height": 84
        }
      },
      "source": [
        "confusion_matrix_bow_imbalanced = conf_matrix(pred_bow_imbalanced_class['class_pred'], text_classification_test_reduced.published)\n",
        "print(confusion_matrix_bow_imbalanced)"
      ],
      "execution_count": 0,
      "outputs": [
        {
          "output_type": "stream",
          "text": [
            "Predicted     0      1\n",
            "True                  \n",
            "0           466   5956\n",
            "1          1166  42412\n"
          ],
          "name": "stdout"
        }
      ]
    },
    {
      "cell_type": "markdown",
      "metadata": {
        "id": "MuEwd_W1yRXN",
        "colab_type": "text"
      },
      "source": [
        "##### Evaluation Metrics: F1, AUC, ACC"
      ]
    },
    {
      "cell_type": "code",
      "metadata": {
        "colab_type": "code",
        "outputId": "0e1eb557-ae46-404d-d531-79d7e292089c",
        "id": "rbYhxQNse8oO",
        "colab": {
          "base_uri": "https://localhost:8080/",
          "height": 67
        }
      },
      "source": [
        "import sklearn\n",
        "\n",
        "f1_bow_imbalanced = sklearn.metrics.f1_score(text_classification_test_reduced.published, pred_bow_imbalanced_class.class_pred)\n",
        "auc_bow_imbalanced = sklearn.metrics.roc_auc_score(text_classification_test_reduced.published, pred_bow_imbalanced_class.prob_pred)\n",
        "acc_bow_imbalanced = sklearn.metrics.accuracy_score(text_classification_test_reduced.published, pred_bow_imbalanced_class.class_pred)\n",
        "\n",
        "print(\"F1:\", f1_bow_imbalanced)\n",
        "print(\"AUC:\", auc_bow_imbalanced)\n",
        "print(\"ACC:\", acc_bow_imbalanced)"
      ],
      "execution_count": 0,
      "outputs": [
        {
          "output_type": "stream",
          "text": [
            "F1: 0.9225414917451547\n",
            "AUC: 0.6499069299151073\n",
            "ACC: 0.85756\n"
          ],
          "name": "stdout"
        }
      ]
    },
    {
      "cell_type": "code",
      "metadata": {
        "id": "Zadm-PCPrRqO",
        "colab_type": "code",
        "colab": {}
      },
      "source": [
        "def plot_roc_auc(class_true_df_col, class_pred_col_df):\n",
        "    import sklearn.metrics\n",
        "\n",
        "    # calculate the fpr and tpr for all thresholds of the classification\n",
        "    fpr, tpr, threshold = sklearn.metrics.roc_curve(class_true_df_col, class_pred_col_df)\n",
        "    roc_auc = sklearn.metrics.auc(fpr, tpr)\n",
        "\n",
        "    # make plot\n",
        "    import matplotlib.pyplot as plt\n",
        "\n",
        "    plt.title('Receiver Operating Characteristic')\n",
        "    plt.plot(fpr, tpr, 'b', label = 'AUC = %0.2f' % roc_auc)\n",
        "    plt.legend(loc = 'lower right')\n",
        "    plt.plot([0, 1], [0, 1],'r--')\n",
        "    plt.xlim([0, 1])\n",
        "    plt.ylim([0, 1])\n",
        "    plt.ylabel('True Positive Rate')\n",
        "    plt.xlabel('False Positive Rate')\n",
        "    plt.show()"
      ],
      "execution_count": 0,
      "outputs": []
    },
    {
      "cell_type": "code",
      "metadata": {
        "id": "bp12XRcHsDgS",
        "colab_type": "code",
        "outputId": "03c979a0-8691-4246-efd4-a4ee0fcaf8f9",
        "colab": {
          "base_uri": "https://localhost:8080/",
          "height": 295
        }
      },
      "source": [
        "plot_roc_auc(text_classification_test_reduced.published, pred_bow_imbalanced_class.prob_pred)"
      ],
      "execution_count": 0,
      "outputs": [
        {
          "output_type": "display_data",
          "data": {
            "image/png": "[encoded data removed]",
            "text/plain": [
              "<Figure size 432x288 with 1 Axes>"
            ]
          },
          "metadata": {
            "tags": []
          }
        }
      ]
    },
    {
      "cell_type": "markdown",
      "metadata": {
        "id": "JLrqNrO5fzrB",
        "colab_type": "text"
      },
      "source": [
        "### Preparation for RNN Classifier"
      ]
    },
    {
      "cell_type": "markdown",
      "metadata": {
        "id": "VKLNwJBBA40I",
        "colab_type": "text"
      },
      "source": [
        "#### Tokenization"
      ]
    },
    {
      "cell_type": "code",
      "metadata": {
        "id": "dkWgu_MaH8gb",
        "colab_type": "code",
        "outputId": "25993fdf-a4bd-49d1-c232-f034b9f8f4fd",
        "colab": {
          "base_uri": "https://localhost:8080/",
          "height": 79
        }
      },
      "source": [
        "from keras.preprocessing.text import Tokenizer\n",
        "\n",
        "#prepare tokenizer\n",
        "tokenizer = Tokenizer()\n",
        "tokenizer.fit_on_texts(comment_train)\n",
        "\n",
        "#execute tokenization\n",
        "X_train = tokenizer.texts_to_sequences(comment_train)\n",
        "X_test = tokenizer.texts_to_sequences(comment_test)\n",
        "\n",
        "#adding 1 because of reserved 0 index\n",
        "vocab_size = len(tokenizer.word_index) + 1  "
      ],
      "execution_count": 0,
      "outputs": [
        {
          "output_type": "stream",
          "text": [
            "Using TensorFlow backend.\n"
          ],
          "name": "stderr"
        },
        {
          "output_type": "display_data",
          "data": {
            "text/html": [
              "<p style=\"color: red;\">\n",
              "The default version of TensorFlow in Colab will soon switch to TensorFlow 2.x.<br>\n",
              "We recommend you <a href=\"https://www.tensorflow.org/guide/migrate\" target=\"_blank\">upgrade</a> now \n",
              "or ensure your notebook will continue to use TensorFlow 1.x via the <code>%tensorflow_version 1.x</code> magic:\n",
              "<a href=\"https://colab.research.google.com/notebooks/tensorflow_version.ipynb\" target=\"_blank\">more info</a>.</p>\n"
            ],
            "text/plain": [
              "<IPython.core.display.HTML object>"
            ]
          },
          "metadata": {
            "tags": []
          }
        }
      ]
    },
    {
      "cell_type": "code",
      "metadata": {
        "id": "PO3fd4VEIAjW",
        "colab_type": "code",
        "outputId": "ae06e1eb-b40b-4140-dadd-d3b350622e69",
        "colab": {
          "base_uri": "https://localhost:8080/",
          "height": 50
        }
      },
      "source": [
        "#print position of example words in vocabulary (words are ordered by frequency)\n",
        "for word in ['auto', 'seh']:\n",
        "    print('{}: {}'.format(word, tokenizer.word_index[word]))"
      ],
      "execution_count": 0,
      "outputs": [
        {
          "output_type": "stream",
          "text": [
            "auto: 337\n",
            "seh: 1231\n"
          ],
          "name": "stdout"
        }
      ]
    },
    {
      "cell_type": "markdown",
      "metadata": {
        "id": "HIwjrDQpIC5J",
        "colab_type": "text"
      },
      "source": [
        "#### Train Word2Vec Embedding for Embedding Layer"
      ]
    },
    {
      "cell_type": "code",
      "metadata": {
        "id": "lM43VnEVIIli",
        "colab_type": "code",
        "colab": {}
      },
      "source": [
        "import gensim\n",
        "from nltk import word_tokenize\n",
        "import nltk\n",
        "nltk.download('punkt')\n",
        "\n",
        "#remove NAs\n",
        "text_classification_train['text'].dropna(inplace=True)\n",
        "\n",
        "#apply word tokenization\n",
        "comment_train_w2v = text_classification_train['text'].apply(word_tokenize)"
      ],
      "execution_count": 0,
      "outputs": []
    },
    {
      "cell_type": "code",
      "metadata": {
        "id": "T21c8ravIKv1",
        "colab_type": "code",
        "colab": {}
      },
      "source": [
        "#selecting comments to train embedding\n",
        "comment_train_w2v = comment_train_w2v[:1000000]\n",
        "\n",
        "#train word2vec embedding\n",
        "model = gensim.models.Word2Vec(sentences=comment_train_w2v,\n",
        "                               min_count = 1, #frequency benchmark\n",
        "                               size = 300, #embedding size\n",
        "                               window = 5, #I played around with the size of the context and landed at 5\n",
        "                               iter = 40, #to speed it up the training a little bit a lower 'iter' is possible since it defines how many times the training code will run through the data set\n",
        "                               sg = 1)"
      ],
      "execution_count": 0,
      "outputs": []
    },
    {
      "cell_type": "code",
      "metadata": {
        "id": "RC1KbUeFINhA",
        "colab_type": "code",
        "colab": {}
      },
      "source": [
        "#check example for model results\n",
        "model.most_similar('merkel')"
      ],
      "execution_count": 0,
      "outputs": []
    },
    {
      "cell_type": "code",
      "metadata": {
        "id": "TqrmgHibIPDJ",
        "colab_type": "code",
        "colab": {}
      },
      "source": [
        "# Storing the trained word2vec model\n",
        "filename = 'embedding_word2vec.txt'\n",
        "model.wv.save_word2vec_format(filename, binary=False)"
      ],
      "execution_count": 0,
      "outputs": []
    },
    {
      "cell_type": "code",
      "metadata": {
        "id": "unA8fzAFYEC6",
        "colab_type": "code",
        "colab": {}
      },
      "source": [
        "#download file\n",
        "from google.colab import files\n",
        "files.download('embedding_word2vec.txt') "
      ],
      "execution_count": 0,
      "outputs": []
    },
    {
      "cell_type": "markdown",
      "metadata": {
        "id": "UfdB5DGmnk0g",
        "colab_type": "text"
      },
      "source": [
        "#### Import Word2Vec Embedding"
      ]
    },
    {
      "cell_type": "code",
      "metadata": {
        "id": "I_NMqIUrIRGK",
        "colab_type": "code",
        "colab": {}
      },
      "source": [
        "# Loading the word embedding created as a directory of words to vectors\n",
        "import os\n",
        "\n",
        "embeddings_index_word2vec={}\n",
        "\n",
        "#open embedding from file\n",
        "f = open(\"/content/drive/My Drive/embedding_word2vec_1m.txt\", encoding = 'utf-8')\n",
        "\n",
        "for line in f:\n",
        "    values = line.split()\n",
        "    word = values[0]\n",
        "    coefs = values[1:]\n",
        "    embeddings_index_word2vec[word] = coefs\n",
        "f.close()"
      ],
      "execution_count": 0,
      "outputs": []
    },
    {
      "cell_type": "code",
      "metadata": {
        "id": "IEs2r2_JISys",
        "colab_type": "code",
        "colab": {}
      },
      "source": [
        "#creating the embedding matrix for the embedding layer using word2vec for the main model\n",
        "import numpy as np\n",
        "\n",
        "#setting embedding dimension\n",
        "embedding_dim = 300\n",
        "\n",
        "#extracting word indices\n",
        "word_index = tokenizer.word_index\n",
        "\n",
        "#determine length of embedding vocabulary\n",
        "num_words = len(word_index) + 1\n",
        "\n",
        "#prepare embedding matrix\n",
        "embedding_matrix_word2vec = np.zeros((num_words, embedding_dim))\n",
        "\n",
        "for word, i in word_index.items():\n",
        "    embedding_vector_word2vec = embeddings_index_word2vec.get(word)\n",
        "    if embedding_vector_word2vec is not None:\n",
        "        #words not found in embedding index will be set to zero\n",
        "        embedding_matrix_word2vec[i] = embedding_vector_word2vec"
      ],
      "execution_count": 0,
      "outputs": []
    },
    {
      "cell_type": "code",
      "metadata": {
        "id": "TsDMbPiVtWLO",
        "colab_type": "code",
        "colab": {}
      },
      "source": [
        "#function to prepare data for the rnn model training\n",
        "def prepare_data_rnn(comment_train, comment_test):\n",
        "    \n",
        "    ### Tokenization:\n",
        "    from keras.preprocessing.text import Tokenizer\n",
        "\n",
        "    #prepare tokenization\n",
        "    tokenizer = Tokenizer()\n",
        "    tokenizer.fit_on_texts(comment_train)\n",
        "\n",
        "    #apply tokenization on train and test set\n",
        "    X_train = tokenizer.texts_to_sequences(comment_train)\n",
        "    X_test = tokenizer.texts_to_sequences(comment_test)\n",
        "\n",
        "    #adding 1 because of reserved 0 index\n",
        "    vocab_size = len(tokenizer.word_index) + 1\n",
        "\n",
        "    ### Padding Sequences:\n",
        "    #set maximum length (number of words) for comment\n",
        "    #shorter comments are filled with zeros at the end\n",
        "    from keras.preprocessing.sequence import pad_sequences\n",
        "\n",
        "    #setting maximum sequence length\n",
        "    maxlen = 100\n",
        "\n",
        "    #padding sequences for train and test set\n",
        "    X_train = pad_sequences(X_train, padding='post', maxlen=maxlen)\n",
        "    X_test = pad_sequences(X_test, padding='post', maxlen=maxlen)\n",
        "\n",
        "    return X_train, X_test"
      ],
      "execution_count": 0,
      "outputs": []
    },
    {
      "cell_type": "code",
      "metadata": {
        "id": "0lRu7hR5uFcW",
        "colab_type": "code",
        "colab": {}
      },
      "source": [
        "#apply data preparation for rnn model\n",
        "X_train, X_test = prepare_data_rnn(comment_train, comment_test)"
      ],
      "execution_count": 0,
      "outputs": []
    },
    {
      "cell_type": "markdown",
      "metadata": {
        "id": "nP4S09rRIVcM",
        "colab_type": "text"
      },
      "source": [
        "### RNN - Classifier"
      ]
    },
    {
      "cell_type": "code",
      "metadata": {
        "id": "pM94y1CFuqoS",
        "colab_type": "code",
        "colab": {}
      },
      "source": [
        "#setting rnn parameters for all models\n",
        "LSTM_NODES = 64\n",
        "DROPOUT = 0.1\n",
        "RECURRENT_DROPOUT = 0.1\n",
        "DENSE1_NODES = 64\n",
        "DENSE2_NODES = 1\n",
        "EPOCHS = 20\n",
        "BATCH_SIZE = 512"
      ],
      "execution_count": 0,
      "outputs": []
    },
    {
      "cell_type": "code",
      "metadata": {
        "id": "SXYM3DxWIYKB",
        "colab_type": "code",
        "outputId": "bab95583-1a6e-4ba4-8ecd-38d59f4a71b0",
        "colab": {
          "base_uri": "https://localhost:8080/",
          "height": 318
        }
      },
      "source": [
        "#using RNN model with Embedding and bidirectional LSTM layer for classification\n",
        "from keras.models import Sequential\n",
        "from keras import layers\n",
        "from keras.layers import LSTM, Dropout\n",
        "from keras.layers import Bidirectional\n",
        "from tensorflow.keras.initializers import Constant\n",
        "from tensorflow.keras.callbacks import EarlyStopping\n",
        "\n",
        "#setting embedding dimensionality\n",
        "embedding_dim = 300\n",
        "\n",
        "#initialize RNN model\n",
        "model = Sequential()\n",
        "\n",
        "#add embedding layer\n",
        "model.add(layers.Embedding(input_dim=num_words, \n",
        "                           output_dim=embedding_dim, \n",
        "                           embeddings_initializer = Constant(embedding_matrix_word2vec),  \n",
        "                           trainable = False))\n",
        "\n",
        "#add bidirectional LSTM layer\n",
        "model.add(Bidirectional(LSTM(LSTM_NODES, dropout = DROPOUT, recurrent_dropout = RECURRENT_DROPOUT)))\n",
        "\n",
        "# model.add(Bidirectional(LSTM(LSTM_NODES, dropout = DROPOUT, recurrent_dropout = RECURRENT_DROPOUT, return_sequences=True)))\n",
        "# model.add(LSTM(LSTM_NODES, dropout = DROPOUT, recurrent_dropout = RECURRENT_DROPOUT))\n",
        "\n",
        "#add additional dropout layer\n",
        "model.add(Dropout(DROPOUT))\n",
        "\n",
        "#adding dense layers to produce required output probability\n",
        "model.add(layers.Dense(DENSE1_NODES, activation='relu'))\n",
        "model.add(layers.Dense(DENSE2_NODES, activation='sigmoid'))\n",
        "\n",
        "\n",
        "#complite the model\n",
        "model.compile(optimizer='adam',\n",
        "              loss='binary_crossentropy',\n",
        "              metrics=['accuracy'])\n",
        "\n",
        "model.summary()"
      ],
      "execution_count": 0,
      "outputs": [
        {
          "output_type": "stream",
          "text": [
            "Model: \"sequential_4\"\n",
            "_________________________________________________________________\n",
            "Layer (type)                 Output Shape              Param #   \n",
            "=================================================================\n",
            "embedding_4 (Embedding)      (None, None, 300)         63426600  \n",
            "_________________________________________________________________\n",
            "bidirectional_4 (Bidirection (None, 128)               186880    \n",
            "_________________________________________________________________\n",
            "dropout_4 (Dropout)          (None, 128)               0         \n",
            "_________________________________________________________________\n",
            "dense_7 (Dense)              (None, 64)                8256      \n",
            "_________________________________________________________________\n",
            "dense_8 (Dense)              (None, 1)                 65        \n",
            "=================================================================\n",
            "Total params: 63,621,801\n",
            "Trainable params: 195,201\n",
            "Non-trainable params: 63,426,600\n",
            "_________________________________________________________________\n"
          ],
          "name": "stdout"
        }
      ]
    },
    {
      "cell_type": "code",
      "metadata": {
        "id": "1s7qjJ5KIaxQ",
        "colab_type": "code",
        "outputId": "cd6f13c5-95a1-4ab8-b7c6-424a4b9e41d2",
        "colab": {
          "base_uri": "https://localhost:8080/",
          "height": 371
        }
      },
      "source": [
        "#setting early stopping parameter\n",
        "ea = EarlyStopping(monitor=\"val_loss\", mode=\"min\", patience=5)\n",
        "\n",
        "#train rnn model\n",
        "model.fit(X_train, label_train,\n",
        "          epochs=EPOCHS,\n",
        "          verbose=1,\n",
        "          validation_data=(X_test, label_test),\n",
        "          callbacks=[ea],\n",
        "          batch_size=BATCH_SIZE)"
      ],
      "execution_count": 0,
      "outputs": [
        {
          "output_type": "stream",
          "text": [
            "Train on 146292 samples, validate on 50000 samples\n",
            "Epoch 1/20\n",
            "146292/146292 [==============================] - 84s 577us/step - loss: 0.3820 - acc: 0.8682 - val_loss: 0.3617 - val_acc: 0.8716\n",
            "Epoch 2/20\n",
            "146292/146292 [==============================] - 80s 548us/step - loss: 0.3654 - acc: 0.8684 - val_loss: 0.3591 - val_acc: 0.8716\n",
            "Epoch 3/20\n",
            "146292/146292 [==============================] - 80s 549us/step - loss: 0.3626 - acc: 0.8684 - val_loss: 0.3573 - val_acc: 0.8717\n",
            "Epoch 4/20\n",
            "146292/146292 [==============================] - 79s 543us/step - loss: 0.3587 - acc: 0.8685 - val_loss: 0.3570 - val_acc: 0.8716\n",
            "Epoch 5/20\n",
            "146292/146292 [==============================] - 79s 543us/step - loss: 0.3555 - acc: 0.8686 - val_loss: 0.3585 - val_acc: 0.8716\n",
            "Epoch 6/20\n",
            "146292/146292 [==============================] - 79s 543us/step - loss: 0.3515 - acc: 0.8690 - val_loss: 0.3585 - val_acc: 0.8715\n",
            "Epoch 7/20\n",
            "146292/146292 [==============================] - 80s 547us/step - loss: 0.3470 - acc: 0.8697 - val_loss: 0.3587 - val_acc: 0.8716\n",
            "Epoch 8/20\n",
            "146292/146292 [==============================] - 80s 547us/step - loss: 0.3414 - acc: 0.8704 - val_loss: 0.3616 - val_acc: 0.8702\n",
            "Epoch 9/20\n",
            "146292/146292 [==============================] - 79s 542us/step - loss: 0.3360 - acc: 0.8713 - val_loss: 0.3647 - val_acc: 0.8715\n"
          ],
          "name": "stdout"
        },
        {
          "output_type": "execute_result",
          "data": {
            "text/plain": [
              "<keras.callbacks.History at 0x7f86b5f6b630>"
            ]
          },
          "metadata": {
            "tags": []
          },
          "execution_count": 43
        }
      ]
    },
    {
      "cell_type": "code",
      "metadata": {
        "id": "Xo8z5RRaPfhB",
        "colab_type": "code",
        "colab": {}
      },
      "source": [
        "#predict class probabilities\n",
        "pred_rnn_imbalanced = model.predict(X_test)"
      ],
      "execution_count": 0,
      "outputs": []
    },
    {
      "cell_type": "markdown",
      "metadata": {
        "id": "2Jtprhl9RHzn",
        "colab_type": "text"
      },
      "source": [
        "#### Calculate Evaluation Metrics"
      ]
    },
    {
      "cell_type": "code",
      "metadata": {
        "colab_type": "code",
        "id": "mxVOLdffzDdL",
        "colab": {}
      },
      "source": [
        "#calculate class predictions\n",
        "pred_rnn_imbalanced_class = class_prediction(pred_rnn_imbalanced)"
      ],
      "execution_count": 0,
      "outputs": []
    },
    {
      "cell_type": "markdown",
      "metadata": {
        "colab_type": "text",
        "id": "ivjvOdMCzDdW"
      },
      "source": [
        "##### Confusion Matrix"
      ]
    },
    {
      "cell_type": "code",
      "metadata": {
        "colab_type": "code",
        "outputId": "5bd2638c-71ef-4ca9-efee-cc9546e8849b",
        "id": "HQU8ZSfZzDdX",
        "colab": {
          "base_uri": "https://localhost:8080/",
          "height": 84
        }
      },
      "source": [
        "#create confusion matrix\n",
        "confusion_matrix_rnn_imbalanced = conf_matrix(pred_rnn_imbalanced_class['class_pred'], text_classification_test_reduced.published)\n",
        "print(confusion_matrix_rnn_imbalanced)"
      ],
      "execution_count": 0,
      "outputs": [
        {
          "output_type": "stream",
          "text": [
            "Predicted    0      1\n",
            "True                 \n",
            "0           99   6323\n",
            "1          101  43477\n"
          ],
          "name": "stdout"
        }
      ]
    },
    {
      "cell_type": "markdown",
      "metadata": {
        "colab_type": "text",
        "id": "60K6Cs16zDdf"
      },
      "source": [
        "##### Evaluation Metrics: F1, AUC, ACC"
      ]
    },
    {
      "cell_type": "code",
      "metadata": {
        "colab_type": "code",
        "outputId": "431ee6c4-b8e8-4701-a75a-ab8beed714c9",
        "id": "cMhj2VBmzDdh",
        "colab": {
          "base_uri": "https://localhost:8080/",
          "height": 67
        }
      },
      "source": [
        "import sklearn\n",
        "\n",
        "#calculate evaluation metrics\n",
        "f1_rnn_imbalanced = sklearn.metrics.f1_score(text_classification_test_reduced.published, pred_rnn_imbalanced_class.class_pred)\n",
        "auc_rnn_imbalanced = sklearn.metrics.roc_auc_score(text_classification_test_reduced.published, pred_rnn_imbalanced_class.prob_pred)\n",
        "acc_rnn_imbalanced = sklearn.metrics.accuracy_score(text_classification_test_reduced.published, pred_rnn_imbalanced_class.class_pred)\n",
        "\n",
        "print(\"F1:\", f1_rnn_imbalanced)\n",
        "print(\"AUC:\", auc_rnn_imbalanced)\n",
        "print(\"ACC:\", acc_rnn_imbalanced)"
      ],
      "execution_count": 0,
      "outputs": [
        {
          "output_type": "stream",
          "text": [
            "F1: 0.9312043522028743\n",
            "AUC: 0.6873616771304765\n",
            "ACC: 0.87152\n"
          ],
          "name": "stdout"
        }
      ]
    },
    {
      "cell_type": "code",
      "metadata": {
        "colab_type": "code",
        "outputId": "3aa80a70-e385-4399-8677-1f1a12446430",
        "id": "21ul7MyUzDdm",
        "colab": {
          "base_uri": "https://localhost:8080/",
          "height": 295
        }
      },
      "source": [
        "#plotting roc-auc curve\n",
        "plot_roc_auc(text_classification_test_reduced.published, pred_rnn_imbalanced_class.prob_pred)"
      ],
      "execution_count": 0,
      "outputs": [
        {
          "output_type": "display_data",
          "data": {
            "image/png": "[encoded data removed]",
            "text/plain": [
              "<Figure size 432x288 with 1 Axes>"
            ]
          },
          "metadata": {
            "tags": []
          }
        }
      ]
    },
    {
      "cell_type": "code",
      "metadata": {
        "id": "vaoTjgMPlM3x",
        "colab_type": "code",
        "outputId": "848086b7-9be4-4c92-9ea7-b4347d78d2c2",
        "colab": {
          "base_uri": "https://localhost:8080/",
          "height": 117
        }
      },
      "source": [
        "#print results of both models\n",
        "print(\"F1 BOW Imbalanced:\", f1_bow_imbalanced)\n",
        "print(\"F1 RNN Imbalanced:\", f1_rnn_imbalanced)\n",
        "\n",
        "print(\"AUC BOW Imbalanced:\", auc_bow_imbalanced)\n",
        "print(\"AUC RNN Imbalanced:\", auc_rnn_imbalanced)\n",
        "\n",
        "print(\"ACC BOW Imbalanced:\", acc_bow_imbalanced)\n",
        "print(\"ACC RNN Imbalanced:\", acc_rnn_imbalanced)"
      ],
      "execution_count": 0,
      "outputs": [
        {
          "output_type": "stream",
          "text": [
            "F1 BOW Imbalanced: 0.9225414917451547\n",
            "F1 RNN Imbalanced: 0.9312043522028743\n",
            "AUC BOW Imbalanced: 0.6499069299151073\n",
            "AUC RNN Imbalanced: 0.6873616771304765\n",
            "ACC BOW Imbalanced: 0.85756\n",
            "ACC RNN Imbalanced: 0.87152\n"
          ],
          "name": "stdout"
        }
      ]
    },
    {
      "cell_type": "markdown",
      "metadata": {
        "id": "TGh0A1fM6CS1",
        "colab_type": "text"
      },
      "source": [
        "## Prepare Data for Undersampling"
      ]
    },
    {
      "cell_type": "markdown",
      "metadata": {
        "id": "cBIjEA4bFXLC",
        "colab_type": "text"
      },
      "source": [
        "### Perform Undersampling"
      ]
    },
    {
      "cell_type": "code",
      "metadata": {
        "id": "y2XVaHNk6NM1",
        "colab_type": "code",
        "outputId": "9af06019-27ff-492f-f49b-6ac0ccab5caf",
        "colab": {
          "base_uri": "https://localhost:8080/",
          "height": 67
        }
      },
      "source": [
        "#calculate imbalancedness for reduced training data\n",
        "rel_freq1 = pd.Series(label_train).value_counts()       \n",
        "print(rel_freq1/len(label_train))"
      ],
      "execution_count": 0,
      "outputs": [
        {
          "output_type": "stream",
          "text": [
            "True     0.868393\n",
            "False    0.131607\n",
            "Name: online, dtype: float64\n"
          ],
          "name": "stdout"
        }
      ]
    },
    {
      "cell_type": "code",
      "metadata": {
        "id": "qpciq6Vx82Wb",
        "colab_type": "code",
        "outputId": "6a512c68-9468-4c98-e6f8-58cbdb6aa09b",
        "colab": {
          "base_uri": "https://localhost:8080/",
          "height": 67
        }
      },
      "source": [
        "#calculate imbalancedness for whole training data\n",
        "rel_freq2 = pd.Series(text_classification_train['published']).value_counts()       \n",
        "print(rel_freq2/len(text_classification_train['published'])) "
      ],
      "execution_count": 0,
      "outputs": [
        {
          "output_type": "stream",
          "text": [
            "True     0.868807\n",
            "False    0.131193\n",
            "Name: online, dtype: float64\n"
          ],
          "name": "stdout"
        }
      ]
    },
    {
      "cell_type": "code",
      "metadata": {
        "id": "yDIzTGqp-LY0",
        "colab_type": "code",
        "colab": {}
      },
      "source": [
        "### perform undersampling\n",
        "\n",
        "#extract number of not published comments\n",
        "count_not_pub_comments = len(text_classification_train_reduced[text_classification_train_reduced['published'] == False])\n",
        "\n",
        "#get indices of published comments\n",
        "idx_pub_comments = text_classification_train_reduced[text_classification_train_reduced.published == True].index\n",
        "\n",
        "#random sample published comments indices\n",
        "random_indices = np.random.choice(idx_pub_comments, count_not_pub_comments, replace = False)\n",
        "\n",
        "#get indices of not published comments\n",
        "idx_not_pub_comments = text_classification_train_reduced[text_classification_train_reduced.published == False].index\n",
        "\n",
        "#concat non-published indices with sample published ones\n",
        "under_sample_indices = np.concatenate([idx_not_pub_comments, random_indices])\n",
        "\n",
        "#construct balanced dataframe\n",
        "df_under_sample = text_classification_train_reduced.loc[under_sample_indices]"
      ],
      "execution_count": 0,
      "outputs": []
    },
    {
      "cell_type": "code",
      "metadata": {
        "id": "W5swrKQRAoHP",
        "colab_type": "code",
        "outputId": "d771d90d-dc42-4394-8a69-910743f5f55c",
        "colab": {
          "base_uri": "https://localhost:8080/",
          "height": 33
        }
      },
      "source": [
        "df_under_sample.shape"
      ],
      "execution_count": 0,
      "outputs": [
        {
          "output_type": "execute_result",
          "data": {
            "text/plain": [
              "(38506, 7)"
            ]
          },
          "metadata": {
            "tags": []
          },
          "execution_count": 55
        }
      ]
    },
    {
      "cell_type": "code",
      "metadata": {
        "id": "aH4fkfgVAyGc",
        "colab_type": "code",
        "outputId": "ea9e4d2e-039b-4c1b-abd7-f4e23ca1cd21",
        "colab": {
          "base_uri": "https://localhost:8080/",
          "height": 84
        }
      },
      "source": [
        "#calculate distribution for undersampled dataset\n",
        "rel_freq3 = pd.Series(df_under_sample['published']).value_counts()       \n",
        "print(rel_freq3/len(df_under_sample['published'])) \n",
        "\n",
        "print(len(df_under_sample))"
      ],
      "execution_count": 0,
      "outputs": [
        {
          "output_type": "stream",
          "text": [
            "True     0.5\n",
            "False    0.5\n",
            "Name: online, dtype: float64\n",
            "38506\n"
          ],
          "name": "stdout"
        }
      ]
    },
    {
      "cell_type": "markdown",
      "metadata": {
        "id": "Um0Os2wwCaBy",
        "colab_type": "text"
      },
      "source": [
        "## Classification with Undersampled Data"
      ]
    },
    {
      "cell_type": "code",
      "metadata": {
        "colab_type": "code",
        "id": "WZPexzuLHLvN",
        "outputId": "1db58846-326b-40e0-d886-fd2a49693c51",
        "colab": {
          "base_uri": "https://localhost:8080/",
          "height": 196
        }
      },
      "source": [
        "#extracting texts and labels from undersampled data frame\n",
        "comment = pd.DataFrame()\n",
        "\n",
        "comment['text'] = df_under_sample['text']\n",
        "comment['label'] = df_under_sample['published']\n",
        "\n",
        "comment.head()"
      ],
      "execution_count": 0,
      "outputs": [
        {
          "output_type": "execute_result",
          "data": {
            "text/html": [
              "<div>\n",
              "<style scoped>\n",
              "    .dataframe tbody tr th:only-of-type {\n",
              "        vertical-align: middle;\n",
              "    }\n",
              "\n",
              "    .dataframe tbody tr th {\n",
              "        vertical-align: top;\n",
              "    }\n",
              "\n",
              "    .dataframe thead th {\n",
              "        text-align: right;\n",
              "    }\n",
              "</style>\n",
              "<table border=\"1\" class=\"dataframe\">\n",
              "  <thead>\n",
              "    <tr style=\"text-align: right;\">\n",
              "      <th></th>\n",
              "      <th>text</th>\n",
              "      <th>label</th>\n",
              "    </tr>\n",
              "  </thead>\n",
              "  <tbody>\n",
              "    <tr>\n",
              "      <th>1565820</th>\n",
              "      <td>och noe dominik nicht schon billig verbraucher...</td>\n",
              "      <td>False</td>\n",
              "    </tr>\n",
              "    <tr>\n",
              "      <th>1285135</th>\n",
              "      <td>jup zeigt leitsprache neusprech orwell nahezu ...</td>\n",
              "      <td>False</td>\n",
              "    </tr>\n",
              "    <tr>\n",
              "      <th>190277</th>\n",
              "      <td>herman m ganze ddr folklore langweilt nicht da...</td>\n",
              "      <td>False</td>\n",
              "    </tr>\n",
              "    <tr>\n",
              "      <th>243479</th>\n",
              "      <td>richtig immer migration europa gab meistens ef...</td>\n",
              "      <td>False</td>\n",
              "    </tr>\n",
              "    <tr>\n",
              "      <th>988662</th>\n",
              "      <td>kirchenvertreter froenen paedophilen neigungen...</td>\n",
              "      <td>False</td>\n",
              "    </tr>\n",
              "  </tbody>\n",
              "</table>\n",
              "</div>"
            ],
            "text/plain": [
              "                                                      text  label\n",
              "1565820  och noe dominik nicht schon billig verbraucher...  False\n",
              "1285135  jup zeigt leitsprache neusprech orwell nahezu ...  False\n",
              "190277   herman m ganze ddr folklore langweilt nicht da...  False\n",
              "243479   richtig immer migration europa gab meistens ef...  False\n",
              "988662   kirchenvertreter froenen paedophilen neigungen...  False"
            ]
          },
          "metadata": {
            "tags": []
          },
          "execution_count": 57
        }
      ]
    },
    {
      "cell_type": "code",
      "metadata": {
        "colab_type": "code",
        "id": "8quaG8fzHLvj",
        "colab": {}
      },
      "source": [
        "#prepair training set\n",
        "comment_train = comment['text']\n",
        "label_train = comment['label']"
      ],
      "execution_count": 0,
      "outputs": []
    },
    {
      "cell_type": "code",
      "metadata": {
        "colab_type": "code",
        "id": "9tGqjPoiHLvr",
        "outputId": "b3ca4060-3a94-468c-d989-3a867582c096",
        "colab": {
          "base_uri": "https://localhost:8080/",
          "height": 84
        }
      },
      "source": [
        "print(comment_train.shape)\n",
        "print(comment_test.shape)\n",
        "print(label_train.shape)\n",
        "print(label_test.shape)"
      ],
      "execution_count": 0,
      "outputs": [
        {
          "output_type": "stream",
          "text": [
            "(38506,)\n",
            "(50000,)\n",
            "(38506,)\n",
            "(50000,)\n"
          ],
          "name": "stdout"
        }
      ]
    },
    {
      "cell_type": "markdown",
      "metadata": {
        "colab_type": "text",
        "id": "j9Jl_h_9qsYg"
      },
      "source": [
        "### BOW Classifier"
      ]
    },
    {
      "cell_type": "code",
      "metadata": {
        "colab_type": "code",
        "id": "mHvUbX-K02eh",
        "colab": {}
      },
      "source": [
        "#bag of words classification\n",
        "pred_bow_undersample = bow_classification(comment_train=comment_train, comment_test=comment_test)"
      ],
      "execution_count": 0,
      "outputs": []
    },
    {
      "cell_type": "markdown",
      "metadata": {
        "colab_type": "text",
        "id": "_sz3iP1h02em"
      },
      "source": [
        "#### Calculate Evaluation Metrics"
      ]
    },
    {
      "cell_type": "code",
      "metadata": {
        "colab_type": "code",
        "outputId": "118e4274-6de9-4de9-ca69-ff43d013f7f8",
        "id": "9FbYYmXP02eo",
        "colab": {
          "base_uri": "https://localhost:8080/",
          "height": 334
        }
      },
      "source": [
        "#calculate class predictions\n",
        "pred_bow_undersample_class = class_prediction(pred_bow_undersample)\n",
        "\n",
        "print(pred_bow_undersample_class[pred_bow_undersample_class['prob_pred'] < 0.5][:5])\n",
        "print(pred_bow_undersample_class[pred_bow_undersample_class['prob_pred'] >= 0.5][:5])\n",
        "\n",
        "print(len(pred_bow_undersample_class))\n",
        "print(text_classification_test_reduced.published[:5])"
      ],
      "execution_count": 0,
      "outputs": [
        {
          "output_type": "stream",
          "text": [
            "   prob_pred  class_pred\n",
            "0   0.001569           0\n",
            "2   0.394534           0\n",
            "5   0.414510           0\n",
            "6   0.347087           0\n",
            "9   0.190446           0\n",
            "   prob_pred  class_pred\n",
            "1   0.977082           1\n",
            "3   0.562474           1\n",
            "4   0.828682           1\n",
            "7   0.670937           1\n",
            "8   0.685111           1\n",
            "50000\n",
            "68418      True\n",
            "216744     True\n",
            "278474     True\n",
            "88057     False\n",
            "205125     True\n",
            "Name: online, dtype: bool\n"
          ],
          "name": "stdout"
        }
      ]
    },
    {
      "cell_type": "markdown",
      "metadata": {
        "colab_type": "text",
        "id": "LZVAkN_f02er"
      },
      "source": [
        "##### Confusion Matrix"
      ]
    },
    {
      "cell_type": "code",
      "metadata": {
        "colab_type": "code",
        "outputId": "07c1b98b-190e-4d6c-f32b-352dbc604317",
        "id": "2CF7_Zx202es",
        "colab": {
          "base_uri": "https://localhost:8080/",
          "height": 84
        }
      },
      "source": [
        "#construc confusion matrix\n",
        "confusion_matrix_bow_undersample = conf_matrix(pred_bow_undersample_class['class_pred'], text_classification_test_reduced.published)\n",
        "print(confusion_matrix_bow_undersample)"
      ],
      "execution_count": 0,
      "outputs": [
        {
          "output_type": "stream",
          "text": [
            "Predicted      0      1\n",
            "True                   \n",
            "0           4149   2273\n",
            "1          18878  24700\n"
          ],
          "name": "stdout"
        }
      ]
    },
    {
      "cell_type": "markdown",
      "metadata": {
        "colab_type": "text",
        "id": "1s27H35P02ev"
      },
      "source": [
        "##### Evaluation Metrics: F1, AUC, ACC"
      ]
    },
    {
      "cell_type": "code",
      "metadata": {
        "colab_type": "code",
        "outputId": "5776902b-3d09-4ac5-c84f-a48ff5f63882",
        "id": "hjS9tuGl02ew",
        "colab": {
          "base_uri": "https://localhost:8080/",
          "height": 67
        }
      },
      "source": [
        "import sklearn\n",
        "\n",
        "#calculate evaluation metrics\n",
        "f1_bow_undersample = sklearn.metrics.f1_score(text_classification_test_reduced.published, pred_bow_undersample_class.class_pred)\n",
        "auc_bow_undersample = sklearn.metrics.roc_auc_score(text_classification_test_reduced.published, pred_bow_undersample_class.prob_pred)\n",
        "acc_bow_undersample = sklearn.metrics.accuracy_score(text_classification_test_reduced.published, pred_bow_undersample_class.class_pred)\n",
        "\n",
        "print(\"F1:\", f1_bow_undersample)\n",
        "print(\"AUC:\", auc_bow_undersample)\n",
        "print(\"ACC:\", acc_bow_undersample)"
      ],
      "execution_count": 0,
      "outputs": [
        {
          "output_type": "stream",
          "text": [
            "F1: 0.7002026902524414\n",
            "AUC: 0.6457026518413722\n",
            "ACC: 0.57698\n"
          ],
          "name": "stdout"
        }
      ]
    },
    {
      "cell_type": "code",
      "metadata": {
        "colab_type": "code",
        "outputId": "aacdb1e8-77d1-42d8-f7e8-cddff74ea4eb",
        "id": "tTjFePsE02ez",
        "colab": {
          "base_uri": "https://localhost:8080/",
          "height": 295
        }
      },
      "source": [
        "#plot roc-auc curve\n",
        "plot_roc_auc(text_classification_test_reduced.published, pred_bow_undersample_class.prob_pred)"
      ],
      "execution_count": 0,
      "outputs": [
        {
          "output_type": "display_data",
          "data": {
            "image/png": "[encoded data removed]",
            "text/plain": [
              "<Figure size 432x288 with 1 Axes>"
            ]
          },
          "metadata": {
            "tags": []
          }
        }
      ]
    },
    {
      "cell_type": "markdown",
      "metadata": {
        "colab_type": "text",
        "id": "hMXOPIWLqsZY"
      },
      "source": [
        "### Preparation for RNN Classifier"
      ]
    },
    {
      "cell_type": "code",
      "metadata": {
        "colab_type": "code",
        "id": "BTSJLSri3RLP",
        "colab": {}
      },
      "source": [
        "#tokenization and padding of sequences\n",
        "X_train, X_test = prepare_data_rnn(comment_train, comment_test)"
      ],
      "execution_count": 0,
      "outputs": []
    },
    {
      "cell_type": "markdown",
      "metadata": {
        "colab_type": "text",
        "id": "NJZY6DfF3RLW"
      },
      "source": [
        "### RNN - Classifier"
      ]
    },
    {
      "cell_type": "code",
      "metadata": {
        "colab_type": "code",
        "outputId": "e00a06af-27ad-4d44-ecde-849df7f5de19",
        "id": "UgamjA8s3RLX",
        "colab": {
          "base_uri": "https://localhost:8080/",
          "height": 304
        }
      },
      "source": [
        "#setting early stopping parameter\n",
        "ea = EarlyStopping(monitor=\"val_loss\", mode=\"min\", patience=5)\n",
        "\n",
        "#train RNN model\n",
        "model.fit(X_train, label_train,\n",
        "          epochs=EPOCHS,\n",
        "          verbose=1,\n",
        "          validation_data=(X_test, label_test),\n",
        "          callbacks=[ea],\n",
        "          batch_size=BATCH_SIZE)"
      ],
      "execution_count": 0,
      "outputs": [
        {
          "output_type": "stream",
          "text": [
            "Train on 38506 samples, validate on 50000 samples\n",
            "Epoch 1/20\n",
            "38506/38506 [==============================] - 24s 630us/step - loss: 0.7038 - acc: 0.5414 - val_loss: 0.6977 - val_acc: 0.5111\n",
            "Epoch 2/20\n",
            "38506/38506 [==============================] - 25s 643us/step - loss: 0.6809 - acc: 0.5636 - val_loss: 0.6487 - val_acc: 0.6312\n",
            "Epoch 3/20\n",
            "38506/38506 [==============================] - 25s 643us/step - loss: 0.6748 - acc: 0.5757 - val_loss: 0.6871 - val_acc: 0.5445\n",
            "Epoch 4/20\n",
            "38506/38506 [==============================] - 25s 639us/step - loss: 0.6661 - acc: 0.5923 - val_loss: 0.6925 - val_acc: 0.5385\n",
            "Epoch 5/20\n",
            "38506/38506 [==============================] - 25s 645us/step - loss: 0.6601 - acc: 0.5973 - val_loss: 0.7078 - val_acc: 0.5147\n",
            "Epoch 6/20\n",
            "38506/38506 [==============================] - 24s 634us/step - loss: 0.6464 - acc: 0.6189 - val_loss: 0.7265 - val_acc: 0.4876\n",
            "Epoch 7/20\n",
            "38506/38506 [==============================] - 25s 645us/step - loss: 0.6340 - acc: 0.6340 - val_loss: 0.7813 - val_acc: 0.4467\n"
          ],
          "name": "stdout"
        },
        {
          "output_type": "execute_result",
          "data": {
            "text/plain": [
              "<keras.callbacks.History at 0x7f86b566a518>"
            ]
          },
          "metadata": {
            "tags": []
          },
          "execution_count": 66
        }
      ]
    },
    {
      "cell_type": "code",
      "metadata": {
        "colab_type": "code",
        "id": "gv9Bf42I3RLh",
        "colab": {}
      },
      "source": [
        "#predict class probabilities\n",
        "pred_rnn_undersample = model.predict(X_test)"
      ],
      "execution_count": 0,
      "outputs": []
    },
    {
      "cell_type": "markdown",
      "metadata": {
        "colab_type": "text",
        "id": "VBH3WGLO3RLq"
      },
      "source": [
        "#### Calculate Evaluation Metrics"
      ]
    },
    {
      "cell_type": "code",
      "metadata": {
        "colab_type": "code",
        "id": "riY2Z0093RLr",
        "colab": {}
      },
      "source": [
        "#calculate class predictions\n",
        "pred_rnn_undersample_class = class_prediction(pred_rnn_undersample)"
      ],
      "execution_count": 0,
      "outputs": []
    },
    {
      "cell_type": "markdown",
      "metadata": {
        "colab_type": "text",
        "id": "gXTvi3tJ3RL1"
      },
      "source": [
        "##### Confusion Matrix"
      ]
    },
    {
      "cell_type": "code",
      "metadata": {
        "colab_type": "code",
        "outputId": "09932130-3cec-4b92-96cb-9826abb38a27",
        "id": "LtK7TfgD3RL3",
        "colab": {
          "base_uri": "https://localhost:8080/",
          "height": 84
        }
      },
      "source": [
        "#construct confusion matrix\n",
        "confusion_matrix_rnn_undersample = conf_matrix(pred_rnn_undersample_class['class_pred'], text_classification_test_reduced.published)\n",
        "print(confusion_matrix_rnn_undersample)"
      ],
      "execution_count": 0,
      "outputs": [
        {
          "output_type": "stream",
          "text": [
            "Predicted      0      1\n",
            "True                   \n",
            "0           4699   1723\n",
            "1          25940  17638\n"
          ],
          "name": "stdout"
        }
      ]
    },
    {
      "cell_type": "markdown",
      "metadata": {
        "colab_type": "text",
        "id": "l8vkpFG_3RL9"
      },
      "source": [
        "##### Evaluation Metrics: F1, AUC, ACC"
      ]
    },
    {
      "cell_type": "code",
      "metadata": {
        "colab_type": "code",
        "outputId": "ef8feb3d-b5bc-4190-f38f-141f937fb090",
        "id": "HTezpdNX3RL-",
        "colab": {
          "base_uri": "https://localhost:8080/",
          "height": 67
        }
      },
      "source": [
        "import sklearn\n",
        "\n",
        "#calculate evaluation metrics\n",
        "f1_rnn_undersample = sklearn.metrics.f1_score(text_classification_test_reduced.published, pred_rnn_undersample_class.class_pred)\n",
        "auc_rnn_undersample = sklearn.metrics.roc_auc_score(text_classification_test_reduced.published, pred_rnn_undersample_class.prob_pred)\n",
        "acc_rnn_undersample = sklearn.metrics.accuracy_score(text_classification_test_reduced.published, pred_rnn_undersample_class.class_pred)\n",
        "\n",
        "print(\"F1:\", f1_rnn_undersample)\n",
        "print(\"AUC:\", auc_rnn_undersample)\n",
        "print(\"ACC:\", acc_rnn_undersample)"
      ],
      "execution_count": 0,
      "outputs": [
        {
          "output_type": "stream",
          "text": [
            "F1: 0.5604791941403581\n",
            "AUC: 0.5998135996982126\n",
            "ACC: 0.44674\n"
          ],
          "name": "stdout"
        }
      ]
    },
    {
      "cell_type": "code",
      "metadata": {
        "colab_type": "code",
        "outputId": "b03c1e4c-9136-4fde-e00e-e1ca1d5dca12",
        "id": "F4NFn01Y3RMG",
        "colab": {
          "base_uri": "https://localhost:8080/",
          "height": 295
        }
      },
      "source": [
        "#plot roc-auc curve\n",
        "plot_roc_auc(text_classification_test_reduced.published, pred_rnn_undersample_class.prob_pred)"
      ],
      "execution_count": 0,
      "outputs": [
        {
          "output_type": "display_data",
          "data": {
            "image/png": "[encoded data removed]",
            "text/plain": [
              "<Figure size 432x288 with 1 Axes>"
            ]
          },
          "metadata": {
            "tags": []
          }
        }
      ]
    },
    {
      "cell_type": "code",
      "metadata": {
        "colab_type": "code",
        "outputId": "a137ff36-8f42-4f0c-ca8a-89d115f5cbdc",
        "id": "mBrPvS-03RML",
        "colab": {
          "base_uri": "https://localhost:8080/",
          "height": 117
        }
      },
      "source": [
        "#print results of both models\n",
        "print(\"F1 BOW Imbalanced:\", f1_bow_undersample)\n",
        "print(\"F1 RNN Imbalanced:\", f1_rnn_undersample)\n",
        "\n",
        "print(\"AUC BOW Imbalanced:\", auc_bow_undersample)\n",
        "print(\"AUC RNN Imbalanced:\", auc_rnn_undersample)\n",
        "\n",
        "print(\"ACC BOW Imbalanced:\", acc_bow_undersample)\n",
        "print(\"ACC RNN Imbalanced:\", acc_rnn_undersample)"
      ],
      "execution_count": 0,
      "outputs": [
        {
          "output_type": "stream",
          "text": [
            "F1 BOW Imbalanced: 0.7002026902524414\n",
            "F1 RNN Imbalanced: 0.5604791941403581\n",
            "AUC BOW Imbalanced: 0.6457026518413722\n",
            "AUC RNN Imbalanced: 0.5998135996982126\n",
            "ACC BOW Imbalanced: 0.57698\n",
            "ACC RNN Imbalanced: 0.44674\n"
          ],
          "name": "stdout"
        }
      ]
    },
    {
      "cell_type": "markdown",
      "metadata": {
        "id": "9F-S2XIIMba9",
        "colab_type": "text"
      },
      "source": [
        "## Classification with generated Text using German Glove Embedding"
      ]
    },
    {
      "cell_type": "markdown",
      "metadata": {
        "id": "-dN13f3ttSIL",
        "colab_type": "text"
      },
      "source": [
        "### Prepare Data to use Generated GloVe Comments"
      ]
    },
    {
      "cell_type": "markdown",
      "metadata": {
        "id": "rF0R38vAtpMY",
        "colab_type": "text"
      },
      "source": [
        "#### Import and Clean Generated Comments"
      ]
    },
    {
      "cell_type": "code",
      "metadata": {
        "id": "EVPdhLLLMqRw",
        "colab_type": "code",
        "outputId": "d79fef5e-610e-4072-8968-ac58d7c893be",
        "colab": {
          "base_uri": "https://localhost:8080/",
          "height": 33
        }
      },
      "source": [
        "#specify absolute difference between comments\n",
        "abs_difference = len(text_classification_train_reduced[text_classification_train_reduced['published'] == True]) - len(text_classification_train_reduced[text_classification_train_reduced['published'] == False])\n",
        "\n",
        "print('Number of necessary generated comments:', abs_difference)"
      ],
      "execution_count": 0,
      "outputs": [
        {
          "output_type": "stream",
          "text": [
            "Number of necessary generated comments: 107786\n"
          ],
          "name": "stdout"
        }
      ]
    },
    {
      "cell_type": "code",
      "metadata": {
        "id": "bP5Bxuu-NcxV",
        "colab_type": "code",
        "outputId": "3bcf0d12-0a4c-4d9b-f1f5-9e6b440fb52e",
        "colab": {
          "base_uri": "https://localhost:8080/",
          "height": 134
        }
      },
      "source": [
        "#import generated comments\n",
        "glove_gen_comments = pd.read_csv(\"/content/drive/My Drive/glove_generated_30k.csv\", encoding='ISO 8859-1')\n",
        "glove_gen_comments = pd.DataFrame(glove_gen_comments['text'])\n",
        "\n",
        "print(glove_gen_comments.head())\n",
        "print(len(glove_gen_comments))"
      ],
      "execution_count": 0,
      "outputs": [
        {
          "output_type": "stream",
          "text": [
            "                                                text\n",
            "0  als sozialforschung hinzu im koran wird wie ni...\n",
            "1  sollte sollen sie meine auf allen steht aber i...\n",
            "2  integrationsbeauftragte region das nicht mit l...\n",
            "3  jetzt in von die laberwerkstatt blauen ungläub...\n",
            "4  nur eine parteien zu links der afd rügt löw fr...\n"
          ],
          "name": "stdout"
        },
        {
          "output_type": "execute_result",
          "data": {
            "text/plain": [
              "30133"
            ]
          },
          "metadata": {
            "tags": []
          },
          "execution_count": 77
        }
      ]
    },
    {
      "cell_type": "code",
      "metadata": {
        "colab_type": "code",
        "id": "fpDBQOEjHsfQ",
        "colab": {}
      },
      "source": [
        "#select comments to balance data\n",
        "#glove_gen_comments_sample = pd.DataFrame(glove_gen_comments.text.sample(n = abs_difference))\n",
        "#len(glove_gen_comments_sample)"
      ],
      "execution_count": 0,
      "outputs": []
    },
    {
      "cell_type": "code",
      "metadata": {
        "id": "EL-vjTqpavk6",
        "colab_type": "code",
        "outputId": "be37279c-bfee-47ef-e601-9d22d3f5f5db",
        "colab": {
          "base_uri": "https://localhost:8080/",
          "height": 117
        }
      },
      "source": [
        "#apply cleaning to generated comments\n",
        "glove_gen_comments['text'] = replace_umlaute(glove_gen_comments['text'])\n",
        "print(glove_gen_comments['text'][:5])"
      ],
      "execution_count": 0,
      "outputs": [
        {
          "output_type": "stream",
          "text": [
            "0    als sozialforschung hinzu im koran wird wie ni...\n",
            "1    sollte sollen sie meine auf allen steht aber i...\n",
            "2    integrationsbeauftragte region das nicht mit l...\n",
            "3    jetzt in von die laberwerkstatt blauen unglaeu...\n",
            "4    nur eine parteien zu links der afd ruegt loew ...\n",
            "Name: text, dtype: object\n"
          ],
          "name": "stdout"
        }
      ]
    },
    {
      "cell_type": "markdown",
      "metadata": {
        "colab_type": "text",
        "id": "oYvdx83cbG62"
      },
      "source": [
        "#### Remove Stop Words"
      ]
    },
    {
      "cell_type": "code",
      "metadata": {
        "id": "gpk2H8aZ74uX",
        "colab_type": "code",
        "outputId": "4d342790-0d0d-40e5-b9fd-81bcc0dd9ea2",
        "colab": {
          "base_uri": "https://localhost:8080/",
          "height": 84
        }
      },
      "source": [
        "import nltk\n",
        "nltk.download('stopwords')\n",
        "nltk.download('punkt')\n",
        "from nltk.corpus import stopwords\n",
        "from nltk import word_tokenize\n",
        "from nltk.tokenize.treebank import TreebankWordDetokenizer\n",
        "import string\n",
        "\n",
        "# Defining a function for text preparation for classification\n",
        "stop_words = set(stopwords.words('german'))\n",
        "# Detokenizer combines tokenized elements\n",
        "detokenizer = TreebankWordDetokenizer()\n",
        "\n",
        "stop_words = list(stop_words)\n",
        "\n",
        "#filter certain stop words from the list e.g. kein, nicht\n",
        "sw_remove = ['kein', 'keine', 'keinem', 'keinen', 'keiner', 'keines', 'nicht', 'nichts']\n",
        "\n",
        "for x in sw_remove:\n",
        "    if x in stop_words:\n",
        "        stop_words.remove(x)\n",
        "\n",
        "stop_words = set(stop_words)\n",
        "\n",
        "def prepare_text_class(text):\n",
        "    \n",
        "    # Remove URLs\n",
        "    text = re.sub(r'https\\S+', '', text)\n",
        "    text = re.sub(r'http\\S+', '', text)\n",
        "    text = re.sub(r'www.\\S+', '', text)\n",
        "    \n",
        "    # Remove references to Usernames\n",
        "    text = re.sub(r'@\\S+', '', text)\n",
        "    \n",
        "    # Remove line breaks\n",
        "    text = re.sub(\"\\n|\\r\", ' ', text)\n",
        "    \n",
        "    # Remove multiple spaces\n",
        "    text = re.sub(r'\\s{2,}', ' ', text)\n",
        "    \n",
        "    # devide the text into sequences of words and transform the tokens into lower case. This avoids having multiple copies of the same word.\n",
        "    text = word_tokenize(text.lower())\n",
        "    \n",
        "    # remove the commonly occuring words. For this purpose, I use predefined libraries. In the same step I remove the non alphabetic tokens.\n",
        "    text = [token for token in text if token not in stop_words and token.isalpha()]\n",
        "\n",
        "    # remove the punctuation since it doesn't give any extra information while treating the text. Furthermore, it helps us to reduce the size of the training data.\n",
        "    table = str.maketrans('', '', string.punctuation)\n",
        "    text = [token.translate(table) for token in text]\n",
        "\n",
        "    return detokenizer.detokenize(text)"
      ],
      "execution_count": 0,
      "outputs": [
        {
          "output_type": "stream",
          "text": [
            "[nltk_data] Downloading package stopwords to /root/nltk_data...\n",
            "[nltk_data]   Package stopwords is already up-to-date!\n",
            "[nltk_data] Downloading package punkt to /root/nltk_data...\n",
            "[nltk_data]   Package punkt is already up-to-date!\n"
          ],
          "name": "stdout"
        }
      ]
    },
    {
      "cell_type": "code",
      "metadata": {
        "colab_type": "code",
        "id": "P4iHCoApbG7L",
        "colab": {}
      },
      "source": [
        "#clean glove generated comments\n",
        "glove_gen_comments['text'] = glove_gen_comments['text'].apply(prepare_text_class)"
      ],
      "execution_count": 0,
      "outputs": []
    },
    {
      "cell_type": "code",
      "metadata": {
        "colab_type": "code",
        "id": "To_WjWcNbG7U",
        "outputId": "96bd209f-c7e3-43b8-df86-09bf7a9de8c1",
        "colab": {
          "base_uri": "https://localhost:8080/",
          "height": 117
        }
      },
      "source": [
        "glove_gen_comments['text'].head()"
      ],
      "execution_count": 0,
      "outputs": [
        {
          "output_type": "execute_result",
          "data": {
            "text/plain": [
              "0    sozialforschung hinzu koran nicht buergermeist...\n",
              "1    sollen steht immer verlieren ja dafuer moege t...\n",
              "2    integrationsbeauftragte region nicht lauter ei...\n",
              "3    laberwerkstatt blauen unglaeubigen irrtum lueg...\n",
              "4    parteien links afd ruegt loew freiheit hoelle ...\n",
              "Name: text, dtype: object"
            ]
          },
          "metadata": {
            "tags": []
          },
          "execution_count": 82
        }
      ]
    },
    {
      "cell_type": "markdown",
      "metadata": {
        "id": "tr19Q0CDd7FW",
        "colab_type": "text"
      },
      "source": [
        "### Stemming"
      ]
    },
    {
      "cell_type": "code",
      "metadata": {
        "colab_type": "code",
        "id": "16Jhq_Q9bG7b",
        "colab": {}
      },
      "source": [
        "#apply stemming\n",
        "nrows = len(glove_gen_comments)\n",
        "stem_text_list = []\n",
        "\n",
        "for row in range(0, nrows):\n",
        "    \n",
        "    # Create an empty list containing lemmatized words\n",
        "    stem_list = []\n",
        "    \n",
        "    # Save the text and its words into an object\n",
        "    text = glove_gen_comments.iloc[row]['text']\n",
        "        \n",
        "    # Stemming text\n",
        "    stem_text = stemmer.stem(text)\n",
        "    \n",
        "    # Append to the list containing the texts\n",
        "    stem_text_list.append(stem_text)\n",
        "\n",
        "glove_gen_comments['text'] = stem_text_list"
      ],
      "execution_count": 0,
      "outputs": []
    },
    {
      "cell_type": "markdown",
      "metadata": {
        "id": "6sxj5bLObydK",
        "colab_type": "text"
      },
      "source": [
        "#### Extending original Data Set with generated comments"
      ]
    },
    {
      "cell_type": "code",
      "metadata": {
        "colab_type": "code",
        "id": "j9UaMG5qKnmz",
        "colab": {}
      },
      "source": [
        "#specify number of comments to use for training set based on number of available generated comments for GloVe\n",
        "perc_published = 1-val_counts.counts[1]/val_counts.counts[0]\n",
        "perc_offline = val_counts.counts[1]/val_counts.counts[0]\n",
        "\n",
        "#calculate difference between percentage\n",
        "perc_difference = perc_published - perc_offline\n",
        "\n",
        "#total number of available real comments\n",
        "total_comments = len(text_classification_train)\n",
        "\n",
        "#number of available real published comments\n",
        "number_published_comments = sum(text_classification_train['published'] == True)\n",
        "\n",
        "#number of available real offline comments\n",
        "number_offline_comments = sum(text_classification_train['published'] == False)\n",
        "\n",
        "#specify necessary comments to use whole dataset\n",
        "necessary_comments = (perc_difference*total_comments)-number_offline_comments\n",
        "\n",
        "#set number of available generated comments\n",
        "gen_comments = len(glove_gen_comments)\n",
        "\n",
        "#ratio between generated comments and necessary comments\n",
        "gen_necessary_ratio = gen_comments/necessary_comments\n",
        "\n",
        "#reduce number of offline comments by ratio of actual and necessary generated comments\n",
        "number_offline_comments_new = number_offline_comments*gen_necessary_ratio\n",
        "\n",
        "#calculate total offline comments (reduced real comments + generated comments)\n",
        "total_offline = number_offline_comments_new + gen_comments\n",
        "\n",
        "#calculate how many observations from training set can be used --> real offline comments (gen + real - gen) = total published comments)\n",
        "total_comments_final_glove = int((total_offline*2)-gen_comments)\n"
      ],
      "execution_count": 0,
      "outputs": []
    },
    {
      "cell_type": "code",
      "metadata": {
        "id": "kbOlQpUmZVqP",
        "colab_type": "code",
        "outputId": "f4e6d96d-07f3-4e98-dbce-4dca5f8da87d",
        "colab": {
          "base_uri": "https://localhost:8080/",
          "height": 196
        }
      },
      "source": [
        "#adding generated comments to original data\n",
        "text_classification_train_reduced_small_glove = text_classification_train_reduced.sample(n=total_comments_final_glove, random_state=1)\n",
        "df_gen_glove = text_classification_train_reduced_small_glove[['text', 'published']].copy()\n",
        "df_gen_glove.head()"
      ],
      "execution_count": 0,
      "outputs": [
        {
          "output_type": "execute_result",
          "data": {
            "text/html": [
              "<div>\n",
              "<style scoped>\n",
              "    .dataframe tbody tr th:only-of-type {\n",
              "        vertical-align: middle;\n",
              "    }\n",
              "\n",
              "    .dataframe tbody tr th {\n",
              "        vertical-align: top;\n",
              "    }\n",
              "\n",
              "    .dataframe thead th {\n",
              "        text-align: right;\n",
              "    }\n",
              "</style>\n",
              "<table border=\"1\" class=\"dataframe\">\n",
              "  <thead>\n",
              "    <tr style=\"text-align: right;\">\n",
              "      <th></th>\n",
              "      <th>text</th>\n",
              "      <th>online</th>\n",
              "    </tr>\n",
              "  </thead>\n",
              "  <tbody>\n",
              "    <tr>\n",
              "      <th>1236267</th>\n",
              "      <td>erlauben stamp kannte mann bisher nicht</td>\n",
              "      <td>False</td>\n",
              "    </tr>\n",
              "    <tr>\n",
              "      <th>722238</th>\n",
              "      <td>glaube sahara gibt s genug</td>\n",
              "      <td>True</td>\n",
              "    </tr>\n",
              "    <tr>\n",
              "      <th>312585</th>\n",
              "      <td>zunaechst vielen dank georg differenzierten kl...</td>\n",
              "      <td>True</td>\n",
              "    </tr>\n",
              "    <tr>\n",
              "      <th>1334051</th>\n",
              "      <td>filiz message verstanden suedliche server weit...</td>\n",
              "      <td>False</td>\n",
              "    </tr>\n",
              "    <tr>\n",
              "      <th>531370</th>\n",
              "      <td>dafuer ausfuehrlich lesen seibert denkt fuehlt</td>\n",
              "      <td>False</td>\n",
              "    </tr>\n",
              "  </tbody>\n",
              "</table>\n",
              "</div>"
            ],
            "text/plain": [
              "                                                      text  online\n",
              "1236267            erlauben stamp kannte mann bisher nicht   False\n",
              "722238                          glaube sahara gibt s genug    True\n",
              "312585   zunaechst vielen dank georg differenzierten kl...    True\n",
              "1334051  filiz message verstanden suedliche server weit...   False\n",
              "531370      dafuer ausfuehrlich lesen seibert denkt fuehlt   False"
            ]
          },
          "metadata": {
            "tags": []
          },
          "execution_count": 85
        }
      ]
    },
    {
      "cell_type": "code",
      "metadata": {
        "id": "_75jgtloaKFw",
        "colab_type": "code",
        "outputId": "6b359ed8-a426-4e07-f18f-b30241b2b896",
        "colab": {
          "base_uri": "https://localhost:8080/",
          "height": 196
        }
      },
      "source": [
        "#extension dataframe\n",
        "glove_gen_ext = pd.DataFrame(glove_gen_comments)\n",
        "glove_gen_ext['published'] = False\n",
        "glove_gen_ext.head()"
      ],
      "execution_count": 0,
      "outputs": [
        {
          "output_type": "execute_result",
          "data": {
            "text/html": [
              "<div>\n",
              "<style scoped>\n",
              "    .dataframe tbody tr th:only-of-type {\n",
              "        vertical-align: middle;\n",
              "    }\n",
              "\n",
              "    .dataframe tbody tr th {\n",
              "        vertical-align: top;\n",
              "    }\n",
              "\n",
              "    .dataframe thead th {\n",
              "        text-align: right;\n",
              "    }\n",
              "</style>\n",
              "<table border=\"1\" class=\"dataframe\">\n",
              "  <thead>\n",
              "    <tr style=\"text-align: right;\">\n",
              "      <th></th>\n",
              "      <th>text</th>\n",
              "      <th>online</th>\n",
              "    </tr>\n",
              "  </thead>\n",
              "  <tbody>\n",
              "    <tr>\n",
              "      <th>0</th>\n",
              "      <td>sozialforschung hinzu koran nicht buergermeist...</td>\n",
              "      <td>False</td>\n",
              "    </tr>\n",
              "    <tr>\n",
              "      <th>1</th>\n",
              "      <td>sollen steht immer verlieren ja dafuer moege t...</td>\n",
              "      <td>False</td>\n",
              "    </tr>\n",
              "    <tr>\n",
              "      <th>2</th>\n",
              "      <td>integrationsbeauftragte region nicht lauter ei...</td>\n",
              "      <td>False</td>\n",
              "    </tr>\n",
              "    <tr>\n",
              "      <th>3</th>\n",
              "      <td>laberwerkstatt blauen unglaeubigen irrtum lueg...</td>\n",
              "      <td>False</td>\n",
              "    </tr>\n",
              "    <tr>\n",
              "      <th>4</th>\n",
              "      <td>parteien links afd ruegt loew freiheit hoelle ...</td>\n",
              "      <td>False</td>\n",
              "    </tr>\n",
              "  </tbody>\n",
              "</table>\n",
              "</div>"
            ],
            "text/plain": [
              "                                                text  online\n",
              "0  sozialforschung hinzu koran nicht buergermeist...   False\n",
              "1  sollen steht immer verlieren ja dafuer moege t...   False\n",
              "2  integrationsbeauftragte region nicht lauter ei...   False\n",
              "3  laberwerkstatt blauen unglaeubigen irrtum lueg...   False\n",
              "4  parteien links afd ruegt loew freiheit hoelle ...   False"
            ]
          },
          "metadata": {
            "tags": []
          },
          "execution_count": 86
        }
      ]
    },
    {
      "cell_type": "code",
      "metadata": {
        "id": "HedAQE13dNwX",
        "colab_type": "code",
        "outputId": "5d3e3f8c-ce52-44cf-ce97-7df915ba70d8",
        "colab": {
          "base_uri": "https://localhost:8080/",
          "height": 33
        }
      },
      "source": [
        "#concatenating data frames\n",
        "df_gen_glove = pd.concat([df_gen_glove, glove_gen_ext])\n",
        "len(df_gen_glove)"
      ],
      "execution_count": 0,
      "outputs": [
        {
          "output_type": "execute_result",
          "data": {
            "text/plain": [
              "74215"
            ]
          },
          "metadata": {
            "tags": []
          },
          "execution_count": 87
        }
      ]
    },
    {
      "cell_type": "code",
      "metadata": {
        "id": "NoX4VF31dXq5",
        "colab_type": "code",
        "outputId": "c2b5da34-74bf-41f2-cf09-bef7e0e14849",
        "colab": {
          "base_uri": "https://localhost:8080/",
          "height": 67
        }
      },
      "source": [
        "#check balancedness\n",
        "df_gen_glove['published'].value_counts()"
      ],
      "execution_count": 0,
      "outputs": [
        {
          "output_type": "execute_result",
          "data": {
            "text/plain": [
              "True     38195\n",
              "False    36020\n",
              "Name: online, dtype: int64"
            ]
          },
          "metadata": {
            "tags": []
          },
          "execution_count": 88
        }
      ]
    },
    {
      "cell_type": "markdown",
      "metadata": {
        "colab_type": "text",
        "id": "MpG0DWqLec2g"
      },
      "source": [
        "## Classification with balanced Dataset using GloVe Comments"
      ]
    },
    {
      "cell_type": "code",
      "metadata": {
        "colab_type": "code",
        "id": "DDstMb0Nec2v",
        "outputId": "461f2141-6407-4c72-c28e-fbb385bd72d3",
        "colab": {
          "base_uri": "https://localhost:8080/",
          "height": 196
        }
      },
      "source": [
        "#extracting texts and labels from data frame\n",
        "comment = pd.DataFrame()\n",
        "\n",
        "comment['text'] = df_gen_glove['text']\n",
        "comment['label'] = df_gen_glove['published']\n",
        "\n",
        "comment.head()"
      ],
      "execution_count": 0,
      "outputs": [
        {
          "output_type": "execute_result",
          "data": {
            "text/html": [
              "<div>\n",
              "<style scoped>\n",
              "    .dataframe tbody tr th:only-of-type {\n",
              "        vertical-align: middle;\n",
              "    }\n",
              "\n",
              "    .dataframe tbody tr th {\n",
              "        vertical-align: top;\n",
              "    }\n",
              "\n",
              "    .dataframe thead th {\n",
              "        text-align: right;\n",
              "    }\n",
              "</style>\n",
              "<table border=\"1\" class=\"dataframe\">\n",
              "  <thead>\n",
              "    <tr style=\"text-align: right;\">\n",
              "      <th></th>\n",
              "      <th>text</th>\n",
              "      <th>label</th>\n",
              "    </tr>\n",
              "  </thead>\n",
              "  <tbody>\n",
              "    <tr>\n",
              "      <th>1236267</th>\n",
              "      <td>erlauben stamp kannte mann bisher nicht</td>\n",
              "      <td>False</td>\n",
              "    </tr>\n",
              "    <tr>\n",
              "      <th>722238</th>\n",
              "      <td>glaube sahara gibt s genug</td>\n",
              "      <td>True</td>\n",
              "    </tr>\n",
              "    <tr>\n",
              "      <th>312585</th>\n",
              "      <td>zunaechst vielen dank georg differenzierten kl...</td>\n",
              "      <td>True</td>\n",
              "    </tr>\n",
              "    <tr>\n",
              "      <th>1334051</th>\n",
              "      <td>filiz message verstanden suedliche server weit...</td>\n",
              "      <td>False</td>\n",
              "    </tr>\n",
              "    <tr>\n",
              "      <th>531370</th>\n",
              "      <td>dafuer ausfuehrlich lesen seibert denkt fuehlt</td>\n",
              "      <td>False</td>\n",
              "    </tr>\n",
              "  </tbody>\n",
              "</table>\n",
              "</div>"
            ],
            "text/plain": [
              "                                                      text  label\n",
              "1236267            erlauben stamp kannte mann bisher nicht  False\n",
              "722238                          glaube sahara gibt s genug   True\n",
              "312585   zunaechst vielen dank georg differenzierten kl...   True\n",
              "1334051  filiz message verstanden suedliche server weit...  False\n",
              "531370      dafuer ausfuehrlich lesen seibert denkt fuehlt  False"
            ]
          },
          "metadata": {
            "tags": []
          },
          "execution_count": 89
        }
      ]
    },
    {
      "cell_type": "code",
      "metadata": {
        "colab_type": "code",
        "id": "18isZylOec26",
        "colab": {}
      },
      "source": [
        "#prepare training set\n",
        "comment_train = comment['text']\n",
        "label_train = comment['label']"
      ],
      "execution_count": 0,
      "outputs": []
    },
    {
      "cell_type": "code",
      "metadata": {
        "colab_type": "code",
        "id": "n46O1OI_ec3C",
        "outputId": "925983a6-2c49-4783-a52e-3176f93a5f0d",
        "colab": {
          "base_uri": "https://localhost:8080/",
          "height": 84
        }
      },
      "source": [
        "print(comment_train.shape)\n",
        "print(comment_test.shape)\n",
        "print(label_train.shape)\n",
        "print(label_test.shape)"
      ],
      "execution_count": 0,
      "outputs": [
        {
          "output_type": "stream",
          "text": [
            "(74215,)\n",
            "(50000,)\n",
            "(74215,)\n",
            "(50000,)\n"
          ],
          "name": "stdout"
        }
      ]
    },
    {
      "cell_type": "markdown",
      "metadata": {
        "colab_type": "text",
        "id": "5lb-HEBgvFUB"
      },
      "source": [
        "### BOW Classifier"
      ]
    },
    {
      "cell_type": "code",
      "metadata": {
        "colab_type": "code",
        "outputId": "171900a3-fe0f-4c31-9ebd-66a49ef97f0a",
        "id": "ME-bEBb_9xex",
        "colab": {
          "base_uri": "https://localhost:8080/",
          "height": 187
        }
      },
      "source": [
        "#bag of words classification\n",
        "pred_bow_oversample_glove = bow_classification(comment_train=comment_train, comment_test=comment_test)\n",
        "print(pred_bow_oversample_glove[pred_bow_oversample_glove < 0.5])"
      ],
      "execution_count": 0,
      "outputs": [
        {
          "output_type": "stream",
          "text": [
            "[0.01444025 0.41938359 0.49668464 ... 0.18556191 0.219572   0.4175143 ]\n"
          ],
          "name": "stdout"
        },
        {
          "output_type": "stream",
          "text": [
            "/usr/local/lib/python3.6/dist-packages/sklearn/linear_model/_logistic.py:940: ConvergenceWarning: lbfgs failed to converge (status=1):\n",
            "STOP: TOTAL NO. of ITERATIONS REACHED LIMIT.\n",
            "\n",
            "Increase the number of iterations (max_iter) or scale the data as shown in:\n",
            "    https://scikit-learn.org/stable/modules/preprocessing.html\n",
            "Please also refer to the documentation for alternative solver options:\n",
            "    https://scikit-learn.org/stable/modules/linear_model.html#logistic-regression\n",
            "  extra_warning_msg=_LOGISTIC_SOLVER_CONVERGENCE_MSG)\n"
          ],
          "name": "stderr"
        }
      ]
    },
    {
      "cell_type": "markdown",
      "metadata": {
        "colab_type": "text",
        "id": "WAL5zKXc9xfG"
      },
      "source": [
        "#### Calculate Evaluation Metrics"
      ]
    },
    {
      "cell_type": "code",
      "metadata": {
        "colab_type": "code",
        "id": "W1vx67559xfK",
        "colab": {}
      },
      "source": [
        "#calculate class predictions\n",
        "pred_bow_oversample_glove_class = class_prediction(pred_bow_oversample_glove)"
      ],
      "execution_count": 0,
      "outputs": []
    },
    {
      "cell_type": "markdown",
      "metadata": {
        "colab_type": "text",
        "id": "B7S67oTv9xfS"
      },
      "source": [
        "##### Confusion Matrix"
      ]
    },
    {
      "cell_type": "code",
      "metadata": {
        "colab_type": "code",
        "outputId": "9f051ec5-2b91-4953-af99-1f45fab54054",
        "id": "Ii4oiPoq9xfU",
        "colab": {
          "base_uri": "https://localhost:8080/",
          "height": 84
        }
      },
      "source": [
        "#construct confusion matrix\n",
        "confusion_matrix_bow_oversample_glove = conf_matrix(pred_bow_oversample_glove_class['class_pred'], text_classification_test_reduced.published)\n",
        "print(confusion_matrix_bow_oversample_glove)"
      ],
      "execution_count": 0,
      "outputs": [
        {
          "output_type": "stream",
          "text": [
            "Predicted      0      1\n",
            "True                   \n",
            "0           2555   3867\n",
            "1          10747  32831\n"
          ],
          "name": "stdout"
        }
      ]
    },
    {
      "cell_type": "markdown",
      "metadata": {
        "colab_type": "text",
        "id": "57ltcfXm9xfa"
      },
      "source": [
        "##### Evaluation Metrics: F1, AUC, ACC"
      ]
    },
    {
      "cell_type": "code",
      "metadata": {
        "colab_type": "code",
        "outputId": "9e0739ba-699e-4e70-a85d-990b0be666cf",
        "id": "JyxG5KYv9xfb",
        "colab": {
          "base_uri": "https://localhost:8080/",
          "height": 67
        }
      },
      "source": [
        "import sklearn\n",
        "\n",
        "#calculate evaluation metrics\n",
        "f1_bow_oversample_glove = sklearn.metrics.f1_score(text_classification_test_reduced.published, pred_bow_oversample_glove_class.class_pred)\n",
        "auc_bow_oversample_glove = sklearn.metrics.roc_auc_score(text_classification_test_reduced.published, pred_bow_oversample_glove_class.prob_pred)\n",
        "acc_bow_oversample_glove = sklearn.metrics.accuracy_score(text_classification_test_reduced.published, pred_bow_oversample_glove_class.class_pred)\n",
        "\n",
        "print(\"F1:\", f1_bow_oversample_glove)\n",
        "print(\"AUC:\", auc_bow_oversample_glove)\n",
        "print(\"ACC:\", acc_bow_oversample_glove)"
      ],
      "execution_count": 0,
      "outputs": [
        {
          "output_type": "stream",
          "text": [
            "F1: 0.8179530619363197\n",
            "AUC: 0.6213615251104778\n",
            "ACC: 0.70772\n"
          ],
          "name": "stdout"
        }
      ]
    },
    {
      "cell_type": "code",
      "metadata": {
        "colab_type": "code",
        "outputId": "2d337c23-2334-4b77-81d3-a3aa2bec2eb1",
        "id": "tWN5YD8U9xff",
        "colab": {
          "base_uri": "https://localhost:8080/",
          "height": 295
        }
      },
      "source": [
        "#plot roc-auc curve\n",
        "plot_roc_auc(text_classification_test_reduced.published, pred_bow_oversample_glove_class.prob_pred)"
      ],
      "execution_count": 0,
      "outputs": [
        {
          "output_type": "display_data",
          "data": {
            "image/png": "[encoded data removed]",
            "text/plain": [
              "<Figure size 432x288 with 1 Axes>"
            ]
          },
          "metadata": {
            "tags": []
          }
        }
      ]
    },
    {
      "cell_type": "markdown",
      "metadata": {
        "colab_type": "text",
        "id": "4zDNdkQX9xfp"
      },
      "source": [
        "### Preparation for RNN Classifier"
      ]
    },
    {
      "cell_type": "code",
      "metadata": {
        "colab_type": "code",
        "id": "fFOz6LXw9xfq",
        "colab": {}
      },
      "source": [
        "#tokenization and padding of sequences\n",
        "X_train, X_test = prepare_data_rnn(comment_train, comment_test)"
      ],
      "execution_count": 0,
      "outputs": []
    },
    {
      "cell_type": "markdown",
      "metadata": {
        "colab_type": "text",
        "id": "0YvKbwjA9xft"
      },
      "source": [
        "### RNN - Classifier"
      ]
    },
    {
      "cell_type": "code",
      "metadata": {
        "colab_type": "code",
        "outputId": "94933610-8d33-4263-e820-bc476cc259b5",
        "id": "d8nWLTLt9xfv",
        "colab": {
          "base_uri": "https://localhost:8080/",
          "height": 472
        }
      },
      "source": [
        "#setting early stopping parameter\n",
        "ea = EarlyStopping(monitor=\"val_loss\", mode=\"min\", patience=5)\n",
        "\n",
        "#train RNN model\n",
        "model.fit(X_train, label_train,\n",
        "          epochs=EPOCHS,\n",
        "          verbose=1,\n",
        "          validation_data=(X_test, label_test),\n",
        "          callbacks=[ea],\n",
        "          batch_size=BATCH_SIZE)"
      ],
      "execution_count": 0,
      "outputs": [
        {
          "output_type": "stream",
          "text": [
            "Train on 74215 samples, validate on 50000 samples\n",
            "Epoch 1/20\n",
            "74215/74215 [==============================] - 43s 576us/step - loss: 0.6399 - acc: 0.6188 - val_loss: 0.6310 - val_acc: 0.6257\n",
            "Epoch 2/20\n",
            "74215/74215 [==============================] - 43s 579us/step - loss: 0.5670 - acc: 0.6828 - val_loss: 0.5606 - val_acc: 0.7321\n",
            "Epoch 3/20\n",
            "74215/74215 [==============================] - 42s 571us/step - loss: 0.5415 - acc: 0.7094 - val_loss: 0.5735 - val_acc: 0.7031\n",
            "Epoch 4/20\n",
            "74215/74215 [==============================] - 43s 578us/step - loss: 0.5229 - acc: 0.7246 - val_loss: 0.5709 - val_acc: 0.7120\n",
            "Epoch 5/20\n",
            "74215/74215 [==============================] - 43s 577us/step - loss: 0.5043 - acc: 0.7405 - val_loss: 0.5324 - val_acc: 0.7487\n",
            "Epoch 6/20\n",
            "74215/74215 [==============================] - 43s 574us/step - loss: 0.4874 - acc: 0.7561 - val_loss: 0.6092 - val_acc: 0.6761\n",
            "Epoch 7/20\n",
            "74215/74215 [==============================] - 43s 582us/step - loss: 0.4721 - acc: 0.7663 - val_loss: 0.5281 - val_acc: 0.7511\n",
            "Epoch 8/20\n",
            "74215/74215 [==============================] - 43s 583us/step - loss: 0.4562 - acc: 0.7794 - val_loss: 0.5888 - val_acc: 0.6999\n",
            "Epoch 9/20\n",
            "74215/74215 [==============================] - 43s 576us/step - loss: 0.4427 - acc: 0.7872 - val_loss: 0.6712 - val_acc: 0.6491\n",
            "Epoch 10/20\n",
            "74215/74215 [==============================] - 43s 578us/step - loss: 0.4314 - acc: 0.7976 - val_loss: 0.6034 - val_acc: 0.7037\n",
            "Epoch 11/20\n",
            "74215/74215 [==============================] - 43s 577us/step - loss: 0.4185 - acc: 0.8033 - val_loss: 0.7070 - val_acc: 0.6353\n",
            "Epoch 12/20\n",
            "74215/74215 [==============================] - 43s 573us/step - loss: 0.4071 - acc: 0.8123 - val_loss: 0.6447 - val_acc: 0.6856\n"
          ],
          "name": "stdout"
        },
        {
          "output_type": "execute_result",
          "data": {
            "text/plain": [
              "<keras.callbacks.History at 0x7f8633ba1400>"
            ]
          },
          "metadata": {
            "tags": []
          },
          "execution_count": 98
        }
      ]
    },
    {
      "cell_type": "code",
      "metadata": {
        "colab_type": "code",
        "id": "OjUtHq4s9xf4",
        "colab": {}
      },
      "source": [
        "#predict class probabilities\n",
        "pred_rnn_oversample_glove = model.predict(X_test)"
      ],
      "execution_count": 0,
      "outputs": []
    },
    {
      "cell_type": "markdown",
      "metadata": {
        "colab_type": "text",
        "id": "a8I8-y8s9xgA"
      },
      "source": [
        "#### Calculate Evaluation Metrics"
      ]
    },
    {
      "cell_type": "code",
      "metadata": {
        "colab_type": "code",
        "id": "3nv9evfT9xgB",
        "colab": {}
      },
      "source": [
        "#calculate class predictions\n",
        "pred_rnn_oversample_glove_class = class_prediction(pred_rnn_oversample_glove)"
      ],
      "execution_count": 0,
      "outputs": []
    },
    {
      "cell_type": "markdown",
      "metadata": {
        "colab_type": "text",
        "id": "mknuB6i09xgN"
      },
      "source": [
        "##### Confusion Matrix"
      ]
    },
    {
      "cell_type": "code",
      "metadata": {
        "colab_type": "code",
        "outputId": "19a7c22a-8b7d-48b3-f547-d7409213e083",
        "id": "w_stdFdx9xgO",
        "colab": {
          "base_uri": "https://localhost:8080/",
          "height": 84
        }
      },
      "source": [
        "#construct confusion matrix\n",
        "confusion_matrix_rnn_oversample_glove = conf_matrix(pred_rnn_oversample_glove_class['class_pred'], text_classification_test_reduced.published)\n",
        "print(confusion_matrix_rnn_oversample_glove)"
      ],
      "execution_count": 0,
      "outputs": [
        {
          "output_type": "stream",
          "text": [
            "Predicted      0      1\n",
            "True                   \n",
            "0           2497   3925\n",
            "1          11796  31782\n"
          ],
          "name": "stdout"
        }
      ]
    },
    {
      "cell_type": "markdown",
      "metadata": {
        "colab_type": "text",
        "id": "KkzZBGKD9xgS"
      },
      "source": [
        "##### Evaluation Metrics: F1, AUC, ACC"
      ]
    },
    {
      "cell_type": "code",
      "metadata": {
        "colab_type": "code",
        "outputId": "d1e7ac34-4c40-4dd6-b006-60ac973a5e55",
        "id": "iQ9W_CRl9xgT",
        "colab": {
          "base_uri": "https://localhost:8080/",
          "height": 67
        }
      },
      "source": [
        "import sklearn\n",
        "\n",
        "#calculate evaluation metrics\n",
        "f1_rnn_oversample_glove = sklearn.metrics.f1_score(text_classification_test_reduced.published, pred_rnn_oversample_glove_class.class_pred)\n",
        "auc_rnn_oversample_glove = sklearn.metrics.roc_auc_score(text_classification_test_reduced.published, pred_rnn_oversample_glove_class.prob_pred)\n",
        "acc_rnn_oversample_glove = sklearn.metrics.accuracy_score(text_classification_test_reduced.published, pred_rnn_oversample_glove_class.class_pred)\n",
        "\n",
        "print(\"F1:\", f1_rnn_oversample_glove)\n",
        "print(\"AUC:\", auc_rnn_oversample_glove)\n",
        "print(\"ACC:\", acc_rnn_oversample_glove)"
      ],
      "execution_count": 0,
      "outputs": [
        {
          "output_type": "stream",
          "text": [
            "F1: 0.8017153307687457\n",
            "AUC: 0.5958927458031953\n",
            "ACC: 0.68558\n"
          ],
          "name": "stdout"
        }
      ]
    },
    {
      "cell_type": "code",
      "metadata": {
        "colab_type": "code",
        "outputId": "8cf5d688-51ab-4b3f-9bf2-4008c31b8312",
        "id": "XcPFO5jd9xgd",
        "colab": {
          "base_uri": "https://localhost:8080/",
          "height": 295
        }
      },
      "source": [
        "#plot roc-auc curve\n",
        "plot_roc_auc(text_classification_test_reduced.published, pred_rnn_oversample_glove_class.prob_pred)"
      ],
      "execution_count": 0,
      "outputs": [
        {
          "output_type": "display_data",
          "data": {
            "image/png": "[encoded data removed]",
            "text/plain": [
              "<Figure size 432x288 with 1 Axes>"
            ]
          },
          "metadata": {
            "tags": []
          }
        }
      ]
    },
    {
      "cell_type": "code",
      "metadata": {
        "colab_type": "code",
        "outputId": "79508802-ccf5-45bc-b605-55113dc445c5",
        "id": "THZqz1SX9xgg",
        "colab": {
          "base_uri": "https://localhost:8080/",
          "height": 117
        }
      },
      "source": [
        "#print results of both models\n",
        "print(\"F1 BOW Oversampled Glove:\", f1_bow_oversample_glove)\n",
        "print(\"F1 RNN Oversampled Glove:\", f1_rnn_oversample_glove)\n",
        "\n",
        "print(\"AUC BOW Oversampled Glove:\", auc_bow_oversample_glove)\n",
        "print(\"AUC RNN Oversampled Glove:\", auc_rnn_oversample_glove)\n",
        "\n",
        "print(\"ACC BOW Oversampled Glove:\", acc_bow_oversample_glove)\n",
        "print(\"ACC RNN Oversampled Glove:\", acc_rnn_oversample_glove)"
      ],
      "execution_count": 0,
      "outputs": [
        {
          "output_type": "stream",
          "text": [
            "F1 BOW Oversampled Glove: 0.8179530619363197\n",
            "F1 RNN Oversampled Glove: 0.8017153307687457\n",
            "AUC BOW Oversampled Glove: 0.6213615251104778\n",
            "AUC RNN Oversampled Glove: 0.5958927458031953\n",
            "ACC BOW Oversampled Glove: 0.70772\n",
            "ACC RNN Oversampled Glove: 0.68558\n"
          ],
          "name": "stdout"
        }
      ]
    },
    {
      "cell_type": "markdown",
      "metadata": {
        "colab_type": "text",
        "id": "vVCl-iq_zMpq"
      },
      "source": [
        "## Classification with generated Text using English GPT-2 Embedding"
      ]
    },
    {
      "cell_type": "markdown",
      "metadata": {
        "colab_type": "text",
        "id": "S_Mf1a4TzMpz"
      },
      "source": [
        "### Prepare Data to use Generated GPT-2 Comments"
      ]
    },
    {
      "cell_type": "markdown",
      "metadata": {
        "colab_type": "text",
        "id": "GKmcS5jazMp3"
      },
      "source": [
        "#### Import and Clean Generated Comments"
      ]
    },
    {
      "cell_type": "code",
      "metadata": {
        "colab_type": "code",
        "outputId": "6ef9a55b-a8f9-40f7-a61f-dc35e81672cb",
        "id": "HjzoSCbazMp6",
        "colab": {
          "base_uri": "https://localhost:8080/",
          "height": 33
        }
      },
      "source": [
        "#specify absolute difference between comments\n",
        "abs_difference = len(text_classification_train_reduced[text_classification_train_reduced['published'] == True]) - len(text_classification_train_reduced[text_classification_train_reduced['published'] == False])\n",
        "\n",
        "print('Number of necessary generated comments:', abs_difference)"
      ],
      "execution_count": 0,
      "outputs": [
        {
          "output_type": "stream",
          "text": [
            "Number of necessary generated comments: 107786\n"
          ],
          "name": "stdout"
        }
      ]
    },
    {
      "cell_type": "code",
      "metadata": {
        "colab_type": "code",
        "outputId": "12e6cc2e-7b5a-4d7b-dd79-001a71470c99",
        "id": "mP3FPgiszMqI",
        "colab": {
          "base_uri": "https://localhost:8080/",
          "height": 399
        }
      },
      "source": [
        "#import generated gpt-2 comments\n",
        "#import package for regular expressions\n",
        "import re\n",
        "\n",
        "#read generated text file\n",
        "gpt2_gen_comments = open(r\"/content/drive/My Drive/gpt2_gentext.txt\", encoding = \"UTF-8\")\n",
        "\n",
        "#read lines in file\n",
        "gpt2_gen_comments = gpt2_gen_comments.readlines()\n",
        "\n",
        "#remove line break operators\n",
        "gpt2_gen_comments = [re.sub(r'\\n', '', x) for x in gpt2_gen_comments]\n",
        "\n",
        "#remove separation characters\n",
        "gpt2_gen_comments = [re.sub(r'====================', '', x) for x in gpt2_gen_comments]\n",
        "\n",
        "#remove empty strings\n",
        "gpt2_gen_comments = list(filter(None, gpt2_gen_comments))\n",
        "\n",
        "print(gpt2_gen_comments[:10])\n",
        "print(len(gpt2_gen_comments))\n",
        "\n",
        "gpt2_gen_comments = pd.DataFrame(gpt2_gen_comments, columns = ['text'])\n",
        "\n",
        "gpt2_gen_comments[:10]"
      ],
      "execution_count": 0,
      "outputs": [
        {
          "output_type": "stream",
          "text": [
            "['t hat das ganze schon schwer auszuhalten nichts bewirken lassen nicht einmal die kirche mit merkel und der kanzlerin in nichts nachhilfe kurz nach der wahl hat sich das überhaupt erst in der frage der regelmässigkeit und der kirche erledigt', 'einer der schlimmsten sachen wie sie das leben auszusprechen ist auch ein menschenrecht das ist selbst ein grund', 'schon wieder der erste schritt in der türkei eines mädchens', 'ein einzelfall einzelfall', 'die wähler haben ein problem mit dem andern gemeint', 'man kann es sich ja ganz leicht um die bevölkerung bitten die probleme zu benennen eine neue identitaet wie das deutsche volk in dem sie sich auf die', 'z niedergeknählt', 'es ist schon ein witz dass die deutschen auch so viele probleme gaben', 'ich finde die ganze bande sollte einen guten job bekommen und sollte so langsam immer noch meinen wer dann in deutschland aufhört wird nicht mehr ausgeschöpft dann gibt es keine große aufmerksamkeit in d wenn man sich mit den bekannten schwierigkeiten nicht mehr abrüstet die kosten für den berg darauf werden einfahren die mieten zu verdammnis und das alles ist gut', 'ich kann auf keine einzige lösungen entstehen meine ich']\n",
            "113501\n"
          ],
          "name": "stdout"
        },
        {
          "output_type": "execute_result",
          "data": {
            "text/html": [
              "<div>\n",
              "<style scoped>\n",
              "    .dataframe tbody tr th:only-of-type {\n",
              "        vertical-align: middle;\n",
              "    }\n",
              "\n",
              "    .dataframe tbody tr th {\n",
              "        vertical-align: top;\n",
              "    }\n",
              "\n",
              "    .dataframe thead th {\n",
              "        text-align: right;\n",
              "    }\n",
              "</style>\n",
              "<table border=\"1\" class=\"dataframe\">\n",
              "  <thead>\n",
              "    <tr style=\"text-align: right;\">\n",
              "      <th></th>\n",
              "      <th>text</th>\n",
              "    </tr>\n",
              "  </thead>\n",
              "  <tbody>\n",
              "    <tr>\n",
              "      <th>0</th>\n",
              "      <td>t hat das ganze schon schwer auszuhalten nicht...</td>\n",
              "    </tr>\n",
              "    <tr>\n",
              "      <th>1</th>\n",
              "      <td>einer der schlimmsten sachen wie sie das leben...</td>\n",
              "    </tr>\n",
              "    <tr>\n",
              "      <th>2</th>\n",
              "      <td>schon wieder der erste schritt in der türkei e...</td>\n",
              "    </tr>\n",
              "    <tr>\n",
              "      <th>3</th>\n",
              "      <td>ein einzelfall einzelfall</td>\n",
              "    </tr>\n",
              "    <tr>\n",
              "      <th>4</th>\n",
              "      <td>die wähler haben ein problem mit dem andern ge...</td>\n",
              "    </tr>\n",
              "    <tr>\n",
              "      <th>5</th>\n",
              "      <td>man kann es sich ja ganz leicht um die bevölke...</td>\n",
              "    </tr>\n",
              "    <tr>\n",
              "      <th>6</th>\n",
              "      <td>z niedergeknählt</td>\n",
              "    </tr>\n",
              "    <tr>\n",
              "      <th>7</th>\n",
              "      <td>es ist schon ein witz dass die deutschen auch ...</td>\n",
              "    </tr>\n",
              "    <tr>\n",
              "      <th>8</th>\n",
              "      <td>ich finde die ganze bande sollte einen guten j...</td>\n",
              "    </tr>\n",
              "    <tr>\n",
              "      <th>9</th>\n",
              "      <td>ich kann auf keine einzige lösungen entstehen ...</td>\n",
              "    </tr>\n",
              "  </tbody>\n",
              "</table>\n",
              "</div>"
            ],
            "text/plain": [
              "                                                text\n",
              "0  t hat das ganze schon schwer auszuhalten nicht...\n",
              "1  einer der schlimmsten sachen wie sie das leben...\n",
              "2  schon wieder der erste schritt in der türkei e...\n",
              "3                          ein einzelfall einzelfall\n",
              "4  die wähler haben ein problem mit dem andern ge...\n",
              "5  man kann es sich ja ganz leicht um die bevölke...\n",
              "6                                   z niedergeknählt\n",
              "7  es ist schon ein witz dass die deutschen auch ...\n",
              "8  ich finde die ganze bande sollte einen guten j...\n",
              "9  ich kann auf keine einzige lösungen entstehen ..."
            ]
          },
          "metadata": {
            "tags": []
          },
          "execution_count": 106
        }
      ]
    },
    {
      "cell_type": "code",
      "metadata": {
        "colab_type": "code",
        "id": "5dD9zbpqzMqT",
        "outputId": "abd58e48-975e-4c4e-f5ed-a1513d23e75a",
        "colab": {
          "base_uri": "https://localhost:8080/",
          "height": 33
        }
      },
      "source": [
        "#select comments to balance data\n",
        "gpt2_gen_comments = pd.DataFrame(gpt2_gen_comments.text.sample(n = abs_difference, random_state = 1))\n",
        "len(gpt2_gen_comments)"
      ],
      "execution_count": 0,
      "outputs": [
        {
          "output_type": "execute_result",
          "data": {
            "text/plain": [
              "107786"
            ]
          },
          "metadata": {
            "tags": []
          },
          "execution_count": 107
        }
      ]
    },
    {
      "cell_type": "code",
      "metadata": {
        "colab_type": "code",
        "outputId": "b7e16243-3e08-4811-e136-4f9a9d4ecb22",
        "id": "lMcNRCbzB9p-",
        "colab": {
          "base_uri": "https://localhost:8080/",
          "height": 117
        }
      },
      "source": [
        "#apply cleaning to generated comments\n",
        "gpt2_gen_comments['text'] = replace_umlaute(gpt2_gen_comments['text'])\n",
        "print(gpt2_gen_comments['text'][:5])"
      ],
      "execution_count": 0,
      "outputs": [
        {
          "output_type": "stream",
          "text": [
            "102463    st waere das ende des deutschen volkes wenn es...\n",
            "89026     drei zwei stunden mit migrationshintergrund au...\n",
            "109041    gibt es hier ein einziges spiel mit deutschen ...\n",
            "99645     gibt es eigentlich keine untersuchungshaft auf...\n",
            "80095     en von einem einzigen ausreisepflichtigen auf ...\n",
            "Name: text, dtype: object\n"
          ],
          "name": "stdout"
        }
      ]
    },
    {
      "cell_type": "markdown",
      "metadata": {
        "colab_type": "text",
        "id": "FvQr5igfB9qQ"
      },
      "source": [
        "#### Remove Stop Words"
      ]
    },
    {
      "cell_type": "code",
      "metadata": {
        "colab_type": "code",
        "id": "BAqpfJy3B9qn",
        "colab": {}
      },
      "source": [
        "#cleaning generated text\n",
        "gpt2_gen_comments['text'] = gpt2_gen_comments['text'].apply(prepare_text_class)"
      ],
      "execution_count": 0,
      "outputs": []
    },
    {
      "cell_type": "code",
      "metadata": {
        "colab_type": "code",
        "outputId": "84585966-d40c-4fbb-98bd-17a33a4052ab",
        "id": "JK-yZU6cB9qr",
        "colab": {
          "base_uri": "https://localhost:8080/",
          "height": 117
        }
      },
      "source": [
        "gpt2_gen_comments['text'].head()"
      ],
      "execution_count": 0,
      "outputs": [
        {
          "output_type": "execute_result",
          "data": {
            "text/plain": [
              "102463    st waere ende deutschen volkes darum geht eu d...\n",
              "89026     drei zwei stunden migrationshintergrund usa vi...\n",
              "109041    gibt einziges spiel deutschen schnauze halten ...\n",
              "99645     gibt eigentlich keine untersuchungshaft proble...\n",
              "80095     en einzigen ausreisepflichtigen gefaehrliche r...\n",
              "Name: text, dtype: object"
            ]
          },
          "metadata": {
            "tags": []
          },
          "execution_count": 111
        }
      ]
    },
    {
      "cell_type": "markdown",
      "metadata": {
        "colab_type": "text",
        "id": "LPFcvJgBzMqq"
      },
      "source": [
        "### Stemming"
      ]
    },
    {
      "cell_type": "code",
      "metadata": {
        "colab_type": "code",
        "id": "vub4WDCOzMqr",
        "colab": {}
      },
      "source": [
        "nrows = len(gpt2_gen_comments)\n",
        "stem_text_list = []\n",
        "\n",
        "for row in range(0, nrows):\n",
        "    \n",
        "    # Create an empty list containing lemmatized words\n",
        "    stem_list = []\n",
        "    \n",
        "    # Save the text and its words into an object\n",
        "    text = gpt2_gen_comments.iloc[row]['text']\n",
        "        \n",
        "    # Stemming text\n",
        "    stem_text = stemmer.stem(text)\n",
        "    \n",
        "    # Append to the list containing the texts\n",
        "    stem_text_list.append(stem_text)\n",
        "\n",
        "gpt2_gen_comments['text'] = stem_text_list"
      ],
      "execution_count": 0,
      "outputs": []
    },
    {
      "cell_type": "markdown",
      "metadata": {
        "colab_type": "text",
        "id": "cGl3LbEbzMqu"
      },
      "source": [
        "#### Extending original Data Set with generated comments"
      ]
    },
    {
      "cell_type": "code",
      "metadata": {
        "colab_type": "code",
        "outputId": "832bc901-754a-457c-9c3d-dccd503c113d",
        "id": "Staxp4gVzMqv",
        "colab": {
          "base_uri": "https://localhost:8080/",
          "height": 196
        }
      },
      "source": [
        "#adding generated comments to original data\n",
        "df_gen_gpt2 = text_classification_train_reduced[['text', 'published']].copy()\n",
        "df_gen_gpt2.head()"
      ],
      "execution_count": 0,
      "outputs": [
        {
          "output_type": "execute_result",
          "data": {
            "text/html": [
              "<div>\n",
              "<style scoped>\n",
              "    .dataframe tbody tr th:only-of-type {\n",
              "        vertical-align: middle;\n",
              "    }\n",
              "\n",
              "    .dataframe tbody tr th {\n",
              "        vertical-align: top;\n",
              "    }\n",
              "\n",
              "    .dataframe thead th {\n",
              "        text-align: right;\n",
              "    }\n",
              "</style>\n",
              "<table border=\"1\" class=\"dataframe\">\n",
              "  <thead>\n",
              "    <tr style=\"text-align: right;\">\n",
              "      <th></th>\n",
              "      <th>text</th>\n",
              "      <th>online</th>\n",
              "    </tr>\n",
              "  </thead>\n",
              "  <tbody>\n",
              "    <tr>\n",
              "      <th>393613</th>\n",
              "      <td>haette eigentlich titelseite welt online gehoert</td>\n",
              "      <td>True</td>\n",
              "    </tr>\n",
              "    <tr>\n",
              "      <th>947179</th>\n",
              "      <td>bitterer witz aufs kopftuch uebertragen na gut...</td>\n",
              "      <td>True</td>\n",
              "    </tr>\n",
              "    <tr>\n",
              "      <th>14697</th>\n",
              "      <td>akk zementiert merkel geschaffen neue sed sozi...</td>\n",
              "      <td>True</td>\n",
              "    </tr>\n",
              "    <tr>\n",
              "      <th>979769</th>\n",
              "      <td>ja supi ganz toll nicht meinungen auseinanders...</td>\n",
              "      <td>True</td>\n",
              "    </tr>\n",
              "    <tr>\n",
              "      <th>255632</th>\n",
              "      <td>schwaetzt mal gerne thema herr kreuzabnehm</td>\n",
              "      <td>True</td>\n",
              "    </tr>\n",
              "  </tbody>\n",
              "</table>\n",
              "</div>"
            ],
            "text/plain": [
              "                                                     text  online\n",
              "393613   haette eigentlich titelseite welt online gehoert    True\n",
              "947179  bitterer witz aufs kopftuch uebertragen na gut...    True\n",
              "14697   akk zementiert merkel geschaffen neue sed sozi...    True\n",
              "979769  ja supi ganz toll nicht meinungen auseinanders...    True\n",
              "255632         schwaetzt mal gerne thema herr kreuzabnehm    True"
            ]
          },
          "metadata": {
            "tags": []
          },
          "execution_count": 113
        }
      ]
    },
    {
      "cell_type": "code",
      "metadata": {
        "colab_type": "code",
        "outputId": "b45ad2af-9fd9-4e80-cd2d-a4d74c417f25",
        "id": "HQ7WIslCzMq3",
        "colab": {
          "base_uri": "https://localhost:8080/",
          "height": 196
        }
      },
      "source": [
        "#extension dataframe\n",
        "gpt2_gen_ext = pd.DataFrame(gpt2_gen_comments)\n",
        "\n",
        "#setting label for generated comments\n",
        "gpt2_gen_ext['published'] = False\n",
        "gpt2_gen_ext.head()"
      ],
      "execution_count": 0,
      "outputs": [
        {
          "output_type": "execute_result",
          "data": {
            "text/html": [
              "<div>\n",
              "<style scoped>\n",
              "    .dataframe tbody tr th:only-of-type {\n",
              "        vertical-align: middle;\n",
              "    }\n",
              "\n",
              "    .dataframe tbody tr th {\n",
              "        vertical-align: top;\n",
              "    }\n",
              "\n",
              "    .dataframe thead th {\n",
              "        text-align: right;\n",
              "    }\n",
              "</style>\n",
              "<table border=\"1\" class=\"dataframe\">\n",
              "  <thead>\n",
              "    <tr style=\"text-align: right;\">\n",
              "      <th></th>\n",
              "      <th>text</th>\n",
              "      <th>online</th>\n",
              "    </tr>\n",
              "  </thead>\n",
              "  <tbody>\n",
              "    <tr>\n",
              "      <th>102463</th>\n",
              "      <td>st waere ende deutschen volkes darum geht eu d...</td>\n",
              "      <td>False</td>\n",
              "    </tr>\n",
              "    <tr>\n",
              "      <th>89026</th>\n",
              "      <td>drei zwei stunden migrationshintergrund usa vi...</td>\n",
              "      <td>False</td>\n",
              "    </tr>\n",
              "    <tr>\n",
              "      <th>109041</th>\n",
              "      <td>gibt einziges spiel deutschen schnauze halten ...</td>\n",
              "      <td>False</td>\n",
              "    </tr>\n",
              "    <tr>\n",
              "      <th>99645</th>\n",
              "      <td>gibt eigentlich keine untersuchungshaft proble...</td>\n",
              "      <td>False</td>\n",
              "    </tr>\n",
              "    <tr>\n",
              "      <th>80095</th>\n",
              "      <td>en einzigen ausreisepflichtigen gefaehrliche r...</td>\n",
              "      <td>False</td>\n",
              "    </tr>\n",
              "  </tbody>\n",
              "</table>\n",
              "</div>"
            ],
            "text/plain": [
              "                                                     text  online\n",
              "102463  st waere ende deutschen volkes darum geht eu d...   False\n",
              "89026   drei zwei stunden migrationshintergrund usa vi...   False\n",
              "109041  gibt einziges spiel deutschen schnauze halten ...   False\n",
              "99645   gibt eigentlich keine untersuchungshaft proble...   False\n",
              "80095   en einzigen ausreisepflichtigen gefaehrliche r...   False"
            ]
          },
          "metadata": {
            "tags": []
          },
          "execution_count": 114
        }
      ]
    },
    {
      "cell_type": "code",
      "metadata": {
        "colab_type": "code",
        "outputId": "73af8a23-77b2-4ec9-97b6-dd4538bb5f36",
        "id": "2-ycogfrzMq6",
        "colab": {
          "base_uri": "https://localhost:8080/",
          "height": 33
        }
      },
      "source": [
        "#concatenating data frames\n",
        "df_gen_gpt2 = pd.concat([df_gen_gpt2, gpt2_gen_ext])\n",
        "len(df_gen_gpt2)"
      ],
      "execution_count": 0,
      "outputs": [
        {
          "output_type": "execute_result",
          "data": {
            "text/plain": [
              "254078"
            ]
          },
          "metadata": {
            "tags": []
          },
          "execution_count": 115
        }
      ]
    },
    {
      "cell_type": "code",
      "metadata": {
        "colab_type": "code",
        "outputId": "dc9e8eaf-789d-4c1e-f608-153e9e53235a",
        "id": "uPyJhQoKzMq-",
        "colab": {
          "base_uri": "https://localhost:8080/",
          "height": 67
        }
      },
      "source": [
        "#check balancedness\n",
        "df_gen_gpt2['published'].value_counts()"
      ],
      "execution_count": 0,
      "outputs": [
        {
          "output_type": "execute_result",
          "data": {
            "text/plain": [
              "True     127039\n",
              "False    127039\n",
              "Name: online, dtype: int64"
            ]
          },
          "metadata": {
            "tags": []
          },
          "execution_count": 116
        }
      ]
    },
    {
      "cell_type": "markdown",
      "metadata": {
        "colab_type": "text",
        "id": "vrwo0aj2zMrC"
      },
      "source": [
        "## Classification with balanced Dataset using GPT-2 Comments"
      ]
    },
    {
      "cell_type": "code",
      "metadata": {
        "colab_type": "code",
        "outputId": "3413ab67-063a-441d-d387-ced581698c3b",
        "id": "JR3hvTdYzMrD",
        "colab": {
          "base_uri": "https://localhost:8080/",
          "height": 196
        }
      },
      "source": [
        "#extracting texts and labels from data frame\n",
        "comment = pd.DataFrame()\n",
        "\n",
        "comment['text'] = df_gen_gpt2['text']\n",
        "comment['label'] = df_gen_gpt2['published']\n",
        "\n",
        "comment.head()"
      ],
      "execution_count": 0,
      "outputs": [
        {
          "output_type": "execute_result",
          "data": {
            "text/html": [
              "<div>\n",
              "<style scoped>\n",
              "    .dataframe tbody tr th:only-of-type {\n",
              "        vertical-align: middle;\n",
              "    }\n",
              "\n",
              "    .dataframe tbody tr th {\n",
              "        vertical-align: top;\n",
              "    }\n",
              "\n",
              "    .dataframe thead th {\n",
              "        text-align: right;\n",
              "    }\n",
              "</style>\n",
              "<table border=\"1\" class=\"dataframe\">\n",
              "  <thead>\n",
              "    <tr style=\"text-align: right;\">\n",
              "      <th></th>\n",
              "      <th>text</th>\n",
              "      <th>label</th>\n",
              "    </tr>\n",
              "  </thead>\n",
              "  <tbody>\n",
              "    <tr>\n",
              "      <th>393613</th>\n",
              "      <td>haette eigentlich titelseite welt online gehoert</td>\n",
              "      <td>True</td>\n",
              "    </tr>\n",
              "    <tr>\n",
              "      <th>947179</th>\n",
              "      <td>bitterer witz aufs kopftuch uebertragen na gut...</td>\n",
              "      <td>True</td>\n",
              "    </tr>\n",
              "    <tr>\n",
              "      <th>14697</th>\n",
              "      <td>akk zementiert merkel geschaffen neue sed sozi...</td>\n",
              "      <td>True</td>\n",
              "    </tr>\n",
              "    <tr>\n",
              "      <th>979769</th>\n",
              "      <td>ja supi ganz toll nicht meinungen auseinanders...</td>\n",
              "      <td>True</td>\n",
              "    </tr>\n",
              "    <tr>\n",
              "      <th>255632</th>\n",
              "      <td>schwaetzt mal gerne thema herr kreuzabnehm</td>\n",
              "      <td>True</td>\n",
              "    </tr>\n",
              "  </tbody>\n",
              "</table>\n",
              "</div>"
            ],
            "text/plain": [
              "                                                     text  label\n",
              "393613   haette eigentlich titelseite welt online gehoert   True\n",
              "947179  bitterer witz aufs kopftuch uebertragen na gut...   True\n",
              "14697   akk zementiert merkel geschaffen neue sed sozi...   True\n",
              "979769  ja supi ganz toll nicht meinungen auseinanders...   True\n",
              "255632         schwaetzt mal gerne thema herr kreuzabnehm   True"
            ]
          },
          "metadata": {
            "tags": []
          },
          "execution_count": 117
        }
      ]
    },
    {
      "cell_type": "code",
      "metadata": {
        "colab_type": "code",
        "id": "Oe-XwLOLzMrH",
        "colab": {}
      },
      "source": [
        "#prepare training set\n",
        "comment_train = comment['text']\n",
        "label_train = comment['label']"
      ],
      "execution_count": 0,
      "outputs": []
    },
    {
      "cell_type": "code",
      "metadata": {
        "colab_type": "code",
        "outputId": "96ecc793-c847-4d92-d0fe-be9de07e9562",
        "id": "Qyv-Bwp9zMrL",
        "colab": {
          "base_uri": "https://localhost:8080/",
          "height": 84
        }
      },
      "source": [
        "print(comment_train.shape)\n",
        "print(comment_test.shape)\n",
        "print(label_train.shape)\n",
        "print(label_test.shape)"
      ],
      "execution_count": 0,
      "outputs": [
        {
          "output_type": "stream",
          "text": [
            "(254078,)\n",
            "(50000,)\n",
            "(254078,)\n",
            "(50000,)\n"
          ],
          "name": "stdout"
        }
      ]
    },
    {
      "cell_type": "markdown",
      "metadata": {
        "colab_type": "text",
        "id": "-eZTFDXCBRMa"
      },
      "source": [
        "### BOW Classifier"
      ]
    },
    {
      "cell_type": "code",
      "metadata": {
        "colab_type": "code",
        "id": "6zJ9eqkDBRMe",
        "colab": {}
      },
      "source": [
        "#bag of words classification\n",
        "pred_bow_oversample_gpt2 = bow_classification(comment_train=comment_train, comment_test=comment_test)"
      ],
      "execution_count": 0,
      "outputs": []
    },
    {
      "cell_type": "markdown",
      "metadata": {
        "colab_type": "text",
        "id": "h1KFc3IuBRMm"
      },
      "source": [
        "#### Calculate Evaluation Metrics"
      ]
    },
    {
      "cell_type": "code",
      "metadata": {
        "colab_type": "code",
        "id": "XT4PMbZIBRMo",
        "colab": {}
      },
      "source": [
        "#calculate class predictions\n",
        "pred_bow_oversample_gpt2_class = class_prediction(pred_bow_oversample_gpt2)"
      ],
      "execution_count": 0,
      "outputs": []
    },
    {
      "cell_type": "markdown",
      "metadata": {
        "colab_type": "text",
        "id": "_4Ip1S31BRMx"
      },
      "source": [
        "##### Confusion Matrix"
      ]
    },
    {
      "cell_type": "code",
      "metadata": {
        "colab_type": "code",
        "outputId": "4b4a8825-b86d-4c53-8d08-8949643908d3",
        "id": "nAvOrdOQBRM0",
        "colab": {
          "base_uri": "https://localhost:8080/",
          "height": 84
        }
      },
      "source": [
        "#construct confusion matrix\n",
        "confusion_matrix_bow_oversample_gpt2 = conf_matrix(pred_bow_oversample_gpt2_class['class_pred'], text_classification_test_reduced.published)\n",
        "print(confusion_matrix_bow_oversample_gpt2)"
      ],
      "execution_count": 0,
      "outputs": [
        {
          "output_type": "stream",
          "text": [
            "Predicted     0      1\n",
            "True                  \n",
            "0          2136   4286\n",
            "1          8535  35043\n"
          ],
          "name": "stdout"
        }
      ]
    },
    {
      "cell_type": "markdown",
      "metadata": {
        "colab_type": "text",
        "id": "QtxchWdPBRM5"
      },
      "source": [
        "##### Evaluation Metrics: F1, AUC, ACC"
      ]
    },
    {
      "cell_type": "code",
      "metadata": {
        "colab_type": "code",
        "outputId": "624a548b-fa61-48d0-be85-c809fe94f577",
        "id": "x-AHfhiPBRM6",
        "colab": {
          "base_uri": "https://localhost:8080/",
          "height": 67
        }
      },
      "source": [
        "import sklearn\n",
        "\n",
        "#calculate evaluation metrics\n",
        "f1_bow_oversample_gpt2 = sklearn.metrics.f1_score(text_classification_test_reduced.published, pred_bow_oversample_gpt2_class.class_pred)\n",
        "auc_bow_oversample_gpt2 = sklearn.metrics.roc_auc_score(text_classification_test_reduced.published, pred_bow_oversample_gpt2_class.prob_pred)\n",
        "acc_bow_oversample_gpt2 = sklearn.metrics.accuracy_score(text_classification_test_reduced.published, pred_bow_oversample_gpt2_class.class_pred)\n",
        "\n",
        "print(\"F1:\", f1_bow_oversample_gpt2)\n",
        "print(\"AUC:\", auc_bow_oversample_gpt2)\n",
        "print(\"ACC:\", acc_bow_oversample_gpt2)"
      ],
      "execution_count": 0,
      "outputs": [
        {
          "output_type": "stream",
          "text": [
            "F1: 0.8453568456222031\n",
            "AUC: 0.6275416236573419\n",
            "ACC: 0.74358\n"
          ],
          "name": "stdout"
        }
      ]
    },
    {
      "cell_type": "code",
      "metadata": {
        "colab_type": "code",
        "outputId": "5657ecd5-a70f-4972-9532-ff8c5e939448",
        "id": "VQAm-wJ_BRNJ",
        "colab": {
          "base_uri": "https://localhost:8080/",
          "height": 295
        }
      },
      "source": [
        "#plot roc-auc curve\n",
        "plot_roc_auc(text_classification_test_reduced.published, pred_bow_oversample_gpt2_class.prob_pred)"
      ],
      "execution_count": 0,
      "outputs": [
        {
          "output_type": "display_data",
          "data": {
            "image/png": "[encoded data removed]",
            "text/plain": [
              "<Figure size 432x288 with 1 Axes>"
            ]
          },
          "metadata": {
            "tags": []
          }
        }
      ]
    },
    {
      "cell_type": "markdown",
      "metadata": {
        "colab_type": "text",
        "id": "BJnO97OTBRNQ"
      },
      "source": [
        "### Preparation for RNN Classifier"
      ]
    },
    {
      "cell_type": "code",
      "metadata": {
        "colab_type": "code",
        "id": "tdfsnCYPBRNS",
        "colab": {}
      },
      "source": [
        "#tokenization and padding of sequences\n",
        "X_train, X_test = prepare_data_rnn(comment_train, comment_test)"
      ],
      "execution_count": 0,
      "outputs": []
    },
    {
      "cell_type": "markdown",
      "metadata": {
        "colab_type": "text",
        "id": "QHm-0KzfBRNe"
      },
      "source": [
        "### RNN - Classifier"
      ]
    },
    {
      "cell_type": "code",
      "metadata": {
        "colab_type": "code",
        "outputId": "4728e021-47e7-4f6a-8126-05e65d5b1816",
        "id": "fccko3T2BRNg",
        "colab": {
          "base_uri": "https://localhost:8080/",
          "height": 338
        }
      },
      "source": [
        "#setting early stopping parameter\n",
        "ea = EarlyStopping(monitor=\"val_loss\", mode=\"min\", patience=5)\n",
        "\n",
        "#train RNN model\n",
        "model.fit(X_train, label_train,\n",
        "          epochs=EPOCHS,\n",
        "          verbose=1,\n",
        "          validation_data=(X_test, label_test),\n",
        "          callbacks=[ea],\n",
        "          batch_size=BATCH_SIZE)"
      ],
      "execution_count": 0,
      "outputs": [
        {
          "output_type": "stream",
          "text": [
            "Train on 254078 samples, validate on 50000 samples\n",
            "Epoch 1/20\n",
            "254078/254078 [==============================] - 133s 522us/step - loss: 0.4807 - acc: 0.7717 - val_loss: 0.5365 - val_acc: 0.7517\n",
            "Epoch 2/20\n",
            "254078/254078 [==============================] - 132s 520us/step - loss: 0.4025 - acc: 0.8218 - val_loss: 0.4734 - val_acc: 0.7961\n",
            "Epoch 3/20\n",
            "254078/254078 [==============================] - 131s 516us/step - loss: 0.3785 - acc: 0.8364 - val_loss: 0.4643 - val_acc: 0.8039\n",
            "Epoch 4/20\n",
            "254078/254078 [==============================] - 131s 516us/step - loss: 0.3639 - acc: 0.8446 - val_loss: 0.5145 - val_acc: 0.7766\n",
            "Epoch 5/20\n",
            "254078/254078 [==============================] - 131s 514us/step - loss: 0.3518 - acc: 0.8519 - val_loss: 0.4824 - val_acc: 0.7974\n",
            "Epoch 6/20\n",
            "254078/254078 [==============================] - 131s 514us/step - loss: 0.3432 - acc: 0.8563 - val_loss: 0.4996 - val_acc: 0.7898\n",
            "Epoch 7/20\n",
            "254078/254078 [==============================] - 131s 514us/step - loss: 0.3353 - acc: 0.8602 - val_loss: 0.5389 - val_acc: 0.7697\n",
            "Epoch 8/20\n",
            "254078/254078 [==============================] - 131s 516us/step - loss: 0.3294 - acc: 0.8637 - val_loss: 0.5144 - val_acc: 0.7852\n"
          ],
          "name": "stdout"
        },
        {
          "output_type": "execute_result",
          "data": {
            "text/plain": [
              "<keras.callbacks.History at 0x7f863167fb00>"
            ]
          },
          "metadata": {
            "tags": []
          },
          "execution_count": 126
        }
      ]
    },
    {
      "cell_type": "code",
      "metadata": {
        "colab_type": "code",
        "id": "WdJBnbJRBRNq",
        "colab": {}
      },
      "source": [
        "#predict class probabilities\n",
        "pred_rnn_oversample_gpt2 = model.predict(X_test)"
      ],
      "execution_count": 0,
      "outputs": []
    },
    {
      "cell_type": "markdown",
      "metadata": {
        "colab_type": "text",
        "id": "IBISmOAABRN3"
      },
      "source": [
        "#### Calculate Evaluation Metrics"
      ]
    },
    {
      "cell_type": "code",
      "metadata": {
        "colab_type": "code",
        "id": "Ide6FasXBRN5",
        "colab": {}
      },
      "source": [
        "#calculate class predictions\n",
        "pred_rnn_oversample_gpt2_class = class_prediction(pred_rnn_oversample_gpt2)"
      ],
      "execution_count": 0,
      "outputs": []
    },
    {
      "cell_type": "markdown",
      "metadata": {
        "colab_type": "text",
        "id": "FrUFq53QBROB"
      },
      "source": [
        "##### Confusion Matrix"
      ]
    },
    {
      "cell_type": "code",
      "metadata": {
        "colab_type": "code",
        "outputId": "00d1da98-63b6-4cd5-86b8-833f20121b3c",
        "id": "zIrl6GgFBROC",
        "colab": {
          "base_uri": "https://localhost:8080/",
          "height": 84
        }
      },
      "source": [
        "#construct confusion matrix\n",
        "confusion_matrix_rnn_oversample_gpt2 = conf_matrix(pred_rnn_oversample_gpt2_class['class_pred'], text_classification_test_reduced.published)\n",
        "print(confusion_matrix_rnn_oversample_gpt2)"
      ],
      "execution_count": 0,
      "outputs": [
        {
          "output_type": "stream",
          "text": [
            "Predicted     0      1\n",
            "True                  \n",
            "0          1390   5032\n",
            "1          5708  37870\n"
          ],
          "name": "stdout"
        }
      ]
    },
    {
      "cell_type": "markdown",
      "metadata": {
        "colab_type": "text",
        "id": "fOF-gXp1BROI"
      },
      "source": [
        "##### Evaluation Metrics: F1, AUC, ACC"
      ]
    },
    {
      "cell_type": "code",
      "metadata": {
        "colab_type": "code",
        "outputId": "e51f9155-0390-4272-b902-988a58ca739e",
        "id": "031FtoF5BROK",
        "colab": {
          "base_uri": "https://localhost:8080/",
          "height": 67
        }
      },
      "source": [
        "import sklearn\n",
        "\n",
        "#calculate evaluation metrics\n",
        "f1_rnn_oversample_gpt2 = sklearn.metrics.f1_score(text_classification_test_reduced.published, pred_rnn_oversample_gpt2_class.class_pred)\n",
        "auc_rnn_oversample_gpt2 = sklearn.metrics.roc_auc_score(text_classification_test_reduced.published, pred_rnn_oversample_gpt2_class.prob_pred)\n",
        "acc_rnn_oversample_gpt2 = sklearn.metrics.accuracy_score(text_classification_test_reduced.published, pred_rnn_oversample_gpt2_class.class_pred)\n",
        "\n",
        "print(\"F1:\", f1_rnn_oversample_gpt2)\n",
        "print(\"AUC:\", auc_rnn_oversample_gpt2)\n",
        "print(\"ACC:\", acc_rnn_oversample_gpt2)"
      ],
      "execution_count": 0,
      "outputs": [
        {
          "output_type": "stream",
          "text": [
            "F1: 0.8758094357076781\n",
            "AUC: 0.6090585356177668\n",
            "ACC: 0.7852\n"
          ],
          "name": "stdout"
        }
      ]
    },
    {
      "cell_type": "code",
      "metadata": {
        "colab_type": "code",
        "outputId": "a20d1d52-4bdc-469d-a935-379ee2067af6",
        "id": "aDS9OXc3BROS",
        "colab": {
          "base_uri": "https://localhost:8080/",
          "height": 295
        }
      },
      "source": [
        "#plot roc-auc curve\n",
        "plot_roc_auc(text_classification_test_reduced.published, pred_rnn_oversample_gpt2_class.prob_pred)"
      ],
      "execution_count": 0,
      "outputs": [
        {
          "output_type": "display_data",
          "data": {
            "image/png": "[encoded data removed]",
            "text/plain": [
              "<Figure size 432x288 with 1 Axes>"
            ]
          },
          "metadata": {
            "tags": []
          }
        }
      ]
    },
    {
      "cell_type": "code",
      "metadata": {
        "colab_type": "code",
        "outputId": "d67f1104-c772-4238-f4a5-909fd1854003",
        "id": "y7dRinTdBROV",
        "colab": {
          "base_uri": "https://localhost:8080/",
          "height": 117
        }
      },
      "source": [
        "#print results of both models\n",
        "print(\"F1 BOW Oversampled GPT-2:\", f1_bow_oversample_gpt2)\n",
        "print(\"F1 RNN Oversampled GPT-2:\", f1_rnn_oversample_gpt2)\n",
        "\n",
        "print(\"AUC BOW Oversampled GPT-2:\", auc_bow_oversample_gpt2)\n",
        "print(\"AUC RNN Oversampled GPT-2:\", auc_rnn_oversample_gpt2)\n",
        "\n",
        "print(\"ACC BOW Oversampled GPT-2:\", acc_bow_oversample_gpt2)\n",
        "print(\"ACC RNN Oversampled GPT-2:\", acc_rnn_oversample_gpt2)"
      ],
      "execution_count": 0,
      "outputs": [
        {
          "output_type": "stream",
          "text": [
            "F1 BOW Oversampled GPT-2: 0.8453568456222031\n",
            "F1 RNN Oversampled GPT-2: 0.8758094357076781\n",
            "AUC BOW Oversampled GPT-2: 0.6275416236573419\n",
            "AUC RNN Oversampled GPT-2: 0.6090585356177668\n",
            "ACC BOW Oversampled GPT-2: 0.74358\n",
            "ACC RNN Oversampled GPT-2: 0.7852\n"
          ],
          "name": "stdout"
        }
      ]
    },
    {
      "cell_type": "markdown",
      "metadata": {
        "id": "6aR1T3Ef-XZQ",
        "colab_type": "text"
      },
      "source": [
        "## Saving Predictions"
      ]
    },
    {
      "cell_type": "code",
      "metadata": {
        "id": "frn-aoOW-h_Q",
        "colab_type": "code",
        "outputId": "bedb90d4-31ed-401c-82bb-8202ecf8a020",
        "colab": {
          "base_uri": "https://localhost:8080/",
          "height": 196
        }
      },
      "source": [
        "#dataframe with predictions\n",
        "pred_data = {'bow_imbalanced':pred_rnn_imbalanced_class.prob_pred,\n",
        "             'rnn_imbalanced':pred_rnn_imbalanced_class.prob_pred,\n",
        "             'bow_undersample':pred_bow_undersample_class.prob_pred,\n",
        "             'rnn_undersample':pred_rnn_undersample_class.prob_pred,\n",
        "             'bow_glove':pred_bow_oversample_glove_class.prob_pred,\n",
        "             'rnn_glove':pred_rnn_oversample_glove_class.prob_pred,\n",
        "             'bow_gpt2':pred_bow_oversample_gpt2_class.prob_pred,\n",
        "             'rnn_gpt2':pred_rnn_oversample_gpt2_class.prob_pred,\n",
        "             'true_value':list(text_classification_test_reduced.published.astype(int))}\n",
        "\n",
        "pred_df = pd.DataFrame(pred_data)\n",
        "\n",
        "pred_df.head()"
      ],
      "execution_count": 0,
      "outputs": [
        {
          "output_type": "execute_result",
          "data": {
            "text/html": [
              "<div>\n",
              "<style scoped>\n",
              "    .dataframe tbody tr th:only-of-type {\n",
              "        vertical-align: middle;\n",
              "    }\n",
              "\n",
              "    .dataframe tbody tr th {\n",
              "        vertical-align: top;\n",
              "    }\n",
              "\n",
              "    .dataframe thead th {\n",
              "        text-align: right;\n",
              "    }\n",
              "</style>\n",
              "<table border=\"1\" class=\"dataframe\">\n",
              "  <thead>\n",
              "    <tr style=\"text-align: right;\">\n",
              "      <th></th>\n",
              "      <th>bow_imbalanced</th>\n",
              "      <th>rnn_imbalanced</th>\n",
              "      <th>bow_undersample</th>\n",
              "      <th>rnn_undersample</th>\n",
              "      <th>bow_glove</th>\n",
              "      <th>rnn_glove</th>\n",
              "      <th>bow_gpt2</th>\n",
              "      <th>rnn_gpt2</th>\n",
              "      <th>true_value</th>\n",
              "    </tr>\n",
              "  </thead>\n",
              "  <tbody>\n",
              "    <tr>\n",
              "      <th>0</th>\n",
              "      <td>0.671189</td>\n",
              "      <td>0.671189</td>\n",
              "      <td>0.001569</td>\n",
              "      <td>0.224269</td>\n",
              "      <td>0.014440</td>\n",
              "      <td>0.267475</td>\n",
              "      <td>0.006568</td>\n",
              "      <td>0.048076</td>\n",
              "      <td>1</td>\n",
              "    </tr>\n",
              "    <tr>\n",
              "      <th>1</th>\n",
              "      <td>0.986998</td>\n",
              "      <td>0.986998</td>\n",
              "      <td>0.977082</td>\n",
              "      <td>0.698867</td>\n",
              "      <td>0.961582</td>\n",
              "      <td>0.619096</td>\n",
              "      <td>0.999947</td>\n",
              "      <td>0.951166</td>\n",
              "      <td>1</td>\n",
              "    </tr>\n",
              "    <tr>\n",
              "      <th>2</th>\n",
              "      <td>0.804610</td>\n",
              "      <td>0.804610</td>\n",
              "      <td>0.394534</td>\n",
              "      <td>0.379952</td>\n",
              "      <td>0.419384</td>\n",
              "      <td>0.789161</td>\n",
              "      <td>0.473426</td>\n",
              "      <td>0.583110</td>\n",
              "      <td>1</td>\n",
              "    </tr>\n",
              "    <tr>\n",
              "      <th>3</th>\n",
              "      <td>0.728797</td>\n",
              "      <td>0.728797</td>\n",
              "      <td>0.562474</td>\n",
              "      <td>0.370842</td>\n",
              "      <td>0.812884</td>\n",
              "      <td>0.881891</td>\n",
              "      <td>0.710474</td>\n",
              "      <td>0.720110</td>\n",
              "      <td>0</td>\n",
              "    </tr>\n",
              "    <tr>\n",
              "      <th>4</th>\n",
              "      <td>0.946659</td>\n",
              "      <td>0.946659</td>\n",
              "      <td>0.828682</td>\n",
              "      <td>0.385463</td>\n",
              "      <td>0.744797</td>\n",
              "      <td>0.262660</td>\n",
              "      <td>0.949494</td>\n",
              "      <td>0.889298</td>\n",
              "      <td>1</td>\n",
              "    </tr>\n",
              "  </tbody>\n",
              "</table>\n",
              "</div>"
            ],
            "text/plain": [
              "   bow_imbalanced  rnn_imbalanced  ...  rnn_gpt2  true_value\n",
              "0        0.671189        0.671189  ...  0.048076           1\n",
              "1        0.986998        0.986998  ...  0.951166           1\n",
              "2        0.804610        0.804610  ...  0.583110           1\n",
              "3        0.728797        0.728797  ...  0.720110           0\n",
              "4        0.946659        0.946659  ...  0.889298           1\n",
              "\n",
              "[5 rows x 9 columns]"
            ]
          },
          "metadata": {
            "tags": []
          },
          "execution_count": 134
        }
      ]
    },
    {
      "cell_type": "code",
      "metadata": {
        "id": "Zg5MddiiJURa",
        "colab_type": "code",
        "colab": {}
      },
      "source": [
        "#save predictions\n",
        "pred_df.to_csv('predictions.csv')"
      ],
      "execution_count": 0,
      "outputs": []
    },
    {
      "cell_type": "markdown",
      "metadata": {
        "id": "oFLG672x2GtY",
        "colab_type": "text"
      },
      "source": [
        "## Comparing Results"
      ]
    },
    {
      "cell_type": "code",
      "metadata": {
        "id": "iRS5YID12F9z",
        "colab_type": "code",
        "outputId": "d9c03975-ff6d-4bc5-88f9-8c39be44eacc",
        "colab": {
          "base_uri": "https://localhost:8080/",
          "height": 452
        }
      },
      "source": [
        "#printing all results of all models for each setting\n",
        "print(\"F1 BOW Imbalanced:\", f1_bow_imbalanced)\n",
        "print(\"F1 RNN Imbalanced:\", f1_rnn_imbalanced)\n",
        "print(\"F1 BOW Undersampled:\", f1_bow_undersample)\n",
        "print(\"F1 RNN Undersampled:\", f1_rnn_undersample)\n",
        "print(\"F1 BOW Oversampled GloVe:\", f1_bow_oversample_glove)\n",
        "print(\"F1 RNN Oversampled GloVe:\", f1_rnn_oversample_glove)\n",
        "print(\"F1 BOW Oversampled GPT-2:\", f1_bow_oversample_gpt2)\n",
        "print(\"F1 RNN Oversampled GPT-2:\", f1_rnn_oversample_gpt2)\n",
        "print('')\n",
        "print(\"AUC BOW Imbalanced:\", auc_bow_imbalanced)\n",
        "print(\"AUC RNN Imbalanced:\", auc_rnn_imbalanced)\n",
        "print(\"AUC BOW Undersampled:\", auc_bow_undersample)\n",
        "print(\"AUC RNN Undersampled:\", auc_rnn_undersample)\n",
        "print(\"AUC BOW Oversampled GloVe:\", auc_bow_oversample_glove)\n",
        "print(\"AUC RNN Oversampled GloVe:\", auc_rnn_oversample_glove)\n",
        "print(\"AUC BOW Oversampled GPT-2:\", auc_bow_oversample_gpt2)\n",
        "print(\"AUC RNN Oversampled GPT-2:\", auc_rnn_oversample_gpt2)\n",
        "print('')\n",
        "print(\"ACC BOW Imbalanced:\", acc_bow_imbalanced)\n",
        "print(\"ACC RNN Imbalanced:\", acc_rnn_imbalanced)\n",
        "print(\"ACC BOW Undersampled:\", acc_bow_undersample)\n",
        "print(\"ACC RNN Undersampled:\", acc_rnn_undersample)\n",
        "print(\"ACC BOW Oversampled GloVe:\", acc_bow_oversample_glove)\n",
        "print(\"ACC RNN Oversampled GloVe:\", acc_rnn_oversample_glove)\n",
        "print(\"ACC BOW Oversampled GPT-2:\", acc_bow_oversample_gpt2)\n",
        "print(\"ACC RNN Oversampled GPT-2:\", acc_rnn_oversample_gpt2)"
      ],
      "execution_count": 0,
      "outputs": [
        {
          "output_type": "stream",
          "text": [
            "F1 BOW Imbalanced: 0.9225414917451547\n",
            "F1 RNN Imbalanced: 0.9312043522028743\n",
            "F1 BOW Undersampled: 0.7002026902524414\n",
            "F1 RNN Undersampled: 0.5604791941403581\n",
            "F1 BOW Oversampled GloVe: 0.8179530619363197\n",
            "F1 RNN Oversampled GloVe: 0.8017153307687457\n",
            "F1 BOW Oversampled GPT-2: 0.8453568456222031\n",
            "F1 RNN Oversampled GPT-2: 0.8758094357076781\n",
            "\n",
            "AUC BOW Imbalanced: 0.6499069299151073\n",
            "AUC RNN Imbalanced: 0.6873616771304765\n",
            "AUC BOW Undersampled: 0.6457026518413722\n",
            "AUC RNN Undersampled: 0.5998135996982126\n",
            "AUC BOW Oversampled GloVe: 0.6213615251104778\n",
            "AUC RNN Oversampled GloVe: 0.5958927458031953\n",
            "AUC BOW Oversampled GPT-2: 0.6275416236573419\n",
            "AUC RNN Oversampled GPT-2: 0.6090585356177668\n",
            "\n",
            "ACC BOW Imbalanced: 0.85756\n",
            "ACC RNN Imbalanced: 0.87152\n",
            "ACC BOW Undersampled: 0.57698\n",
            "ACC RNN Undersampled: 0.44674\n",
            "ACC BOW Oversampled GloVe: 0.70772\n",
            "ACC RNN Oversampled GloVe: 0.68558\n",
            "ACC BOW Oversampled GPT-2: 0.74358\n",
            "ACC RNN Oversampled GPT-2: 0.7852\n"
          ],
          "name": "stdout"
        }
      ]
    },
    {
      "cell_type": "markdown",
      "metadata": {
        "id": "jcMLag4aGu3w",
        "colab_type": "text"
      },
      "source": [
        "### Visualize Results"
      ]
    },
    {
      "cell_type": "code",
      "metadata": {
        "id": "6LMXV-BnRMOo",
        "colab_type": "code",
        "outputId": "46a252a8-f34c-4e94-ee1c-c6ae0762f72a",
        "colab": {
          "base_uri": "https://localhost:8080/",
          "height": 196
        }
      },
      "source": [
        "#prepare dataframe to visualize results \n",
        "import pandas as pd\n",
        "\n",
        "results_df = pd.DataFrame(columns=['Model', 'Setting', 'Metric', 'Value'])\n",
        "\n",
        "results_df['Model'] = ['BOW', 'RNN', 'BOW', 'RNN', 'BOW', 'RNN', 'BOW', 'RNN', \n",
        "                       'BOW', 'RNN', 'BOW', 'RNN', 'BOW', 'RNN', 'BOW', 'RNN', \n",
        "                       'BOW', 'RNN', 'BOW', 'RNN', 'BOW', 'RNN', 'BOW', 'RNN']\n",
        "\n",
        "results_df['Setting'] = ['Imbalanced', 'Imbalanced', 'Undersample', 'Undersample', 'Oversample GloVe', 'Oversample GloVe', 'Oversample GPT-2', 'Oversample GPT-2',\n",
        "                         'Imbalanced', 'Imbalanced', 'Undersample', 'Undersample', 'Oversample GloVe', 'Oversample GloVe', 'Oversample GPT-2', 'Oversample GPT-2',\n",
        "                         'Imbalanced', 'Imbalanced', 'Undersample', 'Undersample', 'Oversample GloVe', 'Oversample GloVe', 'Oversample GPT-2', 'Oversample GPT-2']\n",
        "\n",
        "results_df['Metric'] = ['F1', 'F1', 'F1', 'F1', 'F1', 'F1', 'F1', 'F1',\n",
        "                        'AUC', 'AUC', 'AUC', 'AUC', 'AUC', 'AUC', 'AUC', 'AUC',\n",
        "                        'ACC', 'ACC', 'ACC', 'ACC', 'ACC', 'ACC', 'ACC', 'ACC']\n",
        "\n",
        "results_df['Value'] = [f1_bow_imbalanced, f1_rnn_imbalanced, f1_bow_undersample, f1_rnn_undersample,\n",
        "                       f1_bow_oversample_glove, f1_rnn_oversample_glove, f1_bow_oversample_gpt2, f1_rnn_oversample_gpt2,\n",
        "                       auc_bow_imbalanced, auc_rnn_imbalanced, auc_bow_undersample, auc_rnn_undersample,\n",
        "                       auc_bow_oversample_glove, auc_rnn_oversample_glove, auc_bow_oversample_gpt2, auc_rnn_oversample_gpt2,\n",
        "                       acc_bow_imbalanced, acc_rnn_imbalanced, acc_bow_undersample, acc_rnn_undersample, \n",
        "                       acc_bow_oversample_glove, acc_rnn_oversample_glove, acc_bow_oversample_gpt2, acc_rnn_oversample_gpt2]\n",
        "\n",
        "results_df[:5]"
      ],
      "execution_count": 0,
      "outputs": [
        {
          "output_type": "execute_result",
          "data": {
            "text/html": [
              "<div>\n",
              "<style scoped>\n",
              "    .dataframe tbody tr th:only-of-type {\n",
              "        vertical-align: middle;\n",
              "    }\n",
              "\n",
              "    .dataframe tbody tr th {\n",
              "        vertical-align: top;\n",
              "    }\n",
              "\n",
              "    .dataframe thead th {\n",
              "        text-align: right;\n",
              "    }\n",
              "</style>\n",
              "<table border=\"1\" class=\"dataframe\">\n",
              "  <thead>\n",
              "    <tr style=\"text-align: right;\">\n",
              "      <th></th>\n",
              "      <th>Model</th>\n",
              "      <th>Setting</th>\n",
              "      <th>Metric</th>\n",
              "      <th>Value</th>\n",
              "    </tr>\n",
              "  </thead>\n",
              "  <tbody>\n",
              "    <tr>\n",
              "      <th>0</th>\n",
              "      <td>BOW</td>\n",
              "      <td>Imbalanced</td>\n",
              "      <td>F1</td>\n",
              "      <td>0.922541</td>\n",
              "    </tr>\n",
              "    <tr>\n",
              "      <th>1</th>\n",
              "      <td>RNN</td>\n",
              "      <td>Imbalanced</td>\n",
              "      <td>F1</td>\n",
              "      <td>0.931204</td>\n",
              "    </tr>\n",
              "    <tr>\n",
              "      <th>2</th>\n",
              "      <td>BOW</td>\n",
              "      <td>Undersample</td>\n",
              "      <td>F1</td>\n",
              "      <td>0.700203</td>\n",
              "    </tr>\n",
              "    <tr>\n",
              "      <th>3</th>\n",
              "      <td>RNN</td>\n",
              "      <td>Undersample</td>\n",
              "      <td>F1</td>\n",
              "      <td>0.560479</td>\n",
              "    </tr>\n",
              "    <tr>\n",
              "      <th>4</th>\n",
              "      <td>BOW</td>\n",
              "      <td>Oversample GloVe</td>\n",
              "      <td>F1</td>\n",
              "      <td>0.817953</td>\n",
              "    </tr>\n",
              "  </tbody>\n",
              "</table>\n",
              "</div>"
            ],
            "text/plain": [
              "  Model           Setting Metric     Value\n",
              "0   BOW        Imbalanced     F1  0.922541\n",
              "1   RNN        Imbalanced     F1  0.931204\n",
              "2   BOW       Undersample     F1  0.700203\n",
              "3   RNN       Undersample     F1  0.560479\n",
              "4   BOW  Oversample GloVe     F1  0.817953"
            ]
          },
          "metadata": {
            "tags": []
          },
          "execution_count": 137
        }
      ]
    },
    {
      "cell_type": "code",
      "metadata": {
        "id": "KXWWKn0OeU6Z",
        "colab_type": "code",
        "colab": {}
      },
      "source": [
        "#import seaborn for visualization\n",
        "import seaborn as sns\n",
        "import matplotlib.pyplot as plt\n",
        "%matplotlib inline\n",
        "sns.set_style(\"whitegrid\")"
      ],
      "execution_count": 0,
      "outputs": []
    },
    {
      "cell_type": "code",
      "metadata": {
        "id": "xgTFz7vweav9",
        "colab_type": "code",
        "colab": {}
      },
      "source": [
        "#setting figure size\n",
        "fig_size = plt.rcParams[\"figure.figsize\"]\n",
        "fig_size[0] = 20\n",
        "fig_size[1] = 15\n",
        "plt.rcParams[\"figure.figsize\"] = fig_size"
      ],
      "execution_count": 0,
      "outputs": []
    },
    {
      "cell_type": "code",
      "metadata": {
        "id": "BpM7wKhkGc3l",
        "colab_type": "code",
        "outputId": "cc8ce960-7b5a-44d3-e240-5876ab29959b",
        "colab": {
          "base_uri": "https://localhost:8080/",
          "height": 217
        }
      },
      "source": [
        "#filtering results dataframe and construct two new dataframes based on different settings\n",
        "results_df1 = results_df[results_df['Setting'].isin(['Imbalanced', 'Undersample'])]\n",
        "results_df2 = results_df[results_df['Setting'].isin(['Oversample GloVe', 'Oversample GPT-2'])]\n",
        "\n",
        "print(results_df1.head())\n",
        "print(results_df2.head())"
      ],
      "execution_count": 0,
      "outputs": [
        {
          "output_type": "stream",
          "text": [
            "  Model      Setting Metric     Value\n",
            "0   BOW   Imbalanced     F1  0.922541\n",
            "1   RNN   Imbalanced     F1  0.931204\n",
            "2   BOW  Undersample     F1  0.700203\n",
            "3   RNN  Undersample     F1  0.560479\n",
            "8   BOW   Imbalanced    AUC  0.649907\n",
            "   Model           Setting Metric     Value\n",
            "4    BOW  Oversample GloVe     F1  0.817953\n",
            "5    RNN  Oversample GloVe     F1  0.801715\n",
            "6    BOW  Oversample GPT-2     F1  0.845357\n",
            "7    RNN  Oversample GPT-2     F1  0.875809\n",
            "12   BOW  Oversample GloVe    AUC  0.621362\n"
          ],
          "name": "stdout"
        }
      ]
    },
    {
      "cell_type": "code",
      "metadata": {
        "id": "IoIo2IvrehFK",
        "colab_type": "code",
        "outputId": "646b5c41-ba73-4d1b-c681-4bf05777c13e",
        "colab": {
          "base_uri": "https://localhost:8080/",
          "height": 389
        }
      },
      "source": [
        "#barplot 1\n",
        "sns.catplot(x=\"Model\", y=\"Value\", hue=\"Metric\", col=\"Setting\", data=results_df, kind=\"bar\", ci=None);"
      ],
      "execution_count": 0,
      "outputs": [
        {
          "output_type": "display_data",
          "data": {
            "image/png": "[encoded data removed]",
            "text/plain": [
              "<Figure size 1497.12x360 with 4 Axes>"
            ]
          },
          "metadata": {
            "tags": []
          }
        }
      ]
    },
    {
      "cell_type": "code",
      "metadata": {
        "id": "tw6apvtCG5A-",
        "colab_type": "code",
        "outputId": "ceddcd19-25b7-4f27-d92b-539e3eaaffec",
        "colab": {
          "base_uri": "https://localhost:8080/",
          "height": 369
        }
      },
      "source": [
        "#barplot 2\n",
        "sns.catplot(x=\"Model\", y=\"Value\", hue=\"Metric\", col=\"Setting\", data=results_df1, kind=\"bar\", ci=None);"
      ],
      "execution_count": 0,
      "outputs": [
        {
          "output_type": "display_data",
          "data": {
            "image/png": "[encoded data removed]",
            "text/plain": [
              "<Figure size 777.125x360 with 2 Axes>"
            ]
          },
          "metadata": {
            "tags": []
          }
        }
      ]
    },
    {
      "cell_type": "code",
      "metadata": {
        "id": "6jw1ik_9G7XT",
        "colab_type": "code",
        "outputId": "90369dc5-acaa-4558-c216-0ceed426d7b3",
        "colab": {
          "base_uri": "https://localhost:8080/",
          "height": 369
        }
      },
      "source": [
        "#barplot 3\n",
        "sns.catplot(x=\"Model\", y=\"Value\", hue=\"Metric\", col=\"Setting\", data=results_df2, kind=\"bar\", ci=None);"
      ],
      "execution_count": 0,
      "outputs": [
        {
          "output_type": "display_data",
          "data": {
            "image/png": "[encoded data removed]",
            "text/plain": [
              "<Figure size 777.125x360 with 2 Axes>"
            ]
          },
          "metadata": {
            "tags": []
          }
        }
      ]
    },
    {
      "cell_type": "code",
      "metadata": {
        "id": "HO2beKTJM2ut",
        "colab_type": "code",
        "outputId": "a022695b-f218-4864-cc7e-76078d1813d9",
        "colab": {
          "base_uri": "https://localhost:8080/",
          "height": 389
        }
      },
      "source": [
        "#barplot 4\n",
        "sns.catplot(x=\"Model\", y=\"Value\", hue=\"Setting\", col=\"Metric\", data=results_df, kind=\"bar\", ci=None);"
      ],
      "execution_count": 0,
      "outputs": [
        {
          "output_type": "display_data",
          "data": {
            "image/png": "[encoded data removed]",
            "text/plain": [
              "<Figure size 1209x360 with 3 Axes>"
            ]
          },
          "metadata": {
            "tags": []
          }
        }
      ]
    },
    {
      "cell_type": "markdown",
      "metadata": {
        "id": "rxlBhmxuDmqB",
        "colab_type": "text"
      },
      "source": [
        "### Confusion Matrices"
      ]
    },
    {
      "cell_type": "code",
      "metadata": {
        "id": "clPkc35QFT4R",
        "colab_type": "code",
        "outputId": "b86de4fa-0c19-4aee-cc14-57529a502311",
        "colab": {
          "base_uri": "https://localhost:8080/",
          "height": 137
        }
      },
      "source": [
        "#make list of all confusion matrices\n",
        "cm_list = [confusion_matrix_bow_imbalanced, confusion_matrix_rnn_imbalanced, \n",
        "           confusion_matrix_bow_undersample, confusion_matrix_rnn_undersample,\n",
        "           confusion_matrix_bow_oversample_glove, confusion_matrix_rnn_oversample_glove,\n",
        "           confusion_matrix_bow_oversample_gpt2, confusion_matrix_rnn_oversample_gpt2]\n",
        "\n",
        "#prepare dataframe for values of confusion matrices\n",
        "cm_values_df = pd.DataFrame(columns = ['TP', 'TN', 'FP', 'FN'])\n",
        "cm_values_df\n",
        "\n",
        "cm_list[1]"
      ],
      "execution_count": 0,
      "outputs": [
        {
          "output_type": "execute_result",
          "data": {
            "text/html": [
              "<div>\n",
              "<style scoped>\n",
              "    .dataframe tbody tr th:only-of-type {\n",
              "        vertical-align: middle;\n",
              "    }\n",
              "\n",
              "    .dataframe tbody tr th {\n",
              "        vertical-align: top;\n",
              "    }\n",
              "\n",
              "    .dataframe thead th {\n",
              "        text-align: right;\n",
              "    }\n",
              "</style>\n",
              "<table border=\"1\" class=\"dataframe\">\n",
              "  <thead>\n",
              "    <tr style=\"text-align: right;\">\n",
              "      <th>Predicted</th>\n",
              "      <th>0</th>\n",
              "      <th>1</th>\n",
              "    </tr>\n",
              "    <tr>\n",
              "      <th>True</th>\n",
              "      <th></th>\n",
              "      <th></th>\n",
              "    </tr>\n",
              "  </thead>\n",
              "  <tbody>\n",
              "    <tr>\n",
              "      <th>0</th>\n",
              "      <td>99</td>\n",
              "      <td>6323</td>\n",
              "    </tr>\n",
              "    <tr>\n",
              "      <th>1</th>\n",
              "      <td>101</td>\n",
              "      <td>43477</td>\n",
              "    </tr>\n",
              "  </tbody>\n",
              "</table>\n",
              "</div>"
            ],
            "text/plain": [
              "Predicted    0      1\n",
              "True                 \n",
              "0           99   6323\n",
              "1          101  43477"
            ]
          },
          "metadata": {
            "tags": []
          },
          "execution_count": 279
        }
      ]
    },
    {
      "cell_type": "code",
      "metadata": {
        "id": "C067d0GjNHDM",
        "colab_type": "code",
        "outputId": "926f761d-ff2e-4017-e150-7351c765f6ed",
        "colab": {
          "base_uri": "https://localhost:8080/",
          "height": 234
        }
      },
      "source": [
        "#prepare lists for values\n",
        "tp = list()\n",
        "tn = list()\n",
        "fp = list()\n",
        "fn = list()\n",
        "\n",
        "#extrct values form all confusion matrices\n",
        "for cm in cm_list:\n",
        "    tp.append(cm[1][1])\n",
        "    tn.append(cm[0][0])\n",
        "    fp.append(cm[1][0])\n",
        "    fn.append(cm[0][1])\n",
        "\n",
        "#put values into prepared dataframe\n",
        "cm_values_df.TP = tp\n",
        "cm_values_df.TN = tn\n",
        "cm_values_df.FP = fp\n",
        "cm_values_df.FN = fn\n",
        "\n",
        "#filling additional columns\n",
        "cm_values_df['Model'] = ['BOW', 'RNN', 'BOW', 'RNN', 'BOW', 'RNN', 'BOW', 'RNN']\n",
        "cm_values_df['Setting'] = ['Imbalanced', 'Imbalanced', 'Undersample', 'Undersample', \n",
        "                           'Oversample GloVe', 'Oversample GloVe', 'Oversample GPT-2', 'Oversample GPT-2']\n",
        "\n",
        "print(cm_values_df)\n",
        "print(confusion_matrix_bow_imbalanced)"
      ],
      "execution_count": 0,
      "outputs": [
        {
          "output_type": "stream",
          "text": [
            "      TP    TN    FP     FN Model           Setting\n",
            "0  42412   466  5956   1166   BOW        Imbalanced\n",
            "1  43477    99  6323    101   RNN        Imbalanced\n",
            "2  24700  4149  2273  18878   BOW       Undersample\n",
            "3  17638  4699  1723  25940   RNN       Undersample\n",
            "4  32831  2555  3867  10747   BOW  Oversample GloVe\n",
            "5  31782  2497  3925  11796   RNN  Oversample GloVe\n",
            "6  35043  2136  4286   8535   BOW  Oversample GPT-2\n",
            "7  37870  1390  5032   5708   RNN  Oversample GPT-2\n",
            "Predicted     0      1\n",
            "True                  \n",
            "0           466   5956\n",
            "1          1166  42412\n"
          ],
          "name": "stdout"
        }
      ]
    },
    {
      "cell_type": "code",
      "metadata": {
        "colab_type": "code",
        "id": "zlTUqkgcP9HE",
        "outputId": "fee24834-0c8f-4392-9c44-7cdc5edbece9",
        "colab": {
          "base_uri": "https://localhost:8080/",
          "height": 196
        }
      },
      "source": [
        "#melt dataframe to reach necessary dataframe format\n",
        "melted_df = pd.melt(cm_values_df, \n",
        "                    id_vars=[\"Model\", \"Setting\"], # Variables to keep\n",
        "                    var_name=\"CM_Values\") # Name of melted variable\n",
        "melted_df.head()"
      ],
      "execution_count": 0,
      "outputs": [
        {
          "output_type": "execute_result",
          "data": {
            "text/html": [
              "<div>\n",
              "<style scoped>\n",
              "    .dataframe tbody tr th:only-of-type {\n",
              "        vertical-align: middle;\n",
              "    }\n",
              "\n",
              "    .dataframe tbody tr th {\n",
              "        vertical-align: top;\n",
              "    }\n",
              "\n",
              "    .dataframe thead th {\n",
              "        text-align: right;\n",
              "    }\n",
              "</style>\n",
              "<table border=\"1\" class=\"dataframe\">\n",
              "  <thead>\n",
              "    <tr style=\"text-align: right;\">\n",
              "      <th></th>\n",
              "      <th>Model</th>\n",
              "      <th>Setting</th>\n",
              "      <th>CM_Values</th>\n",
              "      <th>value</th>\n",
              "    </tr>\n",
              "  </thead>\n",
              "  <tbody>\n",
              "    <tr>\n",
              "      <th>0</th>\n",
              "      <td>BOW</td>\n",
              "      <td>Imbalanced</td>\n",
              "      <td>TP</td>\n",
              "      <td>42412</td>\n",
              "    </tr>\n",
              "    <tr>\n",
              "      <th>1</th>\n",
              "      <td>RNN</td>\n",
              "      <td>Imbalanced</td>\n",
              "      <td>TP</td>\n",
              "      <td>43477</td>\n",
              "    </tr>\n",
              "    <tr>\n",
              "      <th>2</th>\n",
              "      <td>BOW</td>\n",
              "      <td>Undersample</td>\n",
              "      <td>TP</td>\n",
              "      <td>24700</td>\n",
              "    </tr>\n",
              "    <tr>\n",
              "      <th>3</th>\n",
              "      <td>RNN</td>\n",
              "      <td>Undersample</td>\n",
              "      <td>TP</td>\n",
              "      <td>17638</td>\n",
              "    </tr>\n",
              "    <tr>\n",
              "      <th>4</th>\n",
              "      <td>BOW</td>\n",
              "      <td>Oversample GloVe</td>\n",
              "      <td>TP</td>\n",
              "      <td>32831</td>\n",
              "    </tr>\n",
              "  </tbody>\n",
              "</table>\n",
              "</div>"
            ],
            "text/plain": [
              "  Model           Setting CM_Values  value\n",
              "0   BOW        Imbalanced        TP  42412\n",
              "1   RNN        Imbalanced        TP  43477\n",
              "2   BOW       Undersample        TP  24700\n",
              "3   RNN       Undersample        TP  17638\n",
              "4   BOW  Oversample GloVe        TP  32831"
            ]
          },
          "metadata": {
            "tags": []
          },
          "execution_count": 281
        }
      ]
    },
    {
      "cell_type": "code",
      "metadata": {
        "id": "wkR1HKATxkue",
        "colab_type": "code",
        "outputId": "15a3a010-1a41-45a2-dcb7-6b9e1aa521a7",
        "colab": {
          "base_uri": "https://localhost:8080/",
          "height": 50
        }
      },
      "source": [
        "print(cm_values_df.shape)\n",
        "print(melted_df.shape)"
      ],
      "execution_count": 0,
      "outputs": [
        {
          "output_type": "stream",
          "text": [
            "(8, 6)\n",
            "(32, 4)\n"
          ],
          "name": "stdout"
        }
      ]
    },
    {
      "cell_type": "code",
      "metadata": {
        "id": "cC-ovn4yxlpZ",
        "colab_type": "code",
        "colab": {}
      },
      "source": [
        "#setting figure size\n",
        "fig_size = plt.rcParams[\"figure.figsize\"]\n",
        "fig_size[0] = 12\n",
        "fig_size[1] = 9\n",
        "plt.rcParams[\"figure.figsize\"] = fig_size"
      ],
      "execution_count": 0,
      "outputs": []
    },
    {
      "cell_type": "code",
      "metadata": {
        "colab_type": "code",
        "id": "GhNcHe8zP9HN",
        "outputId": "65edf114-f77b-4e68-dfdb-83daeca48354",
        "colab": {
          "base_uri": "https://localhost:8080/",
          "height": 389
        }
      },
      "source": [
        "#barplot 1\n",
        "sns.catplot(x=\"Model\", y=\"value\", hue=\"CM_Values\", col=\"Setting\", data=melted_df, kind=\"bar\", ci=None);"
      ],
      "execution_count": 0,
      "outputs": [
        {
          "output_type": "display_data",
          "data": {
            "image/png": "[encoded data removed]",
            "text/plain": [
              "<Figure size 1502.12x360 with 4 Axes>"
            ]
          },
          "metadata": {
            "tags": []
          }
        }
      ]
    },
    {
      "cell_type": "code",
      "metadata": {
        "id": "K0p1u0HO8g8y",
        "colab_type": "code",
        "outputId": "e2e99ec4-14b7-4780-de9f-82a99d745486",
        "colab": {
          "base_uri": "https://localhost:8080/",
          "height": 196
        }
      },
      "source": [
        "#calculate percentages (rates)\n",
        "melted_df['Rate'] = melted_df['value']/len(text_classification_test_reduced)\n",
        "melted_df.head()"
      ],
      "execution_count": 0,
      "outputs": [
        {
          "output_type": "execute_result",
          "data": {
            "text/html": [
              "<div>\n",
              "<style scoped>\n",
              "    .dataframe tbody tr th:only-of-type {\n",
              "        vertical-align: middle;\n",
              "    }\n",
              "\n",
              "    .dataframe tbody tr th {\n",
              "        vertical-align: top;\n",
              "    }\n",
              "\n",
              "    .dataframe thead th {\n",
              "        text-align: right;\n",
              "    }\n",
              "</style>\n",
              "<table border=\"1\" class=\"dataframe\">\n",
              "  <thead>\n",
              "    <tr style=\"text-align: right;\">\n",
              "      <th></th>\n",
              "      <th>Model</th>\n",
              "      <th>Setting</th>\n",
              "      <th>CM_Values</th>\n",
              "      <th>value</th>\n",
              "      <th>Rate</th>\n",
              "    </tr>\n",
              "  </thead>\n",
              "  <tbody>\n",
              "    <tr>\n",
              "      <th>0</th>\n",
              "      <td>BOW</td>\n",
              "      <td>Imbalanced</td>\n",
              "      <td>TP</td>\n",
              "      <td>42412</td>\n",
              "      <td>0.84824</td>\n",
              "    </tr>\n",
              "    <tr>\n",
              "      <th>1</th>\n",
              "      <td>RNN</td>\n",
              "      <td>Imbalanced</td>\n",
              "      <td>TP</td>\n",
              "      <td>43477</td>\n",
              "      <td>0.86954</td>\n",
              "    </tr>\n",
              "    <tr>\n",
              "      <th>2</th>\n",
              "      <td>BOW</td>\n",
              "      <td>Undersample</td>\n",
              "      <td>TP</td>\n",
              "      <td>24700</td>\n",
              "      <td>0.49400</td>\n",
              "    </tr>\n",
              "    <tr>\n",
              "      <th>3</th>\n",
              "      <td>RNN</td>\n",
              "      <td>Undersample</td>\n",
              "      <td>TP</td>\n",
              "      <td>17638</td>\n",
              "      <td>0.35276</td>\n",
              "    </tr>\n",
              "    <tr>\n",
              "      <th>4</th>\n",
              "      <td>BOW</td>\n",
              "      <td>Oversample GloVe</td>\n",
              "      <td>TP</td>\n",
              "      <td>32831</td>\n",
              "      <td>0.65662</td>\n",
              "    </tr>\n",
              "  </tbody>\n",
              "</table>\n",
              "</div>"
            ],
            "text/plain": [
              "  Model           Setting CM_Values  value     Rate\n",
              "0   BOW        Imbalanced        TP  42412  0.84824\n",
              "1   RNN        Imbalanced        TP  43477  0.86954\n",
              "2   BOW       Undersample        TP  24700  0.49400\n",
              "3   RNN       Undersample        TP  17638  0.35276\n",
              "4   BOW  Oversample GloVe        TP  32831  0.65662"
            ]
          },
          "metadata": {
            "tags": []
          },
          "execution_count": 285
        }
      ]
    },
    {
      "cell_type": "code",
      "metadata": {
        "id": "03M4Ic6R94wk",
        "colab_type": "code",
        "outputId": "d5a32143-7571-4021-a13b-a4e6f8bbe180",
        "colab": {
          "base_uri": "https://localhost:8080/",
          "height": 217
        }
      },
      "source": [
        "#Stacked Bar Plot Percentage\n",
        "pivot_df_bow = melted_df[melted_df['Model'] == 'BOW'].pivot(index='Setting', columns='CM_Values', values='Rate')\n",
        "print(pivot_df_bow)\n",
        "\n",
        "pivot_df_rnn = melted_df[melted_df['Model'] == 'RNN'].pivot(index='Setting', columns='CM_Values', values='Rate')\n",
        "print(pivot_df_rnn)"
      ],
      "execution_count": 0,
      "outputs": [
        {
          "output_type": "stream",
          "text": [
            "CM_Values              FN       FP       TN       TP\n",
            "Setting                                             \n",
            "Imbalanced        0.02332  0.11912  0.00932  0.84824\n",
            "Oversample GPT-2  0.17070  0.08572  0.04272  0.70086\n",
            "Oversample GloVe  0.21494  0.07734  0.05110  0.65662\n",
            "Undersample       0.37756  0.04546  0.08298  0.49400\n",
            "CM_Values              FN       FP       TN       TP\n",
            "Setting                                             \n",
            "Imbalanced        0.00202  0.12646  0.00198  0.86954\n",
            "Oversample GPT-2  0.11416  0.10064  0.02780  0.75740\n",
            "Oversample GloVe  0.23592  0.07850  0.04994  0.63564\n",
            "Undersample       0.51880  0.03446  0.09398  0.35276\n"
          ],
          "name": "stdout"
        }
      ]
    },
    {
      "cell_type": "code",
      "metadata": {
        "id": "jEvc9Nm_pOl0",
        "colab_type": "code",
        "outputId": "78cbb16a-5868-479f-8509-9349dee585f5",
        "colab": {
          "base_uri": "https://localhost:8080/",
          "height": 767
        }
      },
      "source": [
        "#setting colors of stacked bars\n",
        "colors = [\"#CB4335\", \"#F1948A\",\"#2471A3\", '#85C1E9']\n",
        "\n",
        "#construct pivot dataframe and plot\n",
        "pivot_df_bow.loc[:,['FN', 'FP', 'TN', 'TP']].plot.bar(stacked=True, color=colors, figsize=(15,12), title = 'BOW Setting Prediciton Rates', rot = 0).legend(bbox_to_anchor=(1.125, 0.575))"
      ],
      "execution_count": 0,
      "outputs": [
        {
          "output_type": "execute_result",
          "data": {
            "text/plain": [
              "<matplotlib.legend.Legend at 0x7f862eee66d8>"
            ]
          },
          "metadata": {
            "tags": []
          },
          "execution_count": 287
        },
        {
          "output_type": "display_data",
          "data": {
            "image/png": "[encoded data removed]",
            "text/plain": [
              "<Figure size 1080x864 with 1 Axes>"
            ]
          },
          "metadata": {
            "tags": []
          }
        }
      ]
    },
    {
      "cell_type": "code",
      "metadata": {
        "id": "TqrArzAjkc-4",
        "colab_type": "code",
        "outputId": "180a4761-53bb-4950-ad35-eb8ae0730b44",
        "colab": {
          "base_uri": "https://localhost:8080/",
          "height": 767
        }
      },
      "source": [
        "#set colors\n",
        "colors = [\"#CB4335\", \"#F1948A\",\"#2471A3\", '#85C1E9']\n",
        "\n",
        "#construct pivot dataframe\n",
        "pivot_df_rnn.loc[:,['FN', 'FP', 'TN', 'TP']].plot.bar(stacked=True, color=colors, figsize=(15,12), title = 'RNN Setting Prediciton Rates', rot = 0).legend(bbox_to_anchor=(1.125, 0.575))"
      ],
      "execution_count": 0,
      "outputs": [
        {
          "output_type": "execute_result",
          "data": {
            "text/plain": [
              "<matplotlib.legend.Legend at 0x7f86337cf748>"
            ]
          },
          "metadata": {
            "tags": []
          },
          "execution_count": 278
        },
        {
          "output_type": "display_data",
          "data": {
            "image/png": "[encoded data removed]",
            "text/plain": [
              "<Figure size 1080x864 with 1 Axes>"
            ]
          },
          "metadata": {
            "tags": []
          }
        }
      ]
    },
    {
      "cell_type": "markdown",
      "metadata": {
        "id": "oJFvdDD8Ji8G",
        "colab_type": "text"
      },
      "source": [
        "## Including \"Not-Sure\"-Category"
      ]
    },
    {
      "cell_type": "code",
      "metadata": {
        "id": "yOAUA1iyJnbB",
        "colab_type": "code",
        "outputId": "44a44a03-508d-4ffa-f7ca-76caa6cf4879",
        "colab": {
          "base_uri": "https://localhost:8080/",
          "height": 196
        }
      },
      "source": [
        "pred_df.head()"
      ],
      "execution_count": 0,
      "outputs": [
        {
          "output_type": "execute_result",
          "data": {
            "text/html": [
              "<div>\n",
              "<style scoped>\n",
              "    .dataframe tbody tr th:only-of-type {\n",
              "        vertical-align: middle;\n",
              "    }\n",
              "\n",
              "    .dataframe tbody tr th {\n",
              "        vertical-align: top;\n",
              "    }\n",
              "\n",
              "    .dataframe thead th {\n",
              "        text-align: right;\n",
              "    }\n",
              "</style>\n",
              "<table border=\"1\" class=\"dataframe\">\n",
              "  <thead>\n",
              "    <tr style=\"text-align: right;\">\n",
              "      <th></th>\n",
              "      <th>bow_imbalanced</th>\n",
              "      <th>rnn_imbalanced</th>\n",
              "      <th>bow_undersample</th>\n",
              "      <th>rnn_undersample</th>\n",
              "      <th>bow_glove</th>\n",
              "      <th>rnn_glove</th>\n",
              "      <th>bow_gpt2</th>\n",
              "      <th>rnn_gpt2</th>\n",
              "      <th>true_value</th>\n",
              "    </tr>\n",
              "  </thead>\n",
              "  <tbody>\n",
              "    <tr>\n",
              "      <th>0</th>\n",
              "      <td>0.671189</td>\n",
              "      <td>0.671189</td>\n",
              "      <td>0.001569</td>\n",
              "      <td>0.224269</td>\n",
              "      <td>0.014440</td>\n",
              "      <td>0.267475</td>\n",
              "      <td>0.006568</td>\n",
              "      <td>0.048076</td>\n",
              "      <td>1</td>\n",
              "    </tr>\n",
              "    <tr>\n",
              "      <th>1</th>\n",
              "      <td>0.986998</td>\n",
              "      <td>0.986998</td>\n",
              "      <td>0.977082</td>\n",
              "      <td>0.698867</td>\n",
              "      <td>0.961582</td>\n",
              "      <td>0.619096</td>\n",
              "      <td>0.999947</td>\n",
              "      <td>0.951166</td>\n",
              "      <td>1</td>\n",
              "    </tr>\n",
              "    <tr>\n",
              "      <th>2</th>\n",
              "      <td>0.804610</td>\n",
              "      <td>0.804610</td>\n",
              "      <td>0.394534</td>\n",
              "      <td>0.379952</td>\n",
              "      <td>0.419384</td>\n",
              "      <td>0.789161</td>\n",
              "      <td>0.473426</td>\n",
              "      <td>0.583110</td>\n",
              "      <td>1</td>\n",
              "    </tr>\n",
              "    <tr>\n",
              "      <th>3</th>\n",
              "      <td>0.728797</td>\n",
              "      <td>0.728797</td>\n",
              "      <td>0.562474</td>\n",
              "      <td>0.370842</td>\n",
              "      <td>0.812884</td>\n",
              "      <td>0.881891</td>\n",
              "      <td>0.710474</td>\n",
              "      <td>0.720110</td>\n",
              "      <td>0</td>\n",
              "    </tr>\n",
              "    <tr>\n",
              "      <th>4</th>\n",
              "      <td>0.946659</td>\n",
              "      <td>0.946659</td>\n",
              "      <td>0.828682</td>\n",
              "      <td>0.385463</td>\n",
              "      <td>0.744797</td>\n",
              "      <td>0.262660</td>\n",
              "      <td>0.949494</td>\n",
              "      <td>0.889298</td>\n",
              "      <td>1</td>\n",
              "    </tr>\n",
              "  </tbody>\n",
              "</table>\n",
              "</div>"
            ],
            "text/plain": [
              "   bow_imbalanced  rnn_imbalanced  ...  rnn_gpt2  true_value\n",
              "0        0.671189        0.671189  ...  0.048076           1\n",
              "1        0.986998        0.986998  ...  0.951166           1\n",
              "2        0.804610        0.804610  ...  0.583110           1\n",
              "3        0.728797        0.728797  ...  0.720110           0\n",
              "4        0.946659        0.946659  ...  0.889298           1\n",
              "\n",
              "[5 rows x 9 columns]"
            ]
          },
          "metadata": {
            "tags": []
          },
          "execution_count": 174
        }
      ]
    },
    {
      "cell_type": "code",
      "metadata": {
        "id": "mXKBuDPrDF9k",
        "colab_type": "code",
        "outputId": "93bc777e-c1d3-4adf-a461-aee0f5b56a85",
        "colab": {
          "base_uri": "https://localhost:8080/",
          "height": 167
        }
      },
      "source": [
        "#setting thresholds for 'not-sure'-category\n",
        "threshold1 = 0.4\n",
        "threshold2 = 0.6\n",
        "\n",
        "#find row indices to remove\n",
        "drop_idx = pred_df['rnn_gpt2'][pred_df.rnn_gpt2.between(threshold1, threshold2)].index\n",
        "\n",
        "# remove predictions that lie in between thresholds\n",
        "pred_df_reduced = pred_df.drop(drop_idx)\n",
        "pred_df_reduced = pred_df_reduced[['rnn_gpt2', 'true_value']]\n",
        "\n",
        "#convert probabilities of reduced predictions dataframe to classes\n",
        "pred_df_reduced_class = class_prediction(list(pred_df_reduced['rnn_gpt2']))\n",
        "pred_df_reduced_class['true_value'] = list(pred_df_reduced.true_value)\n",
        "\n",
        "#confusion matrix\n",
        "confusion_matrix_rnn_gpt2_thresholds = conf_matrix(pred_df_reduced_class['class_pred'], pred_df_reduced_class['true_value'])\n",
        "print(confusion_matrix_rnn_gpt2_thresholds)\n",
        "\n",
        "#evaluation metrics\n",
        "import sklearn\n",
        "\n",
        "#claculate evaluation metrics\n",
        "f1_rnn_gpt2_thresholds = sklearn.metrics.f1_score(pred_df_reduced_class['true_value'],pred_df_reduced_class['class_pred'])\n",
        "auc_rnn_gpt2_thresholds = sklearn.metrics.roc_auc_score(pred_df_reduced_class['true_value'],pred_df_reduced_class['class_pred'])\n",
        "acc_rnn_gpt2_thresholds = sklearn.metrics.accuracy_score(pred_df_reduced_class['true_value'],pred_df_reduced_class['class_pred'])\n",
        "\n",
        "print(\"F1:\", f1_rnn_gpt2_thresholds)\n",
        "print(\"AUC:\", auc_rnn_gpt2_thresholds)\n",
        "print(\"ACC:\", acc_rnn_gpt2_thresholds)"
      ],
      "execution_count": 0,
      "outputs": [
        {
          "output_type": "stream",
          "text": [
            "50000\n",
            "3647\n",
            "Predicted     0      1\n",
            "True                  \n",
            "0          1083   4685\n",
            "1          4343  36242\n",
            "F1: 0.8892433015997645\n",
            "AUC: 0.5403750382111002\n",
            "ACC: 0.8052337497033634\n"
          ],
          "name": "stdout"
        }
      ]
    },
    {
      "cell_type": "markdown",
      "metadata": {
        "id": "K_bcP8f4RECa",
        "colab_type": "text"
      },
      "source": [
        "### Compare Results with and without \"Not-Sure\"-Category"
      ]
    },
    {
      "cell_type": "code",
      "metadata": {
        "id": "D5MVeO-oKPfq",
        "colab_type": "code",
        "outputId": "8050606b-afb0-4244-df79-c724daea492d",
        "colab": {
          "base_uri": "https://localhost:8080/",
          "height": 167
        }
      },
      "source": [
        "#print results of both scenarios\n",
        "print(\"F1 all:\", f1_rnn_oversample_gpt2)\n",
        "print(\"F1 not sure:\", f1_rnn_gpt2_thresholds, \"\\n\")\n",
        "\n",
        "print(\"AUC all:\", auc_rnn_oversample_gpt2)\n",
        "print(\"AUC not sure:\", auc_rnn_gpt2_thresholds, \"\\n\")\n",
        "\n",
        "print(\"ACC all:\", acc_rnn_oversample_gpt2)\n",
        "print(\"ACC not sure:\", acc_rnn_gpt2_thresholds, \"\\n\")"
      ],
      "execution_count": 0,
      "outputs": [
        {
          "output_type": "stream",
          "text": [
            "F1 all: 0.8758094357076781\n",
            "F1 not sure: 0.8892433015997645 \n",
            "\n",
            "AUC all: 0.6090585356177668\n",
            "AUC not sure: 0.5403750382111002 \n",
            "\n",
            "ACC all: 0.7852\n",
            "ACC not sure: 0.8052337497033634 \n",
            "\n"
          ],
          "name": "stdout"
        }
      ]
    },
    {
      "cell_type": "code",
      "metadata": {
        "id": "YJHhh0SlSKE_",
        "colab_type": "code",
        "outputId": "a58fbb41-015b-45e6-a85e-0603a8e51aa8",
        "colab": {
          "base_uri": "https://localhost:8080/",
          "height": 67
        }
      },
      "source": [
        "#print additional information\n",
        "print(\"Comments to check manually:\", len(pred_df) - len(pred_df_reduced_class))\n",
        "print(\"Number of total comments:\", len(pred_df))\n",
        "print(\"Precetage of comments removed\", (len(pred_df) - len(pred_df_reduced_class))/len(pred_df))"
      ],
      "execution_count": 0,
      "outputs": [
        {
          "output_type": "stream",
          "text": [
            "Comments to check manually: 3647\n",
            "Number of total comments: 50000\n",
            "Precetage of comments removed 0.07294\n"
          ],
          "name": "stdout"
        }
      ]
    },
    {
      "cell_type": "code",
      "metadata": {
        "id": "viZlZiDnRmlY",
        "colab_type": "code",
        "outputId": "7e971b35-b182-438a-ff6a-61c61577381d",
        "colab": {
          "base_uri": "https://localhost:8080/",
          "height": 150
        }
      },
      "source": [
        "#compare confusion matrices\n",
        "print(confusion_matrix_rnn_oversample_gpt2)\n",
        "print(confusion_matrix_rnn_gpt2_thresholds)"
      ],
      "execution_count": 0,
      "outputs": [
        {
          "output_type": "stream",
          "text": [
            "Predicted     0      1\n",
            "True                  \n",
            "0          1390   5032\n",
            "1          5708  37870\n",
            "Predicted     0      1\n",
            "True                  \n",
            "0          1083   4685\n",
            "1          4343  36242\n"
          ],
          "name": "stdout"
        }
      ]
    },
    {
      "cell_type": "markdown",
      "metadata": {
        "id": "olxw7EZgNOxc",
        "colab_type": "text"
      },
      "source": [
        "##### Visualize Results of including \"Not Sure\"-Category "
      ]
    },
    {
      "cell_type": "code",
      "metadata": {
        "colab_type": "code",
        "outputId": "3cbeac2c-1e78-412c-d258-97a4f4bf9733",
        "id": "VzQKb_OWNoPJ",
        "colab": {
          "base_uri": "https://localhost:8080/",
          "height": 196
        }
      },
      "source": [
        "#prepare dataframe to visualize results\n",
        "cm_values_not_sure_df = pd.DataFrame({'Value':[confusion_matrix_rnn_oversample_gpt2[0][0], confusion_matrix_rnn_gpt2_thresholds[0][0],\n",
        "                                               confusion_matrix_rnn_oversample_gpt2[1][1], confusion_matrix_rnn_gpt2_thresholds[1][1],\n",
        "                                               confusion_matrix_rnn_oversample_gpt2[1][0], confusion_matrix_rnn_gpt2_thresholds[1][0],\n",
        "                                               confusion_matrix_rnn_oversample_gpt2[0][1], confusion_matrix_rnn_gpt2_thresholds[0][1]],\n",
        "                                      'Measure':['TN', 'TN', 'TP', 'TP', 'FN', 'FN', 'FP', 'FP'],\n",
        "                                      'Setting': ['Oversampling GPT-2', 'Oversampling GPT-2 Not Sure', 'Oversampling GPT-2', 'Oversampling GPT-2 Not Sure', \n",
        "                                                  'Oversampling GPT-2', 'Oversampling GPT-2 Not Sure', 'Oversampling GPT-2', 'Oversampling GPT-2 Not Sure'],\n",
        "                                      'Model':['RNN', 'RNN', 'RNN', 'RNN', 'RNN', 'RNN', 'RNN', 'RNN']})\n",
        "\n",
        "cm_values_not_sure_df.head()"
      ],
      "execution_count": 0,
      "outputs": [
        {
          "output_type": "execute_result",
          "data": {
            "text/html": [
              "<div>\n",
              "<style scoped>\n",
              "    .dataframe tbody tr th:only-of-type {\n",
              "        vertical-align: middle;\n",
              "    }\n",
              "\n",
              "    .dataframe tbody tr th {\n",
              "        vertical-align: top;\n",
              "    }\n",
              "\n",
              "    .dataframe thead th {\n",
              "        text-align: right;\n",
              "    }\n",
              "</style>\n",
              "<table border=\"1\" class=\"dataframe\">\n",
              "  <thead>\n",
              "    <tr style=\"text-align: right;\">\n",
              "      <th></th>\n",
              "      <th>Value</th>\n",
              "      <th>Measure</th>\n",
              "      <th>Setting</th>\n",
              "      <th>Model</th>\n",
              "    </tr>\n",
              "  </thead>\n",
              "  <tbody>\n",
              "    <tr>\n",
              "      <th>0</th>\n",
              "      <td>1390</td>\n",
              "      <td>TN</td>\n",
              "      <td>Oversampling GPT-2</td>\n",
              "      <td>RNN</td>\n",
              "    </tr>\n",
              "    <tr>\n",
              "      <th>1</th>\n",
              "      <td>1083</td>\n",
              "      <td>TN</td>\n",
              "      <td>Oversampling GPT-2 Not Sure</td>\n",
              "      <td>RNN</td>\n",
              "    </tr>\n",
              "    <tr>\n",
              "      <th>2</th>\n",
              "      <td>37870</td>\n",
              "      <td>TP</td>\n",
              "      <td>Oversampling GPT-2</td>\n",
              "      <td>RNN</td>\n",
              "    </tr>\n",
              "    <tr>\n",
              "      <th>3</th>\n",
              "      <td>36242</td>\n",
              "      <td>TP</td>\n",
              "      <td>Oversampling GPT-2 Not Sure</td>\n",
              "      <td>RNN</td>\n",
              "    </tr>\n",
              "    <tr>\n",
              "      <th>4</th>\n",
              "      <td>5032</td>\n",
              "      <td>FN</td>\n",
              "      <td>Oversampling GPT-2</td>\n",
              "      <td>RNN</td>\n",
              "    </tr>\n",
              "  </tbody>\n",
              "</table>\n",
              "</div>"
            ],
            "text/plain": [
              "   Value Measure                      Setting Model\n",
              "0   1390      TN           Oversampling GPT-2   RNN\n",
              "1   1083      TN  Oversampling GPT-2 Not Sure   RNN\n",
              "2  37870      TP           Oversampling GPT-2   RNN\n",
              "3  36242      TP  Oversampling GPT-2 Not Sure   RNN\n",
              "4   5032      FN           Oversampling GPT-2   RNN"
            ]
          },
          "metadata": {
            "tags": []
          },
          "execution_count": 196
        }
      ]
    },
    {
      "cell_type": "code",
      "metadata": {
        "colab_type": "code",
        "id": "SdrpC1TmNoP1",
        "colab": {}
      },
      "source": [
        "#setting figure size\n",
        "fig_size = plt.rcParams[\"figure.figsize\"]\n",
        "fig_size[0] = 12\n",
        "fig_size[1] = 9\n",
        "plt.rcParams[\"figure.figsize\"] = fig_size"
      ],
      "execution_count": 0,
      "outputs": []
    },
    {
      "cell_type": "code",
      "metadata": {
        "colab_type": "code",
        "outputId": "e7fb2967-25d0-4461-84a8-df3e8326fc3b",
        "id": "XcBJquoXNoP6",
        "colab": {
          "base_uri": "https://localhost:8080/",
          "height": 369
        }
      },
      "source": [
        "#barplot 1\n",
        "sns.catplot(x=\"Setting\", y=\"Value\", hue=\"Measure\", col=\"Model\", data=cm_values_not_sure_df, kind=\"bar\", ci=None);"
      ],
      "execution_count": 0,
      "outputs": [
        {
          "output_type": "display_data",
          "data": {
            "image/png": "[encoded data removed]",
            "text/plain": [
              "<Figure size 410.75x360 with 1 Axes>"
            ]
          },
          "metadata": {
            "tags": []
          }
        }
      ]
    },
    {
      "cell_type": "markdown",
      "metadata": {
        "id": "gPE3tYfK4p2F",
        "colab_type": "text"
      },
      "source": [
        "##### Stacked Percentage Bar Plot"
      ]
    },
    {
      "cell_type": "code",
      "metadata": {
        "colab_type": "code",
        "outputId": "7014c825-82a4-4a5b-e4ab-3037e357bb76",
        "id": "7U4VRWP64EN8",
        "colab": {
          "base_uri": "https://localhost:8080/",
          "height": 584
        }
      },
      "source": [
        "#prepare dataframe for stacked barplot\n",
        "#filter dataframe based on setting to construct two separate ones\n",
        "cm_values_not_sure_df1 = cm_values_not_sure_df[cm_values_not_sure_df['Setting'] == 'Oversampling GPT-2']\n",
        "cm_values_not_sure_df2 = cm_values_not_sure_df[cm_values_not_sure_df['Setting'] == 'Oversampling GPT-2 Not Sure']\n",
        "\n",
        "#calculate percentages of values\n",
        "cm_values_not_sure_df1['Rate'] = cm_values_not_sure_df1['Value']/len(pred_df)\n",
        "cm_values_not_sure_df2['Rate'] = cm_values_not_sure_df2['Value']/len(pred_df_reduced)\n",
        "\n",
        "print(cm_values_not_sure_df1.head())\n",
        "print(cm_values_not_sure_df2.head())\n",
        "\n",
        "cm_values_not_sure_df = pd.concat([cm_values_not_sure_df1, cm_values_not_sure_df2])\n",
        "cm_values_not_sure_df.head()"
      ],
      "execution_count": 0,
      "outputs": [
        {
          "output_type": "stream",
          "text": [
            "   Value Measure             Setting Model     Rate\n",
            "0   1390      TN  Oversampling GPT-2   RNN  0.02780\n",
            "2  37870      TP  Oversampling GPT-2   RNN  0.75740\n",
            "4   5032      FN  Oversampling GPT-2   RNN  0.10064\n",
            "6   5708      FP  Oversampling GPT-2   RNN  0.11416\n",
            "   Value Measure                      Setting Model      Rate\n",
            "1   1083      TN  Oversampling GPT-2 Not Sure   RNN  0.023364\n",
            "3  36242      TP  Oversampling GPT-2 Not Sure   RNN  0.781870\n",
            "5   4685      FN  Oversampling GPT-2 Not Sure   RNN  0.101072\n",
            "7   4343      FP  Oversampling GPT-2 Not Sure   RNN  0.093694\n"
          ],
          "name": "stdout"
        },
        {
          "output_type": "stream",
          "text": [
            "/usr/local/lib/python3.6/dist-packages/ipykernel_launcher.py:4: SettingWithCopyWarning: \n",
            "A value is trying to be set on a copy of a slice from a DataFrame.\n",
            "Try using .loc[row_indexer,col_indexer] = value instead\n",
            "\n",
            "See the caveats in the documentation: http://pandas.pydata.org/pandas-docs/stable/user_guide/indexing.html#returning-a-view-versus-a-copy\n",
            "  after removing the cwd from sys.path.\n",
            "/usr/local/lib/python3.6/dist-packages/ipykernel_launcher.py:5: SettingWithCopyWarning: \n",
            "A value is trying to be set on a copy of a slice from a DataFrame.\n",
            "Try using .loc[row_indexer,col_indexer] = value instead\n",
            "\n",
            "See the caveats in the documentation: http://pandas.pydata.org/pandas-docs/stable/user_guide/indexing.html#returning-a-view-versus-a-copy\n",
            "  \"\"\"\n"
          ],
          "name": "stderr"
        },
        {
          "output_type": "execute_result",
          "data": {
            "text/html": [
              "<div>\n",
              "<style scoped>\n",
              "    .dataframe tbody tr th:only-of-type {\n",
              "        vertical-align: middle;\n",
              "    }\n",
              "\n",
              "    .dataframe tbody tr th {\n",
              "        vertical-align: top;\n",
              "    }\n",
              "\n",
              "    .dataframe thead th {\n",
              "        text-align: right;\n",
              "    }\n",
              "</style>\n",
              "<table border=\"1\" class=\"dataframe\">\n",
              "  <thead>\n",
              "    <tr style=\"text-align: right;\">\n",
              "      <th></th>\n",
              "      <th>Value</th>\n",
              "      <th>Measure</th>\n",
              "      <th>Setting</th>\n",
              "      <th>Model</th>\n",
              "      <th>Rate</th>\n",
              "    </tr>\n",
              "  </thead>\n",
              "  <tbody>\n",
              "    <tr>\n",
              "      <th>0</th>\n",
              "      <td>1390</td>\n",
              "      <td>TN</td>\n",
              "      <td>Oversampling GPT-2</td>\n",
              "      <td>RNN</td>\n",
              "      <td>0.027800</td>\n",
              "    </tr>\n",
              "    <tr>\n",
              "      <th>2</th>\n",
              "      <td>37870</td>\n",
              "      <td>TP</td>\n",
              "      <td>Oversampling GPT-2</td>\n",
              "      <td>RNN</td>\n",
              "      <td>0.757400</td>\n",
              "    </tr>\n",
              "    <tr>\n",
              "      <th>4</th>\n",
              "      <td>5032</td>\n",
              "      <td>FN</td>\n",
              "      <td>Oversampling GPT-2</td>\n",
              "      <td>RNN</td>\n",
              "      <td>0.100640</td>\n",
              "    </tr>\n",
              "    <tr>\n",
              "      <th>6</th>\n",
              "      <td>5708</td>\n",
              "      <td>FP</td>\n",
              "      <td>Oversampling GPT-2</td>\n",
              "      <td>RNN</td>\n",
              "      <td>0.114160</td>\n",
              "    </tr>\n",
              "    <tr>\n",
              "      <th>1</th>\n",
              "      <td>1083</td>\n",
              "      <td>TN</td>\n",
              "      <td>Oversampling GPT-2 Not Sure</td>\n",
              "      <td>RNN</td>\n",
              "      <td>0.023364</td>\n",
              "    </tr>\n",
              "  </tbody>\n",
              "</table>\n",
              "</div>"
            ],
            "text/plain": [
              "   Value Measure                      Setting Model      Rate\n",
              "0   1390      TN           Oversampling GPT-2   RNN  0.027800\n",
              "2  37870      TP           Oversampling GPT-2   RNN  0.757400\n",
              "4   5032      FN           Oversampling GPT-2   RNN  0.100640\n",
              "6   5708      FP           Oversampling GPT-2   RNN  0.114160\n",
              "1   1083      TN  Oversampling GPT-2 Not Sure   RNN  0.023364"
            ]
          },
          "metadata": {
            "tags": []
          },
          "execution_count": 271
        }
      ]
    },
    {
      "cell_type": "code",
      "metadata": {
        "colab_type": "code",
        "outputId": "f1707831-95fb-4e6e-c7f3-960fe44c0e04",
        "id": "zXD74ri74EOL",
        "colab": {
          "base_uri": "https://localhost:8080/",
          "height": 84
        }
      },
      "source": [
        "#Stacked Bar Plot Percentage\n",
        "pivot_df_bow = cm_values_not_sure_df[cm_values_not_sure_df['Model'] == 'RNN'].pivot(index='Setting', columns='Measure', values='Rate')\n",
        "print(pivot_df_bow)"
      ],
      "execution_count": 0,
      "outputs": [
        {
          "output_type": "stream",
          "text": [
            "Measure                            FN        FP        TN       TP\n",
            "Setting                                                           \n",
            "Oversampling GPT-2           0.100640  0.114160  0.027800  0.75740\n",
            "Oversampling GPT-2 Not Sure  0.101072  0.093694  0.023364  0.78187\n"
          ],
          "name": "stdout"
        }
      ]
    },
    {
      "cell_type": "code",
      "metadata": {
        "colab_type": "code",
        "outputId": "91e330bf-bcc6-4b55-c70a-b482a4404f96",
        "id": "62asPURd4EOQ",
        "colab": {
          "base_uri": "https://localhost:8080/",
          "height": 767
        }
      },
      "source": [
        "#setting colors\n",
        "colors = [\"#CB4335\", \"#F1948A\",\"#2471A3\", '#85C1E9']\n",
        "\n",
        "#construct and plot pivot dataframe\n",
        "pivot_df_bow.loc[:,['FN', 'FP', 'TN', 'TP']].plot.bar(stacked=True, color=colors, figsize=(15,12), title = 'RNN Prediciton Rates with and without \"Not Sure\"-Category', rot = 0).legend(bbox_to_anchor=(1.125, 0.575))"
      ],
      "execution_count": 0,
      "outputs": [
        {
          "output_type": "execute_result",
          "data": {
            "text/plain": [
              "<matplotlib.legend.Legend at 0x7f8630a56a90>"
            ]
          },
          "metadata": {
            "tags": []
          },
          "execution_count": 274
        },
        {
          "output_type": "display_data",
          "data": {
            "image/png": "[encoded data removed]",
            "text/plain": [
              "<Figure size 1080x864 with 1 Axes>"
            ]
          },
          "metadata": {
            "tags": []
          }
        }
      ]
    },
    {
      "cell_type": "markdown",
      "metadata": {
        "id": "MMfNG19c3a4s",
        "colab_type": "text"
      },
      "source": [
        "#### Distribution of Predicted Probabilities"
      ]
    },
    {
      "cell_type": "code",
      "metadata": {
        "id": "CPTQWN3dyYHP",
        "colab_type": "code",
        "outputId": "13503162-4891-4505-ad1c-29eee1b5275d",
        "colab": {
          "base_uri": "https://localhost:8080/",
          "height": 537
        }
      },
      "source": [
        "#plot distribution of predicted probabilities\n",
        "sns.kdeplot(pred_df['rnn_imbalanced'], shade=True);"
      ],
      "execution_count": 0,
      "outputs": [
        {
          "output_type": "display_data",
          "data": {
            "image/png": "[encoded data removed]",
            "text/plain": [
              "<Figure size 864x648 with 1 Axes>"
            ]
          },
          "metadata": {
            "tags": []
          }
        }
      ]
    },
    {
      "cell_type": "code",
      "metadata": {
        "id": "QdsHYsWOIj8q",
        "colab_type": "code",
        "outputId": "df23f51e-31db-4634-ae0a-a1e2429baa4a",
        "colab": {
          "base_uri": "https://localhost:8080/",
          "height": 537
        }
      },
      "source": [
        "#plot distribution of predicted probabilities\n",
        "sns.kdeplot(pred_df['bow_gpt2'], shade=True);"
      ],
      "execution_count": 0,
      "outputs": [
        {
          "output_type": "display_data",
          "data": {
            "image/png": "[encoded data removed]",
            "text/plain": [
              "<Figure size 864x648 with 1 Axes>"
            ]
          },
          "metadata": {
            "tags": []
          }
        }
      ]
    },
    {
      "cell_type": "markdown",
      "metadata": {
        "id": "NOMmmSmNS4mS",
        "colab_type": "text"
      },
      "source": [
        "## Try different balancing Ratios for generated Comments"
      ]
    },
    {
      "cell_type": "code",
      "metadata": {
        "id": "OJDXEgh3TDXa",
        "colab_type": "code",
        "outputId": "93bd8a93-d26c-4390-b5a1-37e6d28b742b",
        "colab": {
          "base_uri": "https://localhost:8080/",
          "height": 67
        }
      },
      "source": [
        "print(len(text_classification_train_reduced))\n",
        "print(len(text_classification_train_reduced[text_classification_train_reduced['published'] == True]))\n",
        "\n",
        "#percentage of published comments\n",
        "perc_published = len(text_classification_train_reduced[text_classification_train_reduced['published'] == True])/len(text_classification_train_reduced)\n",
        "print(perc_published)\n"
      ],
      "execution_count": 0,
      "outputs": [
        {
          "output_type": "stream",
          "text": [
            "146292\n",
            "127039\n",
            "0.86839335028573\n"
          ],
          "name": "stdout"
        }
      ]
    },
    {
      "cell_type": "code",
      "metadata": {
        "id": "LSLDlYsBUGpI",
        "colab_type": "code",
        "outputId": "4389c070-9f2d-4959-a592-1b22ea778083",
        "colab": {
          "base_uri": "https://localhost:8080/",
          "height": 196
        }
      },
      "source": [
        "#generated glove comments\n",
        "glove_gen_comments.head()"
      ],
      "execution_count": 0,
      "outputs": [
        {
          "output_type": "execute_result",
          "data": {
            "text/html": [
              "<div>\n",
              "<style scoped>\n",
              "    .dataframe tbody tr th:only-of-type {\n",
              "        vertical-align: middle;\n",
              "    }\n",
              "\n",
              "    .dataframe tbody tr th {\n",
              "        vertical-align: top;\n",
              "    }\n",
              "\n",
              "    .dataframe thead th {\n",
              "        text-align: right;\n",
              "    }\n",
              "</style>\n",
              "<table border=\"1\" class=\"dataframe\">\n",
              "  <thead>\n",
              "    <tr style=\"text-align: right;\">\n",
              "      <th></th>\n",
              "      <th>text</th>\n",
              "      <th>online</th>\n",
              "    </tr>\n",
              "  </thead>\n",
              "  <tbody>\n",
              "    <tr>\n",
              "      <th>0</th>\n",
              "      <td>sozialforschung hinzu koran nicht buergermeist...</td>\n",
              "      <td>False</td>\n",
              "    </tr>\n",
              "    <tr>\n",
              "      <th>1</th>\n",
              "      <td>sollen steht immer verlieren ja dafuer moege t...</td>\n",
              "      <td>False</td>\n",
              "    </tr>\n",
              "    <tr>\n",
              "      <th>2</th>\n",
              "      <td>integrationsbeauftragte region nicht lauter ei...</td>\n",
              "      <td>False</td>\n",
              "    </tr>\n",
              "    <tr>\n",
              "      <th>3</th>\n",
              "      <td>laberwerkstatt blauen unglaeubigen irrtum lueg...</td>\n",
              "      <td>False</td>\n",
              "    </tr>\n",
              "    <tr>\n",
              "      <th>4</th>\n",
              "      <td>parteien links afd ruegt loew freiheit hoelle ...</td>\n",
              "      <td>False</td>\n",
              "    </tr>\n",
              "  </tbody>\n",
              "</table>\n",
              "</div>"
            ],
            "text/plain": [
              "                                                text  online\n",
              "0  sozialforschung hinzu koran nicht buergermeist...   False\n",
              "1  sollen steht immer verlieren ja dafuer moege t...   False\n",
              "2  integrationsbeauftragte region nicht lauter ei...   False\n",
              "3  laberwerkstatt blauen unglaeubigen irrtum lueg...   False\n",
              "4  parteien links afd ruegt loew freiheit hoelle ...   False"
            ]
          },
          "metadata": {
            "tags": []
          },
          "execution_count": 206
        }
      ]
    },
    {
      "cell_type": "markdown",
      "metadata": {
        "id": "Ha_4QLajV4sr",
        "colab_type": "text"
      },
      "source": [
        "### 50:50 Balancing"
      ]
    },
    {
      "cell_type": "code",
      "metadata": {
        "id": "5nNyo5gvVu4i",
        "colab_type": "code",
        "outputId": "ce192b58-088d-4f73-8409-9193e42d489b",
        "colab": {
          "base_uri": "https://localhost:8080/",
          "height": 33
        }
      },
      "source": [
        "#number of comments necessary for specified balancing\n",
        "print(len(text_classification_train_reduced[text_classification_train_reduced['published'] == True]) - len(text_classification_train_reduced[text_classification_train_reduced['published'] == False]))"
      ],
      "execution_count": 0,
      "outputs": [
        {
          "output_type": "stream",
          "text": [
            "107786\n"
          ],
          "name": "stdout"
        }
      ]
    },
    {
      "cell_type": "code",
      "metadata": {
        "id": "gSWhDjBzWYkQ",
        "colab_type": "code",
        "outputId": "7db7243e-a0d0-4d3d-870e-2fd75efc2b0f",
        "colab": {
          "base_uri": "https://localhost:8080/",
          "height": 334
        }
      },
      "source": [
        "#results from 50:50 balancing\n",
        "print(\"F1 BOW:\", f1_bow_oversample_glove)\n",
        "print(\"F1 RNN:\", f1_rnn_oversample_glove, \"\\n\")\n",
        "print(\"AUC BOW:\", auc_bow_oversample_glove)\n",
        "print(\"AUC RNN:\", auc_rnn_oversample_glove, \"\\n\")\n",
        "print(\"ACC BOW:\", acc_bow_oversample_glove)\n",
        "print(\"ACC RNN:\", acc_rnn_oversample_glove, \"\\n\")\n",
        "print(confusion_matrix_bow_imbalanced, \"\\n\")\n",
        "print(confusion_matrix_rnn_imbalanced, \"\\n\")"
      ],
      "execution_count": 0,
      "outputs": [
        {
          "output_type": "stream",
          "text": [
            "F1 BOW: 0.8179530619363197\n",
            "F1 RNN: 0.8017153307687457 \n",
            "\n",
            "AUC BOW: 0.6213615251104778\n",
            "AUC RNN: 0.5958927458031953 \n",
            "\n",
            "ACC BOW: 0.70772\n",
            "ACC RNN: 0.68558 \n",
            "\n",
            "Predicted     0      1\n",
            "True                  \n",
            "0           466   5956\n",
            "1          1166  42412 \n",
            "\n",
            "Predicted    0      1\n",
            "True                 \n",
            "0           99   6323\n",
            "1          101  43477 \n",
            "\n"
          ],
          "name": "stdout"
        }
      ]
    },
    {
      "cell_type": "markdown",
      "metadata": {
        "id": "W1fbUYIUY4R9",
        "colab_type": "text"
      },
      "source": [
        "### Different Ratios"
      ]
    },
    {
      "cell_type": "code",
      "metadata": {
        "id": "WRK8DjzIXe8O",
        "colab_type": "code",
        "outputId": "a171cde4-c313-4bf3-dfdb-9bcd5dfed893",
        "colab": {
          "base_uri": "https://localhost:8080/",
          "height": 67
        }
      },
      "source": [
        "#number of generated comments used in 50:50 balancing\n",
        "glove_comments_5050 = len(glove_gen_comments)\n",
        "\n",
        "#reduced number of generated comments\n",
        "glove_comments_ratio1 = int(0.5*glove_comments_5050)\n",
        "glove_comments_ratio2 = int(0.5*glove_comments_ratio1)\n",
        "\n",
        "print(\"All Comments Used:\", glove_comments_5050)\n",
        "print(\"Reduced Comments Ratio 1:\", glove_comments_ratio1)\n",
        "print(\"Reduced Comments Ratio 2:\", glove_comments_ratio2)"
      ],
      "execution_count": 0,
      "outputs": [
        {
          "output_type": "stream",
          "text": [
            "All Comments Used: 30133\n",
            "Reduced Comments Ratio 1: 15066\n",
            "Reduced Comments Ratio 2: 7533\n"
          ],
          "name": "stdout"
        }
      ]
    },
    {
      "cell_type": "markdown",
      "metadata": {
        "id": "itcg0R1AaCkd",
        "colab_type": "text"
      },
      "source": [
        "#### Ratio 1"
      ]
    },
    {
      "cell_type": "code",
      "metadata": {
        "id": "C25SPakQaJUB",
        "colab_type": "code",
        "outputId": "6c1a43f9-30c3-404f-c8ce-b5327f8a9738",
        "colab": {
          "base_uri": "https://localhost:8080/",
          "height": 196
        }
      },
      "source": [
        "#take sample of glove generated comments\n",
        "glove_gen_comments_ratio1 = glove_gen_comments.sample(n=glove_comments_ratio1, random_state=1)\n",
        "glove_gen_comments_ratio1.head()"
      ],
      "execution_count": 0,
      "outputs": [
        {
          "output_type": "execute_result",
          "data": {
            "text/html": [
              "<div>\n",
              "<style scoped>\n",
              "    .dataframe tbody tr th:only-of-type {\n",
              "        vertical-align: middle;\n",
              "    }\n",
              "\n",
              "    .dataframe tbody tr th {\n",
              "        vertical-align: top;\n",
              "    }\n",
              "\n",
              "    .dataframe thead th {\n",
              "        text-align: right;\n",
              "    }\n",
              "</style>\n",
              "<table border=\"1\" class=\"dataframe\">\n",
              "  <thead>\n",
              "    <tr style=\"text-align: right;\">\n",
              "      <th></th>\n",
              "      <th>text</th>\n",
              "      <th>online</th>\n",
              "    </tr>\n",
              "  </thead>\n",
              "  <tbody>\n",
              "    <tr>\n",
              "      <th>5690</th>\n",
              "      <td>twitter nazikeule eu sonne hinderlich rede deu...</td>\n",
              "      <td>False</td>\n",
              "    </tr>\n",
              "    <tr>\n",
              "      <th>19778</th>\n",
              "      <td>schaden nichts themen hoechsten aufgerufen umh...</td>\n",
              "      <td>False</td>\n",
              "    </tr>\n",
              "    <tr>\n",
              "      <th>28757</th>\n",
              "      <td>schon idee tuerkei kasse geringsten meisten de...</td>\n",
              "      <td>False</td>\n",
              "    </tr>\n",
              "    <tr>\n",
              "      <th>27047</th>\n",
              "      <td>dabei anmassend aktivistin aerzte gepredigt ni...</td>\n",
              "      <td>False</td>\n",
              "    </tr>\n",
              "    <tr>\n",
              "      <th>29804</th>\n",
              "      <td>keinen gegensatz songs untermauert erst glaube...</td>\n",
              "      <td>False</td>\n",
              "    </tr>\n",
              "  </tbody>\n",
              "</table>\n",
              "</div>"
            ],
            "text/plain": [
              "                                                    text  online\n",
              "5690   twitter nazikeule eu sonne hinderlich rede deu...   False\n",
              "19778  schaden nichts themen hoechsten aufgerufen umh...   False\n",
              "28757  schon idee tuerkei kasse geringsten meisten de...   False\n",
              "27047  dabei anmassend aktivistin aerzte gepredigt ni...   False\n",
              "29804  keinen gegensatz songs untermauert erst glaube...   False"
            ]
          },
          "metadata": {
            "tags": []
          },
          "execution_count": 210
        }
      ]
    },
    {
      "cell_type": "markdown",
      "metadata": {
        "colab_type": "text",
        "id": "o89mjO7Zd2Iz"
      },
      "source": [
        "##### Extending original Data Set with generated comments"
      ]
    },
    {
      "cell_type": "code",
      "metadata": {
        "colab_type": "code",
        "outputId": "174f4eac-bcf0-4d9c-ed13-34339382473b",
        "id": "_aZVRuBud2I1",
        "colab": {
          "base_uri": "https://localhost:8080/",
          "height": 196
        }
      },
      "source": [
        "#adding generated comments to original data\n",
        "df_gen_glove_ratio1 = text_classification_train_reduced_small_glove[['text', 'published']].copy()\n",
        "df_gen_glove_ratio1.head()"
      ],
      "execution_count": 0,
      "outputs": [
        {
          "output_type": "execute_result",
          "data": {
            "text/html": [
              "<div>\n",
              "<style scoped>\n",
              "    .dataframe tbody tr th:only-of-type {\n",
              "        vertical-align: middle;\n",
              "    }\n",
              "\n",
              "    .dataframe tbody tr th {\n",
              "        vertical-align: top;\n",
              "    }\n",
              "\n",
              "    .dataframe thead th {\n",
              "        text-align: right;\n",
              "    }\n",
              "</style>\n",
              "<table border=\"1\" class=\"dataframe\">\n",
              "  <thead>\n",
              "    <tr style=\"text-align: right;\">\n",
              "      <th></th>\n",
              "      <th>text</th>\n",
              "      <th>online</th>\n",
              "    </tr>\n",
              "  </thead>\n",
              "  <tbody>\n",
              "    <tr>\n",
              "      <th>1236267</th>\n",
              "      <td>erlauben stamp kannte mann bisher nicht</td>\n",
              "      <td>False</td>\n",
              "    </tr>\n",
              "    <tr>\n",
              "      <th>722238</th>\n",
              "      <td>glaube sahara gibt s genug</td>\n",
              "      <td>True</td>\n",
              "    </tr>\n",
              "    <tr>\n",
              "      <th>312585</th>\n",
              "      <td>zunaechst vielen dank georg differenzierten kl...</td>\n",
              "      <td>True</td>\n",
              "    </tr>\n",
              "    <tr>\n",
              "      <th>1334051</th>\n",
              "      <td>filiz message verstanden suedliche server weit...</td>\n",
              "      <td>False</td>\n",
              "    </tr>\n",
              "    <tr>\n",
              "      <th>531370</th>\n",
              "      <td>dafuer ausfuehrlich lesen seibert denkt fuehlt</td>\n",
              "      <td>False</td>\n",
              "    </tr>\n",
              "  </tbody>\n",
              "</table>\n",
              "</div>"
            ],
            "text/plain": [
              "                                                      text  online\n",
              "1236267            erlauben stamp kannte mann bisher nicht   False\n",
              "722238                          glaube sahara gibt s genug    True\n",
              "312585   zunaechst vielen dank georg differenzierten kl...    True\n",
              "1334051  filiz message verstanden suedliche server weit...   False\n",
              "531370      dafuer ausfuehrlich lesen seibert denkt fuehlt   False"
            ]
          },
          "metadata": {
            "tags": []
          },
          "execution_count": 214
        }
      ]
    },
    {
      "cell_type": "code",
      "metadata": {
        "colab_type": "code",
        "outputId": "ed7e4ab2-e661-4d4c-c6f0-514d39a3a7c4",
        "id": "AQJepjhkd2I5",
        "colab": {
          "base_uri": "https://localhost:8080/",
          "height": 196
        }
      },
      "source": [
        "#extension dataframe\n",
        "glove_gen_ext_ratio1 = pd.DataFrame(glove_gen_comments_ratio1)\n",
        "glove_gen_ext_ratio1['published'] = False\n",
        "glove_gen_ext_ratio1.head()"
      ],
      "execution_count": 0,
      "outputs": [
        {
          "output_type": "execute_result",
          "data": {
            "text/html": [
              "<div>\n",
              "<style scoped>\n",
              "    .dataframe tbody tr th:only-of-type {\n",
              "        vertical-align: middle;\n",
              "    }\n",
              "\n",
              "    .dataframe tbody tr th {\n",
              "        vertical-align: top;\n",
              "    }\n",
              "\n",
              "    .dataframe thead th {\n",
              "        text-align: right;\n",
              "    }\n",
              "</style>\n",
              "<table border=\"1\" class=\"dataframe\">\n",
              "  <thead>\n",
              "    <tr style=\"text-align: right;\">\n",
              "      <th></th>\n",
              "      <th>text</th>\n",
              "      <th>online</th>\n",
              "    </tr>\n",
              "  </thead>\n",
              "  <tbody>\n",
              "    <tr>\n",
              "      <th>5690</th>\n",
              "      <td>twitter nazikeule eu sonne hinderlich rede deu...</td>\n",
              "      <td>False</td>\n",
              "    </tr>\n",
              "    <tr>\n",
              "      <th>19778</th>\n",
              "      <td>schaden nichts themen hoechsten aufgerufen umh...</td>\n",
              "      <td>False</td>\n",
              "    </tr>\n",
              "    <tr>\n",
              "      <th>28757</th>\n",
              "      <td>schon idee tuerkei kasse geringsten meisten de...</td>\n",
              "      <td>False</td>\n",
              "    </tr>\n",
              "    <tr>\n",
              "      <th>27047</th>\n",
              "      <td>dabei anmassend aktivistin aerzte gepredigt ni...</td>\n",
              "      <td>False</td>\n",
              "    </tr>\n",
              "    <tr>\n",
              "      <th>29804</th>\n",
              "      <td>keinen gegensatz songs untermauert erst glaube...</td>\n",
              "      <td>False</td>\n",
              "    </tr>\n",
              "  </tbody>\n",
              "</table>\n",
              "</div>"
            ],
            "text/plain": [
              "                                                    text  online\n",
              "5690   twitter nazikeule eu sonne hinderlich rede deu...   False\n",
              "19778  schaden nichts themen hoechsten aufgerufen umh...   False\n",
              "28757  schon idee tuerkei kasse geringsten meisten de...   False\n",
              "27047  dabei anmassend aktivistin aerzte gepredigt ni...   False\n",
              "29804  keinen gegensatz songs untermauert erst glaube...   False"
            ]
          },
          "metadata": {
            "tags": []
          },
          "execution_count": 215
        }
      ]
    },
    {
      "cell_type": "code",
      "metadata": {
        "colab_type": "code",
        "outputId": "dfd4e461-04c2-4663-905a-551d4a83e3e7",
        "id": "s3C1UVi9d2JF",
        "colab": {
          "base_uri": "https://localhost:8080/",
          "height": 33
        }
      },
      "source": [
        "#concatenating data frames\n",
        "df_gen_glove_ratio1 = pd.concat([df_gen_glove_ratio1, glove_gen_ext_ratio1])\n",
        "len(df_gen_glove_ratio1)"
      ],
      "execution_count": 0,
      "outputs": [
        {
          "output_type": "execute_result",
          "data": {
            "text/plain": [
              "59148"
            ]
          },
          "metadata": {
            "tags": []
          },
          "execution_count": 216
        }
      ]
    },
    {
      "cell_type": "code",
      "metadata": {
        "colab_type": "code",
        "outputId": "0fca8356-3dcd-406a-ec60-88f401a0473d",
        "id": "NlpTKtTqd2JJ",
        "colab": {
          "base_uri": "https://localhost:8080/",
          "height": 67
        }
      },
      "source": [
        "#check balancedness\n",
        "df_gen_glove_ratio1['published'].value_counts()"
      ],
      "execution_count": 0,
      "outputs": [
        {
          "output_type": "execute_result",
          "data": {
            "text/plain": [
              "True     38195\n",
              "False    20953\n",
              "Name: online, dtype: int64"
            ]
          },
          "metadata": {
            "tags": []
          },
          "execution_count": 217
        }
      ]
    },
    {
      "cell_type": "code",
      "metadata": {
        "id": "8WhdYyr6ej_f",
        "colab_type": "code",
        "outputId": "7da0d1d3-2f22-422a-d60d-868b62879c1d",
        "colab": {
          "base_uri": "https://localhost:8080/",
          "height": 33
        }
      },
      "source": [
        "#percentage of published comments\n",
        "perc_published = len(df_gen_glove_ratio1[df_gen_glove_ratio1['published'] == True])/len(df_gen_glove_ratio1)\n",
        "print(perc_published)"
      ],
      "execution_count": 0,
      "outputs": [
        {
          "output_type": "stream",
          "text": [
            "0.6457530263068912\n"
          ],
          "name": "stdout"
        }
      ]
    },
    {
      "cell_type": "markdown",
      "metadata": {
        "colab_type": "text",
        "id": "uMejQf0_cJeF"
      },
      "source": [
        "##### Classification with balanced Dataset using GloVe Comments"
      ]
    },
    {
      "cell_type": "code",
      "metadata": {
        "colab_type": "code",
        "outputId": "3e6e9556-e8a9-4be2-d866-27085171f3cf",
        "id": "4fNZmPeleN7M",
        "colab": {
          "base_uri": "https://localhost:8080/",
          "height": 196
        }
      },
      "source": [
        "#extracting texts and labels from data frame\n",
        "comment = pd.DataFrame()\n",
        "\n",
        "comment['text'] = df_gen_glove_ratio1['text']\n",
        "comment['label'] = df_gen_glove_ratio1['published']\n",
        "\n",
        "comment.head()"
      ],
      "execution_count": 0,
      "outputs": [
        {
          "output_type": "execute_result",
          "data": {
            "text/html": [
              "<div>\n",
              "<style scoped>\n",
              "    .dataframe tbody tr th:only-of-type {\n",
              "        vertical-align: middle;\n",
              "    }\n",
              "\n",
              "    .dataframe tbody tr th {\n",
              "        vertical-align: top;\n",
              "    }\n",
              "\n",
              "    .dataframe thead th {\n",
              "        text-align: right;\n",
              "    }\n",
              "</style>\n",
              "<table border=\"1\" class=\"dataframe\">\n",
              "  <thead>\n",
              "    <tr style=\"text-align: right;\">\n",
              "      <th></th>\n",
              "      <th>text</th>\n",
              "      <th>label</th>\n",
              "    </tr>\n",
              "  </thead>\n",
              "  <tbody>\n",
              "    <tr>\n",
              "      <th>1236267</th>\n",
              "      <td>erlauben stamp kannte mann bisher nicht</td>\n",
              "      <td>False</td>\n",
              "    </tr>\n",
              "    <tr>\n",
              "      <th>722238</th>\n",
              "      <td>glaube sahara gibt s genug</td>\n",
              "      <td>True</td>\n",
              "    </tr>\n",
              "    <tr>\n",
              "      <th>312585</th>\n",
              "      <td>zunaechst vielen dank georg differenzierten kl...</td>\n",
              "      <td>True</td>\n",
              "    </tr>\n",
              "    <tr>\n",
              "      <th>1334051</th>\n",
              "      <td>filiz message verstanden suedliche server weit...</td>\n",
              "      <td>False</td>\n",
              "    </tr>\n",
              "    <tr>\n",
              "      <th>531370</th>\n",
              "      <td>dafuer ausfuehrlich lesen seibert denkt fuehlt</td>\n",
              "      <td>False</td>\n",
              "    </tr>\n",
              "  </tbody>\n",
              "</table>\n",
              "</div>"
            ],
            "text/plain": [
              "                                                      text  label\n",
              "1236267            erlauben stamp kannte mann bisher nicht  False\n",
              "722238                          glaube sahara gibt s genug   True\n",
              "312585   zunaechst vielen dank georg differenzierten kl...   True\n",
              "1334051  filiz message verstanden suedliche server weit...  False\n",
              "531370      dafuer ausfuehrlich lesen seibert denkt fuehlt  False"
            ]
          },
          "metadata": {
            "tags": []
          },
          "execution_count": 219
        }
      ]
    },
    {
      "cell_type": "code",
      "metadata": {
        "colab_type": "code",
        "id": "GdGufEg5eN7c",
        "colab": {}
      },
      "source": [
        "#prepare training set\n",
        "comment_train = comment['text']\n",
        "label_train = comment['label']"
      ],
      "execution_count": 0,
      "outputs": []
    },
    {
      "cell_type": "code",
      "metadata": {
        "colab_type": "code",
        "outputId": "9521df41-78e3-4820-b539-34969f64a18c",
        "id": "d6vLA6s8eN7f",
        "colab": {
          "base_uri": "https://localhost:8080/",
          "height": 84
        }
      },
      "source": [
        "print(comment_train.shape)\n",
        "print(comment_test.shape)\n",
        "print(label_train.shape)\n",
        "print(label_test.shape)"
      ],
      "execution_count": 0,
      "outputs": [
        {
          "output_type": "stream",
          "text": [
            "(59148,)\n",
            "(50000,)\n",
            "(59148,)\n",
            "(50000,)\n"
          ],
          "name": "stdout"
        }
      ]
    },
    {
      "cell_type": "markdown",
      "metadata": {
        "colab_type": "text",
        "id": "7JYArTJBcJen"
      },
      "source": [
        "##### BOW Classifier"
      ]
    },
    {
      "cell_type": "code",
      "metadata": {
        "colab_type": "code",
        "id": "rgSRrjEucJeo",
        "colab": {}
      },
      "source": [
        "#bag of words classification\n",
        "pred_bow_oversample_glove_ratio1 = bow_classification(comment_train=comment_train, comment_test=comment_test)"
      ],
      "execution_count": 0,
      "outputs": []
    },
    {
      "cell_type": "markdown",
      "metadata": {
        "colab_type": "text",
        "id": "qc93XXTjcJes"
      },
      "source": [
        "##### Calculate Evaluation Metrics"
      ]
    },
    {
      "cell_type": "code",
      "metadata": {
        "colab_type": "code",
        "id": "x7t20T2ncJet",
        "colab": {}
      },
      "source": [
        "#calculate class predictions\n",
        "pred_bow_oversample_glove_ratio1_class = class_prediction(pred_bow_oversample_glove_ratio1)"
      ],
      "execution_count": 0,
      "outputs": []
    },
    {
      "cell_type": "code",
      "metadata": {
        "colab_type": "code",
        "outputId": "f00f904d-b86e-4891-e4b3-655e57004209",
        "id": "0MPY9eAGcJe0",
        "colab": {
          "base_uri": "https://localhost:8080/",
          "height": 84
        }
      },
      "source": [
        "#construct confusion matrix\n",
        "confusion_matrix_bow_oversample_glove_ratio1 = conf_matrix(pred_bow_oversample_glove_ratio1_class['class_pred'], text_classification_test_reduced.published)\n",
        "print(confusion_matrix_bow_oversample_glove_ratio1)"
      ],
      "execution_count": 0,
      "outputs": [
        {
          "output_type": "stream",
          "text": [
            "Predicted     0      1\n",
            "True                  \n",
            "0          1558   4864\n",
            "1          6052  37526\n"
          ],
          "name": "stdout"
        }
      ]
    },
    {
      "cell_type": "markdown",
      "metadata": {
        "colab_type": "text",
        "id": "tVH66qWRcJe-"
      },
      "source": [
        "##### Evaluation Metrics: F1, AUC, ACC"
      ]
    },
    {
      "cell_type": "code",
      "metadata": {
        "colab_type": "code",
        "outputId": "99a9de63-1426-4b7c-a81a-17ed9a0c2a10",
        "id": "6fbCe-qLcJe_",
        "colab": {
          "base_uri": "https://localhost:8080/",
          "height": 67
        }
      },
      "source": [
        "import sklearn\n",
        "\n",
        "#calculate evaluation metrics\n",
        "f1_bow_oversample_glove_ratio1 = sklearn.metrics.f1_score(text_classification_test_reduced.published, pred_bow_oversample_glove_ratio1_class.class_pred)\n",
        "auc_bow_oversample_glove_ratio1 = sklearn.metrics.roc_auc_score(text_classification_test_reduced.published, pred_bow_oversample_glove_ratio1_class.prob_pred)\n",
        "acc_bow_oversample_glove_ratio1 = sklearn.metrics.accuracy_score(text_classification_test_reduced.published, pred_bow_oversample_glove_ratio1_class.class_pred)\n",
        "\n",
        "print(\"F1:\", f1_bow_oversample_glove_ratio1)\n",
        "print(\"AUC:\", auc_bow_oversample_glove_ratio1)\n",
        "print(\"ACC:\", acc_bow_oversample_glove_ratio1)"
      ],
      "execution_count": 0,
      "outputs": [
        {
          "output_type": "stream",
          "text": [
            "F1: 0.8730225200074446\n",
            "AUC: 0.624903806544461\n",
            "ACC: 0.78168\n"
          ],
          "name": "stdout"
        }
      ]
    },
    {
      "cell_type": "code",
      "metadata": {
        "colab_type": "code",
        "outputId": "b95dfbb9-05a6-4b23-8d63-cc4ada06ac32",
        "id": "HXzV8TgucJfB",
        "colab": {
          "base_uri": "https://localhost:8080/",
          "height": 567
        }
      },
      "source": [
        "#plot roc-auc curve\n",
        "plot_roc_auc(text_classification_test_reduced.published, pred_bow_oversample_glove_ratio1_class.prob_pred)"
      ],
      "execution_count": 0,
      "outputs": [
        {
          "output_type": "display_data",
          "data": {
            "image/png": "[encoded data removed]",
            "text/plain": [
              "<Figure size 864x648 with 1 Axes>"
            ]
          },
          "metadata": {
            "tags": []
          }
        }
      ]
    },
    {
      "cell_type": "markdown",
      "metadata": {
        "colab_type": "text",
        "id": "VCf__hETcJfE"
      },
      "source": [
        "##### Preparation for RNN Classifier"
      ]
    },
    {
      "cell_type": "code",
      "metadata": {
        "colab_type": "code",
        "id": "r7gr1jnhcJfF",
        "colab": {}
      },
      "source": [
        "#tokenization and padding of sequences\n",
        "X_train, X_test = prepare_data_rnn(comment_train, comment_test)"
      ],
      "execution_count": 0,
      "outputs": []
    },
    {
      "cell_type": "markdown",
      "metadata": {
        "colab_type": "text",
        "id": "ACP2MoTkcJfI"
      },
      "source": [
        "##### RNN - Classifier"
      ]
    },
    {
      "cell_type": "code",
      "metadata": {
        "colab_type": "code",
        "outputId": "bf69851c-a60e-4ac7-e7bc-d77e73f70e8b",
        "id": "eEX1kTe0cJfJ",
        "colab": {
          "base_uri": "https://localhost:8080/",
          "height": 371
        }
      },
      "source": [
        "#setting early stopping parameter\n",
        "ea = EarlyStopping(monitor=\"val_loss\", mode=\"min\", patience=5)\n",
        "\n",
        "#train RNN model\n",
        "model.fit(X_train, label_train,\n",
        "          epochs=EPOCHS,\n",
        "          verbose=1,\n",
        "          validation_data=(X_test, label_test),\n",
        "          callbacks=[ea],\n",
        "          batch_size=BATCH_SIZE)"
      ],
      "execution_count": 0,
      "outputs": [
        {
          "output_type": "stream",
          "text": [
            "Train on 59148 samples, validate on 50000 samples\n",
            "Epoch 1/20\n",
            "59148/59148 [==============================] - 37s 624us/step - loss: 0.6522 - acc: 0.6430 - val_loss: 0.5164 - val_acc: 0.8612\n",
            "Epoch 2/20\n",
            "59148/59148 [==============================] - 37s 619us/step - loss: 0.5985 - acc: 0.6767 - val_loss: 0.4827 - val_acc: 0.8440\n",
            "Epoch 3/20\n",
            "59148/59148 [==============================] - 36s 609us/step - loss: 0.5718 - acc: 0.6957 - val_loss: 0.4948 - val_acc: 0.8311\n",
            "Epoch 4/20\n",
            "59148/59148 [==============================] - 36s 602us/step - loss: 0.5559 - acc: 0.7110 - val_loss: 0.4762 - val_acc: 0.8348\n",
            "Epoch 5/20\n",
            "59148/59148 [==============================] - 35s 599us/step - loss: 0.5424 - acc: 0.7208 - val_loss: 0.4984 - val_acc: 0.8050\n",
            "Epoch 6/20\n",
            "59148/59148 [==============================] - 36s 614us/step - loss: 0.5289 - acc: 0.7315 - val_loss: 0.4873 - val_acc: 0.8113\n",
            "Epoch 7/20\n",
            "59148/59148 [==============================] - 36s 601us/step - loss: 0.5187 - acc: 0.7389 - val_loss: 0.4779 - val_acc: 0.8146\n",
            "Epoch 8/20\n",
            "59148/59148 [==============================] - 35s 599us/step - loss: 0.5091 - acc: 0.7465 - val_loss: 0.5153 - val_acc: 0.7789\n",
            "Epoch 9/20\n",
            "59148/59148 [==============================] - 35s 594us/step - loss: 0.4980 - acc: 0.7538 - val_loss: 0.4870 - val_acc: 0.7998\n"
          ],
          "name": "stdout"
        },
        {
          "output_type": "execute_result",
          "data": {
            "text/plain": [
              "<keras.callbacks.History at 0x7f863081bc88>"
            ]
          },
          "metadata": {
            "tags": []
          },
          "execution_count": 228
        }
      ]
    },
    {
      "cell_type": "code",
      "metadata": {
        "colab_type": "code",
        "id": "mMNTdT_5cJfN",
        "colab": {}
      },
      "source": [
        "#predict class probabilities\n",
        "pred_rnn_oversample_glove_ratio1 = model.predict(X_test)"
      ],
      "execution_count": 0,
      "outputs": []
    },
    {
      "cell_type": "markdown",
      "metadata": {
        "colab_type": "text",
        "id": "Pk7mw458cJfb"
      },
      "source": [
        "##### Calculate Evaluation Metrics"
      ]
    },
    {
      "cell_type": "code",
      "metadata": {
        "colab_type": "code",
        "id": "QaNnnKt8cJfc",
        "colab": {}
      },
      "source": [
        "#calculate class predictions\n",
        "pred_rnn_oversample_glove_ratio1_class = class_prediction(pred_rnn_oversample_glove_ratio1)"
      ],
      "execution_count": 0,
      "outputs": []
    },
    {
      "cell_type": "markdown",
      "metadata": {
        "colab_type": "text",
        "id": "IPU5ruGmcJfe"
      },
      "source": [
        "##### Confusion Matrix"
      ]
    },
    {
      "cell_type": "code",
      "metadata": {
        "colab_type": "code",
        "outputId": "47b92d59-0154-4825-9290-6a440bebd0f1",
        "id": "bsc8M-K-cJff",
        "colab": {
          "base_uri": "https://localhost:8080/",
          "height": 84
        }
      },
      "source": [
        "#construct confusion matrix\n",
        "confusion_matrix_rnn_oversample_glove_ratio1 = conf_matrix(pred_rnn_oversample_glove_ratio1_class['class_pred'], text_classification_test_reduced.published)\n",
        "print(confusion_matrix_rnn_oversample_glove_ratio1)"
      ],
      "execution_count": 0,
      "outputs": [
        {
          "output_type": "stream",
          "text": [
            "Predicted     0      1\n",
            "True                  \n",
            "0          1101   5321\n",
            "1          4689  38889\n"
          ],
          "name": "stdout"
        }
      ]
    },
    {
      "cell_type": "markdown",
      "metadata": {
        "colab_type": "text",
        "id": "9_sncizCcJfi"
      },
      "source": [
        "##### Evaluation Metrics: F1, AUC, ACC"
      ]
    },
    {
      "cell_type": "code",
      "metadata": {
        "colab_type": "code",
        "outputId": "bfa3bf07-baf9-4d6a-ec45-3d0b80dd4a81",
        "id": "OuOepsLocJfj",
        "colab": {
          "base_uri": "https://localhost:8080/",
          "height": 67
        }
      },
      "source": [
        "import sklearn\n",
        "\n",
        "#calculate evaluation metrics\n",
        "f1_rnn_oversample_glove_ratio1 = sklearn.metrics.f1_score(text_classification_test_reduced.published, pred_rnn_oversample_glove_ratio1_class.class_pred)\n",
        "auc_rnn_oversample_glove_ratio1 = sklearn.metrics.roc_auc_score(text_classification_test_reduced.published, pred_rnn_oversample_glove_ratio1_class.prob_pred)\n",
        "acc_rnn_oversample_glove_ratio1 = sklearn.metrics.accuracy_score(text_classification_test_reduced.published, pred_rnn_oversample_glove_ratio1_class.class_pred)\n",
        "\n",
        "print(\"F1:\", f1_rnn_oversample_glove_ratio1)\n",
        "print(\"AUC:\", auc_rnn_oversample_glove_ratio1)\n",
        "print(\"ACC:\", acc_rnn_oversample_glove_ratio1)"
      ],
      "execution_count": 0,
      "outputs": [
        {
          "output_type": "stream",
          "text": [
            "F1: 0.8859753041417963\n",
            "AUC: 0.5856981744264829\n",
            "ACC: 0.7998\n"
          ],
          "name": "stdout"
        }
      ]
    },
    {
      "cell_type": "code",
      "metadata": {
        "colab_type": "code",
        "outputId": "c214c0aa-7dcf-4862-d53d-7a2c9ada913d",
        "id": "-IWv4veRcJfm",
        "colab": {
          "base_uri": "https://localhost:8080/",
          "height": 567
        }
      },
      "source": [
        "#plot roc-auc curves\n",
        "plot_roc_auc(text_classification_test_reduced.published, pred_rnn_oversample_glove_ratio1_class.prob_pred)"
      ],
      "execution_count": 0,
      "outputs": [
        {
          "output_type": "display_data",
          "data": {
            "image/png": "[encoded data removed]",
            "text/plain": [
              "<Figure size 864x648 with 1 Axes>"
            ]
          },
          "metadata": {
            "tags": []
          }
        }
      ]
    },
    {
      "cell_type": "code",
      "metadata": {
        "colab_type": "code",
        "outputId": "eee68d27-c365-430b-b471-4aee496632ba",
        "id": "ZlEPdf1UcJfw",
        "colab": {
          "base_uri": "https://localhost:8080/",
          "height": 117
        }
      },
      "source": [
        "#print results for both models\n",
        "print(\"F1 BOW Oversampled Glove:\", f1_bow_oversample_glove_ratio1)\n",
        "print(\"F1 RNN Oversampled Glove:\", f1_rnn_oversample_glove_ratio1)\n",
        "\n",
        "print(\"AUC BOW Oversampled Glove:\", auc_bow_oversample_glove_ratio1)\n",
        "print(\"AUC RNN Oversampled Glove:\", auc_rnn_oversample_glove_ratio1)\n",
        "\n",
        "print(\"ACC BOW Oversampled Glove:\", acc_bow_oversample_glove_ratio1)\n",
        "print(\"ACC RNN Oversampled Glove:\", acc_rnn_oversample_glove_ratio1)"
      ],
      "execution_count": 0,
      "outputs": [
        {
          "output_type": "stream",
          "text": [
            "F1 BOW Oversampled Glove: 0.8730225200074446\n",
            "F1 RNN Oversampled Glove: 0.8859753041417963\n",
            "AUC BOW Oversampled Glove: 0.624903806544461\n",
            "AUC RNN Oversampled Glove: 0.5856981744264829\n",
            "ACC BOW Oversampled Glove: 0.78168\n",
            "ACC RNN Oversampled Glove: 0.7998\n"
          ],
          "name": "stdout"
        }
      ]
    },
    {
      "cell_type": "markdown",
      "metadata": {
        "colab_type": "text",
        "id": "FWU-dYizaHe0"
      },
      "source": [
        "#### Ratio 2"
      ]
    },
    {
      "cell_type": "code",
      "metadata": {
        "colab_type": "code",
        "outputId": "1138d324-097d-4637-8cd5-e942224bce1f",
        "id": "VpkGtH2k72oD",
        "colab": {
          "base_uri": "https://localhost:8080/",
          "height": 196
        }
      },
      "source": [
        "#take sample of glove generated comments\n",
        "glove_gen_comments_ratio2 = glove_gen_comments.sample(n=glove_comments_ratio2, random_state=1)\n",
        "glove_gen_comments_ratio2.head()"
      ],
      "execution_count": 0,
      "outputs": [
        {
          "output_type": "execute_result",
          "data": {
            "text/html": [
              "<div>\n",
              "<style scoped>\n",
              "    .dataframe tbody tr th:only-of-type {\n",
              "        vertical-align: middle;\n",
              "    }\n",
              "\n",
              "    .dataframe tbody tr th {\n",
              "        vertical-align: top;\n",
              "    }\n",
              "\n",
              "    .dataframe thead th {\n",
              "        text-align: right;\n",
              "    }\n",
              "</style>\n",
              "<table border=\"1\" class=\"dataframe\">\n",
              "  <thead>\n",
              "    <tr style=\"text-align: right;\">\n",
              "      <th></th>\n",
              "      <th>text</th>\n",
              "      <th>online</th>\n",
              "    </tr>\n",
              "  </thead>\n",
              "  <tbody>\n",
              "    <tr>\n",
              "      <th>5690</th>\n",
              "      <td>twitter nazikeule eu sonne hinderlich rede deu...</td>\n",
              "      <td>False</td>\n",
              "    </tr>\n",
              "    <tr>\n",
              "      <th>19778</th>\n",
              "      <td>schaden nichts themen hoechsten aufgerufen umh...</td>\n",
              "      <td>False</td>\n",
              "    </tr>\n",
              "    <tr>\n",
              "      <th>28757</th>\n",
              "      <td>schon idee tuerkei kasse geringsten meisten de...</td>\n",
              "      <td>False</td>\n",
              "    </tr>\n",
              "    <tr>\n",
              "      <th>27047</th>\n",
              "      <td>dabei anmassend aktivistin aerzte gepredigt ni...</td>\n",
              "      <td>False</td>\n",
              "    </tr>\n",
              "    <tr>\n",
              "      <th>29804</th>\n",
              "      <td>keinen gegensatz songs untermauert erst glaube...</td>\n",
              "      <td>False</td>\n",
              "    </tr>\n",
              "  </tbody>\n",
              "</table>\n",
              "</div>"
            ],
            "text/plain": [
              "                                                    text  online\n",
              "5690   twitter nazikeule eu sonne hinderlich rede deu...   False\n",
              "19778  schaden nichts themen hoechsten aufgerufen umh...   False\n",
              "28757  schon idee tuerkei kasse geringsten meisten de...   False\n",
              "27047  dabei anmassend aktivistin aerzte gepredigt ni...   False\n",
              "29804  keinen gegensatz songs untermauert erst glaube...   False"
            ]
          },
          "metadata": {
            "tags": []
          },
          "execution_count": 236
        }
      ]
    },
    {
      "cell_type": "markdown",
      "metadata": {
        "colab_type": "text",
        "id": "ZBCmKbxD72oN"
      },
      "source": [
        "##### Extending original Data Set with generated comments"
      ]
    },
    {
      "cell_type": "code",
      "metadata": {
        "colab_type": "code",
        "outputId": "4977d6df-b7bc-4f1c-aeea-f40bd04af9e3",
        "id": "eKZu6ofo72oO",
        "colab": {
          "base_uri": "https://localhost:8080/",
          "height": 196
        }
      },
      "source": [
        "#adding generated comments to original data\n",
        "df_gen_glove_ratio2 = text_classification_train_reduced_small_glove[['text', 'published']].copy()\n",
        "df_gen_glove_ratio2.head()"
      ],
      "execution_count": 0,
      "outputs": [
        {
          "output_type": "execute_result",
          "data": {
            "text/html": [
              "<div>\n",
              "<style scoped>\n",
              "    .dataframe tbody tr th:only-of-type {\n",
              "        vertical-align: middle;\n",
              "    }\n",
              "\n",
              "    .dataframe tbody tr th {\n",
              "        vertical-align: top;\n",
              "    }\n",
              "\n",
              "    .dataframe thead th {\n",
              "        text-align: right;\n",
              "    }\n",
              "</style>\n",
              "<table border=\"1\" class=\"dataframe\">\n",
              "  <thead>\n",
              "    <tr style=\"text-align: right;\">\n",
              "      <th></th>\n",
              "      <th>text</th>\n",
              "      <th>online</th>\n",
              "    </tr>\n",
              "  </thead>\n",
              "  <tbody>\n",
              "    <tr>\n",
              "      <th>1236267</th>\n",
              "      <td>erlauben stamp kannte mann bisher nicht</td>\n",
              "      <td>False</td>\n",
              "    </tr>\n",
              "    <tr>\n",
              "      <th>722238</th>\n",
              "      <td>glaube sahara gibt s genug</td>\n",
              "      <td>True</td>\n",
              "    </tr>\n",
              "    <tr>\n",
              "      <th>312585</th>\n",
              "      <td>zunaechst vielen dank georg differenzierten kl...</td>\n",
              "      <td>True</td>\n",
              "    </tr>\n",
              "    <tr>\n",
              "      <th>1334051</th>\n",
              "      <td>filiz message verstanden suedliche server weit...</td>\n",
              "      <td>False</td>\n",
              "    </tr>\n",
              "    <tr>\n",
              "      <th>531370</th>\n",
              "      <td>dafuer ausfuehrlich lesen seibert denkt fuehlt</td>\n",
              "      <td>False</td>\n",
              "    </tr>\n",
              "  </tbody>\n",
              "</table>\n",
              "</div>"
            ],
            "text/plain": [
              "                                                      text  online\n",
              "1236267            erlauben stamp kannte mann bisher nicht   False\n",
              "722238                          glaube sahara gibt s genug    True\n",
              "312585   zunaechst vielen dank georg differenzierten kl...    True\n",
              "1334051  filiz message verstanden suedliche server weit...   False\n",
              "531370      dafuer ausfuehrlich lesen seibert denkt fuehlt   False"
            ]
          },
          "metadata": {
            "tags": []
          },
          "execution_count": 237
        }
      ]
    },
    {
      "cell_type": "code",
      "metadata": {
        "colab_type": "code",
        "outputId": "ac31cb51-4e66-4ef8-95c2-3041eec7ecca",
        "id": "LiK5kXjO72oa",
        "colab": {
          "base_uri": "https://localhost:8080/",
          "height": 196
        }
      },
      "source": [
        "#extension dataframe\n",
        "glove_gen_ext_ratio2 = pd.DataFrame(glove_gen_comments_ratio2)\n",
        "glove_gen_ext_ratio2['published'] = False\n",
        "glove_gen_ext_ratio2.head()"
      ],
      "execution_count": 0,
      "outputs": [
        {
          "output_type": "execute_result",
          "data": {
            "text/html": [
              "<div>\n",
              "<style scoped>\n",
              "    .dataframe tbody tr th:only-of-type {\n",
              "        vertical-align: middle;\n",
              "    }\n",
              "\n",
              "    .dataframe tbody tr th {\n",
              "        vertical-align: top;\n",
              "    }\n",
              "\n",
              "    .dataframe thead th {\n",
              "        text-align: right;\n",
              "    }\n",
              "</style>\n",
              "<table border=\"1\" class=\"dataframe\">\n",
              "  <thead>\n",
              "    <tr style=\"text-align: right;\">\n",
              "      <th></th>\n",
              "      <th>text</th>\n",
              "      <th>online</th>\n",
              "    </tr>\n",
              "  </thead>\n",
              "  <tbody>\n",
              "    <tr>\n",
              "      <th>5690</th>\n",
              "      <td>twitter nazikeule eu sonne hinderlich rede deu...</td>\n",
              "      <td>False</td>\n",
              "    </tr>\n",
              "    <tr>\n",
              "      <th>19778</th>\n",
              "      <td>schaden nichts themen hoechsten aufgerufen umh...</td>\n",
              "      <td>False</td>\n",
              "    </tr>\n",
              "    <tr>\n",
              "      <th>28757</th>\n",
              "      <td>schon idee tuerkei kasse geringsten meisten de...</td>\n",
              "      <td>False</td>\n",
              "    </tr>\n",
              "    <tr>\n",
              "      <th>27047</th>\n",
              "      <td>dabei anmassend aktivistin aerzte gepredigt ni...</td>\n",
              "      <td>False</td>\n",
              "    </tr>\n",
              "    <tr>\n",
              "      <th>29804</th>\n",
              "      <td>keinen gegensatz songs untermauert erst glaube...</td>\n",
              "      <td>False</td>\n",
              "    </tr>\n",
              "  </tbody>\n",
              "</table>\n",
              "</div>"
            ],
            "text/plain": [
              "                                                    text  online\n",
              "5690   twitter nazikeule eu sonne hinderlich rede deu...   False\n",
              "19778  schaden nichts themen hoechsten aufgerufen umh...   False\n",
              "28757  schon idee tuerkei kasse geringsten meisten de...   False\n",
              "27047  dabei anmassend aktivistin aerzte gepredigt ni...   False\n",
              "29804  keinen gegensatz songs untermauert erst glaube...   False"
            ]
          },
          "metadata": {
            "tags": []
          },
          "execution_count": 238
        }
      ]
    },
    {
      "cell_type": "code",
      "metadata": {
        "colab_type": "code",
        "outputId": "a8d76dd8-b859-431e-f49e-ab0409cb25c3",
        "id": "kX6hyHft72og",
        "colab": {
          "base_uri": "https://localhost:8080/",
          "height": 33
        }
      },
      "source": [
        "#concatenating data frames\n",
        "df_gen_glove_ratio2 = pd.concat([df_gen_glove_ratio2, glove_gen_ext_ratio2])\n",
        "len(df_gen_glove_ratio2)"
      ],
      "execution_count": 0,
      "outputs": [
        {
          "output_type": "execute_result",
          "data": {
            "text/plain": [
              "51615"
            ]
          },
          "metadata": {
            "tags": []
          },
          "execution_count": 239
        }
      ]
    },
    {
      "cell_type": "code",
      "metadata": {
        "colab_type": "code",
        "outputId": "a9d5a88d-0cc7-4cbb-ea13-e909991b05d2",
        "id": "atZoN9Ae72om",
        "colab": {
          "base_uri": "https://localhost:8080/",
          "height": 67
        }
      },
      "source": [
        "#check balancedness\n",
        "df_gen_glove_ratio2['published'].value_counts()"
      ],
      "execution_count": 0,
      "outputs": [
        {
          "output_type": "execute_result",
          "data": {
            "text/plain": [
              "True     38195\n",
              "False    13420\n",
              "Name: online, dtype: int64"
            ]
          },
          "metadata": {
            "tags": []
          },
          "execution_count": 240
        }
      ]
    },
    {
      "cell_type": "code",
      "metadata": {
        "colab_type": "code",
        "outputId": "48fa69a8-2200-47f6-c95c-03665c3e841b",
        "id": "6SBwXoPw72ow",
        "colab": {
          "base_uri": "https://localhost:8080/",
          "height": 33
        }
      },
      "source": [
        "#percentage of published comments\n",
        "perc_published = len(df_gen_glove_ratio2[df_gen_glove_ratio2['published'] == True])/len(df_gen_glove_ratio2)\n",
        "print(perc_published)"
      ],
      "execution_count": 0,
      "outputs": [
        {
          "output_type": "stream",
          "text": [
            "0.7399980625787077\n"
          ],
          "name": "stdout"
        }
      ]
    },
    {
      "cell_type": "markdown",
      "metadata": {
        "colab_type": "text",
        "id": "0qlgjwDK72o0"
      },
      "source": [
        "##### Classification with balanced Dataset using GloVe Comments"
      ]
    },
    {
      "cell_type": "code",
      "metadata": {
        "colab_type": "code",
        "outputId": "f801cb99-9c0f-49e6-dd5e-aaee672d3028",
        "id": "aMNyT7SP72o1",
        "colab": {
          "base_uri": "https://localhost:8080/",
          "height": 196
        }
      },
      "source": [
        "#extracting texts and labels from data frame\n",
        "comment = pd.DataFrame()\n",
        "\n",
        "comment['text'] = df_gen_glove_ratio2['text']\n",
        "comment['label'] = df_gen_glove_ratio2['published']\n",
        "\n",
        "comment.head()"
      ],
      "execution_count": 0,
      "outputs": [
        {
          "output_type": "execute_result",
          "data": {
            "text/html": [
              "<div>\n",
              "<style scoped>\n",
              "    .dataframe tbody tr th:only-of-type {\n",
              "        vertical-align: middle;\n",
              "    }\n",
              "\n",
              "    .dataframe tbody tr th {\n",
              "        vertical-align: top;\n",
              "    }\n",
              "\n",
              "    .dataframe thead th {\n",
              "        text-align: right;\n",
              "    }\n",
              "</style>\n",
              "<table border=\"1\" class=\"dataframe\">\n",
              "  <thead>\n",
              "    <tr style=\"text-align: right;\">\n",
              "      <th></th>\n",
              "      <th>text</th>\n",
              "      <th>label</th>\n",
              "    </tr>\n",
              "  </thead>\n",
              "  <tbody>\n",
              "    <tr>\n",
              "      <th>1236267</th>\n",
              "      <td>erlauben stamp kannte mann bisher nicht</td>\n",
              "      <td>False</td>\n",
              "    </tr>\n",
              "    <tr>\n",
              "      <th>722238</th>\n",
              "      <td>glaube sahara gibt s genug</td>\n",
              "      <td>True</td>\n",
              "    </tr>\n",
              "    <tr>\n",
              "      <th>312585</th>\n",
              "      <td>zunaechst vielen dank georg differenzierten kl...</td>\n",
              "      <td>True</td>\n",
              "    </tr>\n",
              "    <tr>\n",
              "      <th>1334051</th>\n",
              "      <td>filiz message verstanden suedliche server weit...</td>\n",
              "      <td>False</td>\n",
              "    </tr>\n",
              "    <tr>\n",
              "      <th>531370</th>\n",
              "      <td>dafuer ausfuehrlich lesen seibert denkt fuehlt</td>\n",
              "      <td>False</td>\n",
              "    </tr>\n",
              "  </tbody>\n",
              "</table>\n",
              "</div>"
            ],
            "text/plain": [
              "                                                      text  label\n",
              "1236267            erlauben stamp kannte mann bisher nicht  False\n",
              "722238                          glaube sahara gibt s genug   True\n",
              "312585   zunaechst vielen dank georg differenzierten kl...   True\n",
              "1334051  filiz message verstanden suedliche server weit...  False\n",
              "531370      dafuer ausfuehrlich lesen seibert denkt fuehlt  False"
            ]
          },
          "metadata": {
            "tags": []
          },
          "execution_count": 242
        }
      ]
    },
    {
      "cell_type": "code",
      "metadata": {
        "colab_type": "code",
        "id": "zKR9YSsf72o5",
        "colab": {}
      },
      "source": [
        "#prepare training set\n",
        "comment_train = comment['text']\n",
        "label_train = comment['label']"
      ],
      "execution_count": 0,
      "outputs": []
    },
    {
      "cell_type": "code",
      "metadata": {
        "colab_type": "code",
        "outputId": "a2ed1e1b-f561-4f0c-d0fd-45d3901afbea",
        "id": "Dm0Sd8at72pC",
        "colab": {
          "base_uri": "https://localhost:8080/",
          "height": 84
        }
      },
      "source": [
        "print(comment_train.shape)\n",
        "print(comment_test.shape)\n",
        "print(label_train.shape)\n",
        "print(label_test.shape)"
      ],
      "execution_count": 0,
      "outputs": [
        {
          "output_type": "stream",
          "text": [
            "(51615,)\n",
            "(50000,)\n",
            "(51615,)\n",
            "(50000,)\n"
          ],
          "name": "stdout"
        }
      ]
    },
    {
      "cell_type": "markdown",
      "metadata": {
        "colab_type": "text",
        "id": "ib7ejdl472pG"
      },
      "source": [
        "##### BOW Classifier"
      ]
    },
    {
      "cell_type": "code",
      "metadata": {
        "colab_type": "code",
        "id": "CaWlx5WC72pI",
        "colab": {}
      },
      "source": [
        "#bag of words classification\n",
        "pred_bow_oversample_glove_ratio2 = bow_classification(comment_train=comment_train, comment_test=comment_test)"
      ],
      "execution_count": 0,
      "outputs": []
    },
    {
      "cell_type": "markdown",
      "metadata": {
        "colab_type": "text",
        "id": "OCUMbccP72pM"
      },
      "source": [
        "##### Calculate Evaluation Metrics"
      ]
    },
    {
      "cell_type": "code",
      "metadata": {
        "colab_type": "code",
        "id": "hyaQVOxJ72pN",
        "colab": {}
      },
      "source": [
        "#calculate class predictions\n",
        "pred_bow_oversample_glove_ratio2_class = class_prediction(pred_bow_oversample_glove_ratio2)"
      ],
      "execution_count": 0,
      "outputs": []
    },
    {
      "cell_type": "code",
      "metadata": {
        "colab_type": "code",
        "outputId": "a91579d4-2e32-43e8-e474-a1de669c0258",
        "id": "CWi-HwHZ72pS",
        "colab": {
          "base_uri": "https://localhost:8080/",
          "height": 84
        }
      },
      "source": [
        "#construcs confusion matrix\n",
        "confusion_matrix_bow_oversample_glove_ratio2 = conf_matrix(pred_bow_oversample_glove_ratio2_class['class_pred'], text_classification_test_reduced.published)\n",
        "print(confusion_matrix_bow_oversample_glove_ratio2)"
      ],
      "execution_count": 0,
      "outputs": [
        {
          "output_type": "stream",
          "text": [
            "Predicted     0      1\n",
            "True                  \n",
            "0          1007   5415\n",
            "1          3533  40045\n"
          ],
          "name": "stdout"
        }
      ]
    },
    {
      "cell_type": "markdown",
      "metadata": {
        "colab_type": "text",
        "id": "SmK8P__Q72pW"
      },
      "source": [
        "##### Evaluation Metrics: F1, AUC, ACC"
      ]
    },
    {
      "cell_type": "code",
      "metadata": {
        "colab_type": "code",
        "outputId": "285eb2b7-fa5d-4cd8-f745-f4ad05b6f9e6",
        "id": "amrScUEU72pX",
        "colab": {
          "base_uri": "https://localhost:8080/",
          "height": 67
        }
      },
      "source": [
        "import sklearn\n",
        "\n",
        "#calculate evaluation metrics\n",
        "f1_bow_oversample_glove_ratio2 = sklearn.metrics.f1_score(text_classification_test_reduced.published, pred_bow_oversample_glove_ratio2_class.class_pred)\n",
        "auc_bow_oversample_glove_ratio2 = sklearn.metrics.roc_auc_score(text_classification_test_reduced.published, pred_bow_oversample_glove_ratio2_class.prob_pred)\n",
        "acc_bow_oversample_glove_ratio2 = sklearn.metrics.accuracy_score(text_classification_test_reduced.published, pred_bow_oversample_glove_ratio2_class.class_pred)\n",
        "\n",
        "print(\"F1:\", f1_bow_oversample_glove_ratio2)\n",
        "print(\"AUC:\", auc_bow_oversample_glove_ratio2)\n",
        "print(\"ACC:\", acc_bow_oversample_glove_ratio2)"
      ],
      "execution_count": 0,
      "outputs": [
        {
          "output_type": "stream",
          "text": [
            "F1: 0.8995035827399539\n",
            "AUC: 0.6278661794222751\n",
            "ACC: 0.82104\n"
          ],
          "name": "stdout"
        }
      ]
    },
    {
      "cell_type": "code",
      "metadata": {
        "colab_type": "code",
        "outputId": "76b16a60-b927-40d9-fc30-1b991ebeddc7",
        "id": "p5jNGucJ72pj",
        "colab": {
          "base_uri": "https://localhost:8080/",
          "height": 567
        }
      },
      "source": [
        "#plot roc-auc curve\n",
        "plot_roc_auc(text_classification_test_reduced.published, pred_bow_oversample_glove_ratio2_class.prob_pred)"
      ],
      "execution_count": 0,
      "outputs": [
        {
          "output_type": "display_data",
          "data": {
            "image/png": "[encoded data removed]",
            "text/plain": [
              "<Figure size 864x648 with 1 Axes>"
            ]
          },
          "metadata": {
            "tags": []
          }
        }
      ]
    },
    {
      "cell_type": "markdown",
      "metadata": {
        "colab_type": "text",
        "id": "WcK7U0Cm72po"
      },
      "source": [
        "##### Preparation for RNN Classifier"
      ]
    },
    {
      "cell_type": "code",
      "metadata": {
        "colab_type": "code",
        "id": "QU5r2xgm72pp",
        "colab": {}
      },
      "source": [
        "#tokenization and padding of sequences\n",
        "X_train, X_test = prepare_data_rnn(comment_train, comment_test)"
      ],
      "execution_count": 0,
      "outputs": []
    },
    {
      "cell_type": "markdown",
      "metadata": {
        "colab_type": "text",
        "id": "m6Mi7RIu72pt"
      },
      "source": [
        "##### RNN - Classifier"
      ]
    },
    {
      "cell_type": "code",
      "metadata": {
        "colab_type": "code",
        "outputId": "daa136ad-ee46-410e-c289-898e65f76991",
        "id": "EWm7fzge72pu",
        "colab": {
          "base_uri": "https://localhost:8080/",
          "height": 371
        }
      },
      "source": [
        "#setting early stopping parameter\n",
        "ea = EarlyStopping(monitor=\"val_loss\", mode=\"min\", patience=5)\n",
        "\n",
        "#train RNN model\n",
        "model.fit(X_train, label_train,\n",
        "          epochs=EPOCHS,\n",
        "          verbose=1,\n",
        "          validation_data=(X_test, label_test),\n",
        "          callbacks=[ea],\n",
        "          batch_size=BATCH_SIZE)"
      ],
      "execution_count": 0,
      "outputs": [
        {
          "output_type": "stream",
          "text": [
            "Train on 51615 samples, validate on 50000 samples\n",
            "Epoch 1/20\n",
            "51615/51615 [==============================] - 32s 620us/step - loss: 0.5738 - acc: 0.7343 - val_loss: 0.4477 - val_acc: 0.8704\n",
            "Epoch 2/20\n",
            "51615/51615 [==============================] - 32s 627us/step - loss: 0.5517 - acc: 0.7405 - val_loss: 0.4420 - val_acc: 0.8684\n",
            "Epoch 3/20\n",
            "51615/51615 [==============================] - 32s 619us/step - loss: 0.5359 - acc: 0.7506 - val_loss: 0.4345 - val_acc: 0.8621\n",
            "Epoch 4/20\n",
            "51615/51615 [==============================] - 32s 623us/step - loss: 0.5168 - acc: 0.7628 - val_loss: 0.4226 - val_acc: 0.8640\n",
            "Epoch 5/20\n",
            "51615/51615 [==============================] - 32s 612us/step - loss: 0.5015 - acc: 0.7717 - val_loss: 0.4258 - val_acc: 0.8589\n",
            "Epoch 6/20\n",
            "51615/51615 [==============================] - 32s 617us/step - loss: 0.4917 - acc: 0.7774 - val_loss: 0.4531 - val_acc: 0.8388\n",
            "Epoch 7/20\n",
            "51615/51615 [==============================] - 32s 615us/step - loss: 0.4823 - acc: 0.7813 - val_loss: 0.4430 - val_acc: 0.8429\n",
            "Epoch 8/20\n",
            "51615/51615 [==============================] - 32s 613us/step - loss: 0.4748 - acc: 0.7868 - val_loss: 0.4389 - val_acc: 0.8480\n",
            "Epoch 9/20\n",
            "51615/51615 [==============================] - 33s 633us/step - loss: 0.4640 - acc: 0.7892 - val_loss: 0.4257 - val_acc: 0.8485\n"
          ],
          "name": "stdout"
        },
        {
          "output_type": "execute_result",
          "data": {
            "text/plain": [
              "<keras.callbacks.History at 0x7f862fcd77b8>"
            ]
          },
          "metadata": {
            "tags": []
          },
          "execution_count": 251
        }
      ]
    },
    {
      "cell_type": "code",
      "metadata": {
        "colab_type": "code",
        "id": "tMwVdfHx72py",
        "colab": {}
      },
      "source": [
        "#predict class probabilities\n",
        "pred_rnn_oversample_glove_ratio2 = model.predict(X_test)"
      ],
      "execution_count": 0,
      "outputs": []
    },
    {
      "cell_type": "markdown",
      "metadata": {
        "colab_type": "text",
        "id": "8jCaJbt-72p4"
      },
      "source": [
        "##### Calculate Evaluation Metrics"
      ]
    },
    {
      "cell_type": "code",
      "metadata": {
        "colab_type": "code",
        "id": "E6hVTS7U72p5",
        "colab": {}
      },
      "source": [
        "#calculate class predictions\n",
        "pred_rnn_oversample_glove_ratio2_class = class_prediction(pred_rnn_oversample_glove_ratio2)"
      ],
      "execution_count": 0,
      "outputs": []
    },
    {
      "cell_type": "markdown",
      "metadata": {
        "colab_type": "text",
        "id": "jbKL3KYZ72qF"
      },
      "source": [
        "##### Confusion Matrix"
      ]
    },
    {
      "cell_type": "code",
      "metadata": {
        "colab_type": "code",
        "outputId": "9e6eeaca-8519-4200-b188-e91dc8645743",
        "id": "SLtVIggL72qH",
        "colab": {
          "base_uri": "https://localhost:8080/",
          "height": 84
        }
      },
      "source": [
        "#construct confusion matrix\n",
        "confusion_matrix_rnn_oversample_glove_ratio2 = conf_matrix(pred_rnn_oversample_glove_ratio2_class['class_pred'], text_classification_test_reduced.published)\n",
        "print(confusion_matrix_rnn_oversample_glove_ratio2)"
      ],
      "execution_count": 0,
      "outputs": [
        {
          "output_type": "stream",
          "text": [
            "Predicted     0      1\n",
            "True                  \n",
            "0           343   6079\n",
            "1          1495  42083\n"
          ],
          "name": "stdout"
        }
      ]
    },
    {
      "cell_type": "markdown",
      "metadata": {
        "colab_type": "text",
        "id": "0uAjJ2Yt72qL"
      },
      "source": [
        "##### Evaluation Metrics: F1, AUC, ACC"
      ]
    },
    {
      "cell_type": "code",
      "metadata": {
        "colab_type": "code",
        "outputId": "108eb6b1-8464-48f7-dc36-e12ecd2595ba",
        "id": "GaKDyvaQ72qO",
        "colab": {
          "base_uri": "https://localhost:8080/",
          "height": 67
        }
      },
      "source": [
        "import sklearn\n",
        "\n",
        "#calculate evaluation metrics\n",
        "f1_rnn_oversample_glove_ratio2 = sklearn.metrics.f1_score(text_classification_test_reduced.published, pred_rnn_oversample_glove_ratio2_class.class_pred)\n",
        "auc_rnn_oversample_glove_ratio2 = sklearn.metrics.roc_auc_score(text_classification_test_reduced.published, pred_rnn_oversample_glove_ratio2_class.prob_pred)\n",
        "acc_rnn_oversample_glove_ratio2 = sklearn.metrics.accuracy_score(text_classification_test_reduced.published, pred_rnn_oversample_glove_ratio2_class.class_pred)\n",
        "\n",
        "print(\"F1:\", f1_rnn_oversample_glove_ratio2)\n",
        "print(\"AUC:\", auc_rnn_oversample_glove_ratio2)\n",
        "print(\"ACC:\", acc_rnn_oversample_glove_ratio2)"
      ],
      "execution_count": 0,
      "outputs": [
        {
          "output_type": "stream",
          "text": [
            "F1: 0.9174405929801612\n",
            "AUC: 0.5883041914740764\n",
            "ACC: 0.84852\n"
          ],
          "name": "stdout"
        }
      ]
    },
    {
      "cell_type": "code",
      "metadata": {
        "colab_type": "code",
        "outputId": "0a4644b8-ba5e-4d68-893d-5aec9aa2ba0b",
        "id": "J3X9SMI272qS",
        "colab": {
          "base_uri": "https://localhost:8080/",
          "height": 567
        }
      },
      "source": [
        "#plot roc-auc curve\n",
        "plot_roc_auc(text_classification_test_reduced.published, pred_rnn_oversample_glove_ratio2_class.prob_pred)"
      ],
      "execution_count": 0,
      "outputs": [
        {
          "output_type": "display_data",
          "data": {
            "image/png": "[encoded data removed]",
            "text/plain": [
              "<Figure size 864x648 with 1 Axes>"
            ]
          },
          "metadata": {
            "tags": []
          }
        }
      ]
    },
    {
      "cell_type": "code",
      "metadata": {
        "colab_type": "code",
        "outputId": "fb8fe07e-73fb-4078-b915-da402b22ff83",
        "id": "9vP9Yftx72qW",
        "colab": {
          "base_uri": "https://localhost:8080/",
          "height": 117
        }
      },
      "source": [
        "#print resulats for both models\n",
        "print(\"F1 BOW Oversampled Glove:\", f1_bow_oversample_glove_ratio2)\n",
        "print(\"F1 RNN Oversampled Glove:\", f1_rnn_oversample_glove_ratio2)\n",
        "\n",
        "print(\"AUC BOW Oversampled Glove:\", auc_bow_oversample_glove_ratio2)\n",
        "print(\"AUC RNN Oversampled Glove:\", auc_rnn_oversample_glove_ratio2)\n",
        "\n",
        "print(\"ACC BOW Oversampled Glove:\", acc_bow_oversample_glove_ratio2)\n",
        "print(\"ACC RNN Oversampled Glove:\", acc_rnn_oversample_glove_ratio2)"
      ],
      "execution_count": 0,
      "outputs": [
        {
          "output_type": "stream",
          "text": [
            "F1 BOW Oversampled Glove: 0.8995035827399539\n",
            "F1 RNN Oversampled Glove: 0.9174405929801612\n",
            "AUC BOW Oversampled Glove: 0.6278661794222751\n",
            "AUC RNN Oversampled Glove: 0.5883041914740764\n",
            "ACC BOW Oversampled Glove: 0.82104\n",
            "ACC RNN Oversampled Glove: 0.84852\n"
          ],
          "name": "stdout"
        }
      ]
    },
    {
      "cell_type": "markdown",
      "metadata": {
        "id": "1L5kCGR5Db3y",
        "colab_type": "text"
      },
      "source": [
        "#### Comparing Results of different Ratios of published and not published comments"
      ]
    },
    {
      "cell_type": "code",
      "metadata": {
        "id": "hbS0coFHDlW_",
        "colab_type": "code",
        "outputId": "6837e268-14ff-4f03-d9b0-05c4e9bd2e3e",
        "colab": {
          "base_uri": "https://localhost:8080/",
          "height": 196
        }
      },
      "source": [
        "#prepare dataframe for visualization\n",
        "data = {'Model':['BOW', 'BOW', 'BOW', 'BOW', 'RNN', 'RNN', 'RNN', 'RNN', 'BOW', 'BOW', 'BOW', 'BOW', 'RNN', 'RNN', 'RNN', 'RNN', 'BOW', 'BOW', 'BOW', 'BOW', 'RNN', 'RNN', 'RNN', 'RNN'],\n",
        "        'Metric':['F1', 'F1', 'F1', 'F1', 'F1', 'F1', 'F1', 'F1', 'AUC', 'AUC', 'AUC', 'AUC', 'AUC', 'AUC', 'AUC', 'AUC', 'ACC', 'ACC', 'ACC', 'ACC', 'ACC', 'ACC', 'ACC', 'ACC'],\n",
        "        'Setting':['Imbalanced', 'Oversample GloVe', 'Oversample GloVe Ratio 1', 'Oversample GloVe Ratio 2', 'Imbalanced', 'Oversample GloVe', 'Oversample GloVe Ratio 1', 'Oversample GloVe Ratio 2', 'Imbalanced', 'Oversample GloVe', 'Oversample GloVe Ratio 1', 'Oversample GloVe Ratio 2', 'Imbalanced', 'Oversample GloVe', 'Oversample GloVe Ratio 1', 'Oversample GloVe Ratio 2', 'Imbalanced', 'Oversample GloVe', 'Oversample GloVe Ratio 1', 'Oversample GloVe Ratio 2', 'Imbalanced', 'Oversample GloVe', 'Oversample GloVe Ratio 1', 'Oversample GloVe Ratio 2'],\n",
        "        'Ratio':['Imbalanced', '50:50', 'Ratio 1', 'Ratio 2', 'Imbalanced', '50:50', 'Ratio 1', 'Ratio 2', 'Imbalanced', '50:50', 'Ratio 1', 'Ratio 2', 'Imbalanced', '50:50', 'Ratio 1', 'Ratio 2', 'Imbalanced', '50:50', 'Ratio 1', 'Ratio 2', 'Imbalanced', '50:50', 'Ratio 1', 'Ratio 2'],\n",
        "        'Value':[f1_bow_imbalanced, f1_bow_oversample_glove, f1_bow_oversample_glove_ratio1, f1_bow_oversample_glove_ratio2, \n",
        "                 f1_rnn_imbalanced, f1_rnn_oversample_glove, f1_rnn_oversample_glove_ratio1, f1_rnn_oversample_glove_ratio2,\n",
        "                 auc_bow_imbalanced, auc_bow_oversample_glove, auc_bow_oversample_glove_ratio1, auc_bow_oversample_glove_ratio2, \n",
        "                 auc_rnn_imbalanced, auc_rnn_oversample_glove, auc_rnn_oversample_glove_ratio1, auc_rnn_oversample_glove_ratio2,\n",
        "                 acc_bow_imbalanced, acc_bow_oversample_glove, acc_bow_oversample_glove_ratio1, acc_bow_oversample_glove_ratio2, \n",
        "                 acc_rnn_imbalanced, acc_rnn_oversample_glove, acc_rnn_oversample_glove_ratio1, acc_rnn_oversample_glove_ratio2]}\n",
        "\n",
        "results_ratio_df = pd.DataFrame(data)\n",
        "\n",
        "results_ratio_df.head()"
      ],
      "execution_count": 0,
      "outputs": [
        {
          "output_type": "execute_result",
          "data": {
            "text/html": [
              "<div>\n",
              "<style scoped>\n",
              "    .dataframe tbody tr th:only-of-type {\n",
              "        vertical-align: middle;\n",
              "    }\n",
              "\n",
              "    .dataframe tbody tr th {\n",
              "        vertical-align: top;\n",
              "    }\n",
              "\n",
              "    .dataframe thead th {\n",
              "        text-align: right;\n",
              "    }\n",
              "</style>\n",
              "<table border=\"1\" class=\"dataframe\">\n",
              "  <thead>\n",
              "    <tr style=\"text-align: right;\">\n",
              "      <th></th>\n",
              "      <th>Model</th>\n",
              "      <th>Metric</th>\n",
              "      <th>Setting</th>\n",
              "      <th>Ratio</th>\n",
              "      <th>Value</th>\n",
              "    </tr>\n",
              "  </thead>\n",
              "  <tbody>\n",
              "    <tr>\n",
              "      <th>0</th>\n",
              "      <td>BOW</td>\n",
              "      <td>F1</td>\n",
              "      <td>Imbalanced</td>\n",
              "      <td>Imbalanced</td>\n",
              "      <td>0.922541</td>\n",
              "    </tr>\n",
              "    <tr>\n",
              "      <th>1</th>\n",
              "      <td>BOW</td>\n",
              "      <td>F1</td>\n",
              "      <td>Oversample GloVe</td>\n",
              "      <td>50:50</td>\n",
              "      <td>0.817953</td>\n",
              "    </tr>\n",
              "    <tr>\n",
              "      <th>2</th>\n",
              "      <td>BOW</td>\n",
              "      <td>F1</td>\n",
              "      <td>Oversample GloVe Ratio 1</td>\n",
              "      <td>Ratio 1</td>\n",
              "      <td>0.873023</td>\n",
              "    </tr>\n",
              "    <tr>\n",
              "      <th>3</th>\n",
              "      <td>BOW</td>\n",
              "      <td>F1</td>\n",
              "      <td>Oversample GloVe Ratio 2</td>\n",
              "      <td>Ratio 2</td>\n",
              "      <td>0.899504</td>\n",
              "    </tr>\n",
              "    <tr>\n",
              "      <th>4</th>\n",
              "      <td>RNN</td>\n",
              "      <td>F1</td>\n",
              "      <td>Imbalanced</td>\n",
              "      <td>Imbalanced</td>\n",
              "      <td>0.931204</td>\n",
              "    </tr>\n",
              "  </tbody>\n",
              "</table>\n",
              "</div>"
            ],
            "text/plain": [
              "  Model Metric                   Setting       Ratio     Value\n",
              "0   BOW     F1                Imbalanced  Imbalanced  0.922541\n",
              "1   BOW     F1          Oversample GloVe       50:50  0.817953\n",
              "2   BOW     F1  Oversample GloVe Ratio 1     Ratio 1  0.873023\n",
              "3   BOW     F1  Oversample GloVe Ratio 2     Ratio 2  0.899504\n",
              "4   RNN     F1                Imbalanced  Imbalanced  0.931204"
            ]
          },
          "metadata": {
            "tags": []
          },
          "execution_count": 259
        }
      ]
    },
    {
      "cell_type": "markdown",
      "metadata": {
        "id": "-6lOX8gIHk6a",
        "colab_type": "text"
      },
      "source": [
        "##### Visualize Results of different Ratios"
      ]
    },
    {
      "cell_type": "code",
      "metadata": {
        "colab_type": "code",
        "id": "avRPaA-HHjfW",
        "colab": {}
      },
      "source": [
        "#setting ffigure size\n",
        "fig_size = plt.rcParams[\"figure.figsize\"]\n",
        "fig_size[0] = 15\n",
        "fig_size[1] = 12\n",
        "plt.rcParams[\"figure.figsize\"] = fig_size"
      ],
      "execution_count": 0,
      "outputs": []
    },
    {
      "cell_type": "code",
      "metadata": {
        "colab_type": "code",
        "outputId": "ed329bcf-b6b7-4a3a-b361-e360e8ac8a9a",
        "id": "D54M3IL2Hjfs",
        "colab": {
          "base_uri": "https://localhost:8080/",
          "height": 385
        }
      },
      "source": [
        "#plot results\n",
        "plt.figure(figsize=(10,5))\n",
        "\n",
        "chart = sns.catplot(x=\"Metric\", y=\"Value\", hue=\"Ratio\", col=\"Model\", data=results_ratio_df, kind=\"bar\", ci=None)"
      ],
      "execution_count": 0,
      "outputs": [
        {
          "output_type": "display_data",
          "data": {
            "text/plain": [
              "<Figure size 720x360 with 0 Axes>"
            ]
          },
          "metadata": {
            "tags": []
          }
        },
        {
          "output_type": "display_data",
          "data": {
            "image/png": "[encoded data removed]",
            "text/plain": [
              "<Figure size 814.25x360 with 2 Axes>"
            ]
          },
          "metadata": {
            "tags": []
          }
        }
      ]
    }
  ]
}